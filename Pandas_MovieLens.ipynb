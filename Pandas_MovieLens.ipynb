{
  "nbformat": 4,
  "nbformat_minor": 0,
  "metadata": {
    "kernelspec": {
      "display_name": "Python 3",
      "language": "python",
      "name": "python3"
    },
    "language_info": {
      "codemirror_mode": {
        "name": "ipython",
        "version": 3
      },
      "file_extension": ".py",
      "mimetype": "text/x-python",
      "name": "python",
      "nbconvert_exporter": "python",
      "pygments_lexer": "ipython3",
      "version": "3.7.4"
    },
    "colab": {
      "name": "Pandas-MovieLens.ipynb",
      "provenance": [],
      "include_colab_link": true
    }
  },
  "cells": [
    {
      "cell_type": "markdown",
      "metadata": {
        "id": "view-in-github",
        "colab_type": "text"
      },
      "source": [
        "<a href=\"https://colab.research.google.com/github/annagradziel12/Pandas/blob/master/Pandas_MovieLens.ipynb\" target=\"_parent\"><img src=\"https://colab.research.google.com/assets/colab-badge.svg\" alt=\"Open In Colab\"/></a>"
      ]
    },
    {
      "cell_type": "code",
      "metadata": {
        "id": "744VLMY-ss6u",
        "colab_type": "code",
        "colab": {}
      },
      "source": [
        "import pandas as pd\n",
        "import numpy as np"
      ],
      "execution_count": null,
      "outputs": []
    },
    {
      "cell_type": "code",
      "metadata": {
        "collapsed": true,
        "id": "sDwttc3Pss6x",
        "colab_type": "code",
        "colab": {},
        "outputId": "4bc709ca-0bf1-4333-9922-48fc74ea306f"
      },
      "source": [
        "pd.read_csv(\"ml-1m/movies.dat\", sep=\"::\", engine=\"python\", header=None)"
      ],
      "execution_count": null,
      "outputs": [
        {
          "output_type": "execute_result",
          "data": {
            "text/html": [
              "<div>\n",
              "<style scoped>\n",
              "    .dataframe tbody tr th:only-of-type {\n",
              "        vertical-align: middle;\n",
              "    }\n",
              "\n",
              "    .dataframe tbody tr th {\n",
              "        vertical-align: top;\n",
              "    }\n",
              "\n",
              "    .dataframe thead th {\n",
              "        text-align: right;\n",
              "    }\n",
              "</style>\n",
              "<table border=\"1\" class=\"dataframe\">\n",
              "  <thead>\n",
              "    <tr style=\"text-align: right;\">\n",
              "      <th></th>\n",
              "      <th>0</th>\n",
              "      <th>1</th>\n",
              "      <th>2</th>\n",
              "    </tr>\n",
              "  </thead>\n",
              "  <tbody>\n",
              "    <tr>\n",
              "      <td>0</td>\n",
              "      <td>1</td>\n",
              "      <td>Toy Story (1995)</td>\n",
              "      <td>Animation|Children's|Comedy</td>\n",
              "    </tr>\n",
              "    <tr>\n",
              "      <td>1</td>\n",
              "      <td>2</td>\n",
              "      <td>Jumanji (1995)</td>\n",
              "      <td>Adventure|Children's|Fantasy</td>\n",
              "    </tr>\n",
              "    <tr>\n",
              "      <td>2</td>\n",
              "      <td>3</td>\n",
              "      <td>Grumpier Old Men (1995)</td>\n",
              "      <td>Comedy|Romance</td>\n",
              "    </tr>\n",
              "    <tr>\n",
              "      <td>3</td>\n",
              "      <td>4</td>\n",
              "      <td>Waiting to Exhale (1995)</td>\n",
              "      <td>Comedy|Drama</td>\n",
              "    </tr>\n",
              "    <tr>\n",
              "      <td>4</td>\n",
              "      <td>5</td>\n",
              "      <td>Father of the Bride Part II (1995)</td>\n",
              "      <td>Comedy</td>\n",
              "    </tr>\n",
              "    <tr>\n",
              "      <td>...</td>\n",
              "      <td>...</td>\n",
              "      <td>...</td>\n",
              "      <td>...</td>\n",
              "    </tr>\n",
              "    <tr>\n",
              "      <td>3878</td>\n",
              "      <td>3948</td>\n",
              "      <td>Meet the Parents (2000)</td>\n",
              "      <td>Comedy</td>\n",
              "    </tr>\n",
              "    <tr>\n",
              "      <td>3879</td>\n",
              "      <td>3949</td>\n",
              "      <td>Requiem for a Dream (2000)</td>\n",
              "      <td>Drama</td>\n",
              "    </tr>\n",
              "    <tr>\n",
              "      <td>3880</td>\n",
              "      <td>3950</td>\n",
              "      <td>Tigerland (2000)</td>\n",
              "      <td>Drama</td>\n",
              "    </tr>\n",
              "    <tr>\n",
              "      <td>3881</td>\n",
              "      <td>3951</td>\n",
              "      <td>Two Family House (2000)</td>\n",
              "      <td>Drama</td>\n",
              "    </tr>\n",
              "    <tr>\n",
              "      <td>3882</td>\n",
              "      <td>3952</td>\n",
              "      <td>Contender, The (2000)</td>\n",
              "      <td>Drama|Thriller</td>\n",
              "    </tr>\n",
              "  </tbody>\n",
              "</table>\n",
              "<p>3883 rows × 3 columns</p>\n",
              "</div>"
            ],
            "text/plain": [
              "         0                                   1                             2\n",
              "0        1                    Toy Story (1995)   Animation|Children's|Comedy\n",
              "1        2                      Jumanji (1995)  Adventure|Children's|Fantasy\n",
              "2        3             Grumpier Old Men (1995)                Comedy|Romance\n",
              "3        4            Waiting to Exhale (1995)                  Comedy|Drama\n",
              "4        5  Father of the Bride Part II (1995)                        Comedy\n",
              "...    ...                                 ...                           ...\n",
              "3878  3948             Meet the Parents (2000)                        Comedy\n",
              "3879  3949          Requiem for a Dream (2000)                         Drama\n",
              "3880  3950                    Tigerland (2000)                         Drama\n",
              "3881  3951             Two Family House (2000)                         Drama\n",
              "3882  3952               Contender, The (2000)                Drama|Thriller\n",
              "\n",
              "[3883 rows x 3 columns]"
            ]
          },
          "metadata": {
            "tags": []
          },
          "execution_count": 7
        }
      ]
    },
    {
      "cell_type": "code",
      "metadata": {
        "id": "XW_4UFcjss60",
        "colab_type": "code",
        "colab": {},
        "outputId": "9223963d-1fff-4b2b-f786-6c9ab3a72a1f"
      },
      "source": [
        "pd.read_csv(\"ml-1m/movies.dat\", sep=\"::\",\n",
        "            engine=\"python\", names=[\"MovieID\", \"Title\", \"Genres\"])"
      ],
      "execution_count": null,
      "outputs": [
        {
          "output_type": "execute_result",
          "data": {
            "text/html": [
              "<div>\n",
              "<style scoped>\n",
              "    .dataframe tbody tr th:only-of-type {\n",
              "        vertical-align: middle;\n",
              "    }\n",
              "\n",
              "    .dataframe tbody tr th {\n",
              "        vertical-align: top;\n",
              "    }\n",
              "\n",
              "    .dataframe thead th {\n",
              "        text-align: right;\n",
              "    }\n",
              "</style>\n",
              "<table border=\"1\" class=\"dataframe\">\n",
              "  <thead>\n",
              "    <tr style=\"text-align: right;\">\n",
              "      <th></th>\n",
              "      <th>MovieID</th>\n",
              "      <th>Title</th>\n",
              "      <th>Genres</th>\n",
              "    </tr>\n",
              "  </thead>\n",
              "  <tbody>\n",
              "    <tr>\n",
              "      <td>0</td>\n",
              "      <td>1</td>\n",
              "      <td>Toy Story (1995)</td>\n",
              "      <td>Animation|Children's|Comedy</td>\n",
              "    </tr>\n",
              "    <tr>\n",
              "      <td>1</td>\n",
              "      <td>2</td>\n",
              "      <td>Jumanji (1995)</td>\n",
              "      <td>Adventure|Children's|Fantasy</td>\n",
              "    </tr>\n",
              "    <tr>\n",
              "      <td>2</td>\n",
              "      <td>3</td>\n",
              "      <td>Grumpier Old Men (1995)</td>\n",
              "      <td>Comedy|Romance</td>\n",
              "    </tr>\n",
              "    <tr>\n",
              "      <td>3</td>\n",
              "      <td>4</td>\n",
              "      <td>Waiting to Exhale (1995)</td>\n",
              "      <td>Comedy|Drama</td>\n",
              "    </tr>\n",
              "    <tr>\n",
              "      <td>4</td>\n",
              "      <td>5</td>\n",
              "      <td>Father of the Bride Part II (1995)</td>\n",
              "      <td>Comedy</td>\n",
              "    </tr>\n",
              "    <tr>\n",
              "      <td>...</td>\n",
              "      <td>...</td>\n",
              "      <td>...</td>\n",
              "      <td>...</td>\n",
              "    </tr>\n",
              "    <tr>\n",
              "      <td>3878</td>\n",
              "      <td>3948</td>\n",
              "      <td>Meet the Parents (2000)</td>\n",
              "      <td>Comedy</td>\n",
              "    </tr>\n",
              "    <tr>\n",
              "      <td>3879</td>\n",
              "      <td>3949</td>\n",
              "      <td>Requiem for a Dream (2000)</td>\n",
              "      <td>Drama</td>\n",
              "    </tr>\n",
              "    <tr>\n",
              "      <td>3880</td>\n",
              "      <td>3950</td>\n",
              "      <td>Tigerland (2000)</td>\n",
              "      <td>Drama</td>\n",
              "    </tr>\n",
              "    <tr>\n",
              "      <td>3881</td>\n",
              "      <td>3951</td>\n",
              "      <td>Two Family House (2000)</td>\n",
              "      <td>Drama</td>\n",
              "    </tr>\n",
              "    <tr>\n",
              "      <td>3882</td>\n",
              "      <td>3952</td>\n",
              "      <td>Contender, The (2000)</td>\n",
              "      <td>Drama|Thriller</td>\n",
              "    </tr>\n",
              "  </tbody>\n",
              "</table>\n",
              "<p>3883 rows × 3 columns</p>\n",
              "</div>"
            ],
            "text/plain": [
              "      MovieID                               Title  \\\n",
              "0           1                    Toy Story (1995)   \n",
              "1           2                      Jumanji (1995)   \n",
              "2           3             Grumpier Old Men (1995)   \n",
              "3           4            Waiting to Exhale (1995)   \n",
              "4           5  Father of the Bride Part II (1995)   \n",
              "...       ...                                 ...   \n",
              "3878     3948             Meet the Parents (2000)   \n",
              "3879     3949          Requiem for a Dream (2000)   \n",
              "3880     3950                    Tigerland (2000)   \n",
              "3881     3951             Two Family House (2000)   \n",
              "3882     3952               Contender, The (2000)   \n",
              "\n",
              "                            Genres  \n",
              "0      Animation|Children's|Comedy  \n",
              "1     Adventure|Children's|Fantasy  \n",
              "2                   Comedy|Romance  \n",
              "3                     Comedy|Drama  \n",
              "4                           Comedy  \n",
              "...                            ...  \n",
              "3878                        Comedy  \n",
              "3879                         Drama  \n",
              "3880                         Drama  \n",
              "3881                         Drama  \n",
              "3882                Drama|Thriller  \n",
              "\n",
              "[3883 rows x 3 columns]"
            ]
          },
          "metadata": {
            "tags": []
          },
          "execution_count": 6
        }
      ]
    },
    {
      "cell_type": "markdown",
      "metadata": {
        "id": "if2XzSJiss62",
        "colab_type": "text"
      },
      "source": [
        "# Dygresja o odwoływaniu się do multiindeksu, do wiersza"
      ]
    },
    {
      "cell_type": "markdown",
      "metadata": {
        "id": "fdM60g60ss62",
        "colab_type": "text"
      },
      "source": [
        "Najważniejsza sprawa: odwoływać się krotką."
      ]
    },
    {
      "cell_type": "code",
      "metadata": {
        "id": "kmF53j87ss63",
        "colab_type": "code",
        "colab": {},
        "outputId": "73e7dd77-b100-4d89-9b04-49df4aed7f9b"
      },
      "source": [
        "ramka2 = pd.DataFrame({\"A\" : np.round(np.random.uniform(0, 1, 6), 2),\n",
        "                      \"B\" : np.round(np.random.uniform(0, 1, 6), 2)})\n",
        "ramka2\n",
        "ramka2.index = pd.MultiIndex(levels=[[\"x\", \"y\", \"z\"], [1,2,3,4]], # jakie są dostępne poziomy\n",
        "                            codes = [[0,0,0,1,1,2], [0,1,3,0,1,2]],\n",
        "                            names=[\"i1\", \"i2\"])\n",
        "ramka2"
      ],
      "execution_count": null,
      "outputs": [
        {
          "output_type": "execute_result",
          "data": {
            "text/html": [
              "<div>\n",
              "<style scoped>\n",
              "    .dataframe tbody tr th:only-of-type {\n",
              "        vertical-align: middle;\n",
              "    }\n",
              "\n",
              "    .dataframe tbody tr th {\n",
              "        vertical-align: top;\n",
              "    }\n",
              "\n",
              "    .dataframe thead th {\n",
              "        text-align: right;\n",
              "    }\n",
              "</style>\n",
              "<table border=\"1\" class=\"dataframe\">\n",
              "  <thead>\n",
              "    <tr style=\"text-align: right;\">\n",
              "      <th></th>\n",
              "      <th></th>\n",
              "      <th>A</th>\n",
              "      <th>B</th>\n",
              "    </tr>\n",
              "    <tr>\n",
              "      <th>i1</th>\n",
              "      <th>i2</th>\n",
              "      <th></th>\n",
              "      <th></th>\n",
              "    </tr>\n",
              "  </thead>\n",
              "  <tbody>\n",
              "    <tr>\n",
              "      <td rowspan=\"3\" valign=\"top\">x</td>\n",
              "      <td>1</td>\n",
              "      <td>0.30</td>\n",
              "      <td>0.53</td>\n",
              "    </tr>\n",
              "    <tr>\n",
              "      <td>2</td>\n",
              "      <td>0.82</td>\n",
              "      <td>0.27</td>\n",
              "    </tr>\n",
              "    <tr>\n",
              "      <td>4</td>\n",
              "      <td>0.41</td>\n",
              "      <td>0.13</td>\n",
              "    </tr>\n",
              "    <tr>\n",
              "      <td rowspan=\"2\" valign=\"top\">y</td>\n",
              "      <td>1</td>\n",
              "      <td>0.41</td>\n",
              "      <td>0.28</td>\n",
              "    </tr>\n",
              "    <tr>\n",
              "      <td>2</td>\n",
              "      <td>0.60</td>\n",
              "      <td>0.30</td>\n",
              "    </tr>\n",
              "    <tr>\n",
              "      <td>z</td>\n",
              "      <td>3</td>\n",
              "      <td>0.35</td>\n",
              "      <td>0.25</td>\n",
              "    </tr>\n",
              "  </tbody>\n",
              "</table>\n",
              "</div>"
            ],
            "text/plain": [
              "          A     B\n",
              "i1 i2            \n",
              "x  1   0.30  0.53\n",
              "   2   0.82  0.27\n",
              "   4   0.41  0.13\n",
              "y  1   0.41  0.28\n",
              "   2   0.60  0.30\n",
              "z  3   0.35  0.25"
            ]
          },
          "metadata": {
            "tags": []
          },
          "execution_count": 13
        }
      ]
    },
    {
      "cell_type": "code",
      "metadata": {
        "id": "_piO7Ijxss64",
        "colab_type": "code",
        "colab": {},
        "outputId": "a97de56e-18ae-4861-bb05-a7077a913eff"
      },
      "source": [
        "ramka2.loc[(\"y\",1), \"A\"]"
      ],
      "execution_count": null,
      "outputs": [
        {
          "output_type": "execute_result",
          "data": {
            "text/plain": [
              "0.41"
            ]
          },
          "metadata": {
            "tags": []
          },
          "execution_count": 18
        }
      ]
    },
    {
      "cell_type": "code",
      "metadata": {
        "id": "o2ELiGkJss66",
        "colab_type": "code",
        "colab": {},
        "outputId": "92acbda3-0cad-4ea8-f275-3342908cad0f"
      },
      "source": [
        "ramka2.loc[\"y\", \"A\"]"
      ],
      "execution_count": null,
      "outputs": [
        {
          "output_type": "execute_result",
          "data": {
            "text/plain": [
              "i2\n",
              "1    0.41\n",
              "2    0.60\n",
              "Name: A, dtype: float64"
            ]
          },
          "metadata": {
            "tags": []
          },
          "execution_count": 19
        }
      ]
    },
    {
      "cell_type": "markdown",
      "metadata": {
        "id": "tOcJgt8Xss68",
        "colab_type": "text"
      },
      "source": [
        "# Wracamy do wczytywania"
      ]
    },
    {
      "cell_type": "code",
      "metadata": {
        "id": "RWVBxJA2ss69",
        "colab_type": "code",
        "colab": {}
      },
      "source": [
        "movies = pd.read_csv(\"ml-1m/movies.dat\", sep=\"::\",\n",
        "            engine=\"python\", names=[\"MovieID\", \"Title\", \"Genres\"])\n",
        "users = pd.read_csv(\"ml-1m/users.dat\", sep=\"::\",\n",
        "            engine=\"python\", names=[\"UserID\", \"Gender\", \"Age\", \"Occupation\", \"Zip-code\"])\n",
        "ratings = pd.read_csv(\"ml-1m/ratings.dat\", sep=\"::\",\n",
        "            engine=\"python\", names=[\"UserID\", \"MovieID\", \"Rating\", \"Timestamp\"])"
      ],
      "execution_count": null,
      "outputs": []
    },
    {
      "cell_type": "code",
      "metadata": {
        "id": "N00syVsXss7B",
        "colab_type": "code",
        "colab": {},
        "outputId": "d8a6f7e0-7236-45eb-965b-f10328014414"
      },
      "source": [
        "movies.head()"
      ],
      "execution_count": null,
      "outputs": [
        {
          "output_type": "execute_result",
          "data": {
            "text/html": [
              "<div>\n",
              "<style scoped>\n",
              "    .dataframe tbody tr th:only-of-type {\n",
              "        vertical-align: middle;\n",
              "    }\n",
              "\n",
              "    .dataframe tbody tr th {\n",
              "        vertical-align: top;\n",
              "    }\n",
              "\n",
              "    .dataframe thead th {\n",
              "        text-align: right;\n",
              "    }\n",
              "</style>\n",
              "<table border=\"1\" class=\"dataframe\">\n",
              "  <thead>\n",
              "    <tr style=\"text-align: right;\">\n",
              "      <th></th>\n",
              "      <th>MovieID</th>\n",
              "      <th>Title</th>\n",
              "      <th>Genres</th>\n",
              "    </tr>\n",
              "  </thead>\n",
              "  <tbody>\n",
              "    <tr>\n",
              "      <td>0</td>\n",
              "      <td>1</td>\n",
              "      <td>Toy Story (1995)</td>\n",
              "      <td>Animation|Children's|Comedy</td>\n",
              "    </tr>\n",
              "    <tr>\n",
              "      <td>1</td>\n",
              "      <td>2</td>\n",
              "      <td>Jumanji (1995)</td>\n",
              "      <td>Adventure|Children's|Fantasy</td>\n",
              "    </tr>\n",
              "    <tr>\n",
              "      <td>2</td>\n",
              "      <td>3</td>\n",
              "      <td>Grumpier Old Men (1995)</td>\n",
              "      <td>Comedy|Romance</td>\n",
              "    </tr>\n",
              "    <tr>\n",
              "      <td>3</td>\n",
              "      <td>4</td>\n",
              "      <td>Waiting to Exhale (1995)</td>\n",
              "      <td>Comedy|Drama</td>\n",
              "    </tr>\n",
              "    <tr>\n",
              "      <td>4</td>\n",
              "      <td>5</td>\n",
              "      <td>Father of the Bride Part II (1995)</td>\n",
              "      <td>Comedy</td>\n",
              "    </tr>\n",
              "  </tbody>\n",
              "</table>\n",
              "</div>"
            ],
            "text/plain": [
              "   MovieID                               Title                        Genres\n",
              "0        1                    Toy Story (1995)   Animation|Children's|Comedy\n",
              "1        2                      Jumanji (1995)  Adventure|Children's|Fantasy\n",
              "2        3             Grumpier Old Men (1995)                Comedy|Romance\n",
              "3        4            Waiting to Exhale (1995)                  Comedy|Drama\n",
              "4        5  Father of the Bride Part II (1995)                        Comedy"
            ]
          },
          "metadata": {
            "tags": []
          },
          "execution_count": 8
        }
      ]
    },
    {
      "cell_type": "code",
      "metadata": {
        "id": "8_cY_ciess7D",
        "colab_type": "code",
        "colab": {},
        "outputId": "5a06427b-fc58-4263-df98-f3d1641a4385"
      },
      "source": [
        "users.head()"
      ],
      "execution_count": null,
      "outputs": [
        {
          "output_type": "execute_result",
          "data": {
            "text/html": [
              "<div>\n",
              "<style scoped>\n",
              "    .dataframe tbody tr th:only-of-type {\n",
              "        vertical-align: middle;\n",
              "    }\n",
              "\n",
              "    .dataframe tbody tr th {\n",
              "        vertical-align: top;\n",
              "    }\n",
              "\n",
              "    .dataframe thead th {\n",
              "        text-align: right;\n",
              "    }\n",
              "</style>\n",
              "<table border=\"1\" class=\"dataframe\">\n",
              "  <thead>\n",
              "    <tr style=\"text-align: right;\">\n",
              "      <th></th>\n",
              "      <th>UserID</th>\n",
              "      <th>Gender</th>\n",
              "      <th>Age</th>\n",
              "      <th>Occupation</th>\n",
              "      <th>Zip-code</th>\n",
              "    </tr>\n",
              "  </thead>\n",
              "  <tbody>\n",
              "    <tr>\n",
              "      <td>0</td>\n",
              "      <td>1</td>\n",
              "      <td>F</td>\n",
              "      <td>1</td>\n",
              "      <td>10</td>\n",
              "      <td>48067</td>\n",
              "    </tr>\n",
              "    <tr>\n",
              "      <td>1</td>\n",
              "      <td>2</td>\n",
              "      <td>M</td>\n",
              "      <td>56</td>\n",
              "      <td>16</td>\n",
              "      <td>70072</td>\n",
              "    </tr>\n",
              "    <tr>\n",
              "      <td>2</td>\n",
              "      <td>3</td>\n",
              "      <td>M</td>\n",
              "      <td>25</td>\n",
              "      <td>15</td>\n",
              "      <td>55117</td>\n",
              "    </tr>\n",
              "    <tr>\n",
              "      <td>3</td>\n",
              "      <td>4</td>\n",
              "      <td>M</td>\n",
              "      <td>45</td>\n",
              "      <td>7</td>\n",
              "      <td>02460</td>\n",
              "    </tr>\n",
              "    <tr>\n",
              "      <td>4</td>\n",
              "      <td>5</td>\n",
              "      <td>M</td>\n",
              "      <td>25</td>\n",
              "      <td>20</td>\n",
              "      <td>55455</td>\n",
              "    </tr>\n",
              "  </tbody>\n",
              "</table>\n",
              "</div>"
            ],
            "text/plain": [
              "   UserID Gender  Age  Occupation Zip-code\n",
              "0       1      F    1          10    48067\n",
              "1       2      M   56          16    70072\n",
              "2       3      M   25          15    55117\n",
              "3       4      M   45           7    02460\n",
              "4       5      M   25          20    55455"
            ]
          },
          "metadata": {
            "tags": []
          },
          "execution_count": 9
        }
      ]
    },
    {
      "cell_type": "code",
      "metadata": {
        "id": "4WplD9EZss7F",
        "colab_type": "code",
        "colab": {},
        "outputId": "dc6c942a-b8c2-4876-cbd6-7adc94dfe40d"
      },
      "source": [
        "ratings.head()"
      ],
      "execution_count": null,
      "outputs": [
        {
          "output_type": "execute_result",
          "data": {
            "text/html": [
              "<div>\n",
              "<style scoped>\n",
              "    .dataframe tbody tr th:only-of-type {\n",
              "        vertical-align: middle;\n",
              "    }\n",
              "\n",
              "    .dataframe tbody tr th {\n",
              "        vertical-align: top;\n",
              "    }\n",
              "\n",
              "    .dataframe thead th {\n",
              "        text-align: right;\n",
              "    }\n",
              "</style>\n",
              "<table border=\"1\" class=\"dataframe\">\n",
              "  <thead>\n",
              "    <tr style=\"text-align: right;\">\n",
              "      <th></th>\n",
              "      <th>UserID</th>\n",
              "      <th>MovieID</th>\n",
              "      <th>Rating</th>\n",
              "      <th>Timestamp</th>\n",
              "    </tr>\n",
              "  </thead>\n",
              "  <tbody>\n",
              "    <tr>\n",
              "      <td>0</td>\n",
              "      <td>1</td>\n",
              "      <td>1193</td>\n",
              "      <td>5</td>\n",
              "      <td>978300760</td>\n",
              "    </tr>\n",
              "    <tr>\n",
              "      <td>1</td>\n",
              "      <td>1</td>\n",
              "      <td>661</td>\n",
              "      <td>3</td>\n",
              "      <td>978302109</td>\n",
              "    </tr>\n",
              "    <tr>\n",
              "      <td>2</td>\n",
              "      <td>1</td>\n",
              "      <td>914</td>\n",
              "      <td>3</td>\n",
              "      <td>978301968</td>\n",
              "    </tr>\n",
              "    <tr>\n",
              "      <td>3</td>\n",
              "      <td>1</td>\n",
              "      <td>3408</td>\n",
              "      <td>4</td>\n",
              "      <td>978300275</td>\n",
              "    </tr>\n",
              "    <tr>\n",
              "      <td>4</td>\n",
              "      <td>1</td>\n",
              "      <td>2355</td>\n",
              "      <td>5</td>\n",
              "      <td>978824291</td>\n",
              "    </tr>\n",
              "  </tbody>\n",
              "</table>\n",
              "</div>"
            ],
            "text/plain": [
              "   UserID  MovieID  Rating  Timestamp\n",
              "0       1     1193       5  978300760\n",
              "1       1      661       3  978302109\n",
              "2       1      914       3  978301968\n",
              "3       1     3408       4  978300275\n",
              "4       1     2355       5  978824291"
            ]
          },
          "metadata": {
            "tags": []
          },
          "execution_count": 10
        }
      ]
    },
    {
      "cell_type": "markdown",
      "metadata": {
        "id": "h5KlA0nFss7G",
        "colab_type": "text"
      },
      "source": [
        "# Wyciąganie roku produkcji filmu"
      ]
    },
    {
      "cell_type": "code",
      "metadata": {
        "id": "Y0RUpRdyss7H",
        "colab_type": "code",
        "colab": {},
        "outputId": "94907297-e3ae-4b87-9719-a6d345561080"
      },
      "source": [
        "movies.head()"
      ],
      "execution_count": null,
      "outputs": [
        {
          "output_type": "execute_result",
          "data": {
            "text/html": [
              "<div>\n",
              "<style scoped>\n",
              "    .dataframe tbody tr th:only-of-type {\n",
              "        vertical-align: middle;\n",
              "    }\n",
              "\n",
              "    .dataframe tbody tr th {\n",
              "        vertical-align: top;\n",
              "    }\n",
              "\n",
              "    .dataframe thead th {\n",
              "        text-align: right;\n",
              "    }\n",
              "</style>\n",
              "<table border=\"1\" class=\"dataframe\">\n",
              "  <thead>\n",
              "    <tr style=\"text-align: right;\">\n",
              "      <th></th>\n",
              "      <th>MovieID</th>\n",
              "      <th>Title</th>\n",
              "      <th>Genres</th>\n",
              "    </tr>\n",
              "  </thead>\n",
              "  <tbody>\n",
              "    <tr>\n",
              "      <td>0</td>\n",
              "      <td>1</td>\n",
              "      <td>Toy Story (1995)</td>\n",
              "      <td>Animation|Children's|Comedy</td>\n",
              "    </tr>\n",
              "    <tr>\n",
              "      <td>1</td>\n",
              "      <td>2</td>\n",
              "      <td>Jumanji (1995)</td>\n",
              "      <td>Adventure|Children's|Fantasy</td>\n",
              "    </tr>\n",
              "    <tr>\n",
              "      <td>2</td>\n",
              "      <td>3</td>\n",
              "      <td>Grumpier Old Men (1995)</td>\n",
              "      <td>Comedy|Romance</td>\n",
              "    </tr>\n",
              "    <tr>\n",
              "      <td>3</td>\n",
              "      <td>4</td>\n",
              "      <td>Waiting to Exhale (1995)</td>\n",
              "      <td>Comedy|Drama</td>\n",
              "    </tr>\n",
              "    <tr>\n",
              "      <td>4</td>\n",
              "      <td>5</td>\n",
              "      <td>Father of the Bride Part II (1995)</td>\n",
              "      <td>Comedy</td>\n",
              "    </tr>\n",
              "  </tbody>\n",
              "</table>\n",
              "</div>"
            ],
            "text/plain": [
              "   MovieID                               Title                        Genres\n",
              "0        1                    Toy Story (1995)   Animation|Children's|Comedy\n",
              "1        2                      Jumanji (1995)  Adventure|Children's|Fantasy\n",
              "2        3             Grumpier Old Men (1995)                Comedy|Romance\n",
              "3        4            Waiting to Exhale (1995)                  Comedy|Drama\n",
              "4        5  Father of the Bride Part II (1995)                        Comedy"
            ]
          },
          "metadata": {
            "tags": []
          },
          "execution_count": 11
        }
      ]
    },
    {
      "cell_type": "markdown",
      "metadata": {
        "id": "kRBAwM1kss7J",
        "colab_type": "text"
      },
      "source": [
        "* slice, wycinanie, ostatnie znaki\n",
        "* regex, wyrażenie regularne"
      ]
    },
    {
      "cell_type": "markdown",
      "metadata": {
        "id": "jJJstWj0ss7J",
        "colab_type": "text"
      },
      "source": [
        "## Slice"
      ]
    },
    {
      "cell_type": "code",
      "metadata": {
        "collapsed": true,
        "id": "spjJ6nHCss7K",
        "colab_type": "code",
        "colab": {},
        "outputId": "095d74b9-d85e-4a0b-b989-6afc4face5f8"
      },
      "source": [
        "movies.Title.str.slice(-5, -1).astype(int)"
      ],
      "execution_count": null,
      "outputs": [
        {
          "output_type": "execute_result",
          "data": {
            "text/plain": [
              "0       1995\n",
              "1       1995\n",
              "2       1995\n",
              "3       1995\n",
              "4       1995\n",
              "        ... \n",
              "3878    2000\n",
              "3879    2000\n",
              "3880    2000\n",
              "3881    2000\n",
              "3882    2000\n",
              "Name: Title, Length: 3883, dtype: int64"
            ]
          },
          "metadata": {
            "tags": []
          },
          "execution_count": 14
        }
      ]
    },
    {
      "cell_type": "code",
      "metadata": {
        "collapsed": true,
        "id": "-jKl-XN-ss7L",
        "colab_type": "code",
        "colab": {},
        "outputId": "931de58f-e4ea-4877-dc10-79f4d1ec5726"
      },
      "source": [
        "movies.Title.str[-5:-1].astype(int)"
      ],
      "execution_count": null,
      "outputs": [
        {
          "output_type": "execute_result",
          "data": {
            "text/plain": [
              "0       1995\n",
              "1       1995\n",
              "2       1995\n",
              "3       1995\n",
              "4       1995\n",
              "        ... \n",
              "3878    2000\n",
              "3879    2000\n",
              "3880    2000\n",
              "3881    2000\n",
              "3882    2000\n",
              "Name: Title, Length: 3883, dtype: int64"
            ]
          },
          "metadata": {
            "tags": []
          },
          "execution_count": 15
        }
      ]
    },
    {
      "cell_type": "code",
      "metadata": {
        "collapsed": true,
        "id": "GXARQ_JTss7N",
        "colab_type": "code",
        "colab": {},
        "outputId": "9e3833b5-34c1-4148-ed78-2c2c26332e8c"
      },
      "source": [
        "movies.Title.str[:-7]"
      ],
      "execution_count": null,
      "outputs": [
        {
          "output_type": "execute_result",
          "data": {
            "text/plain": [
              "0                         Toy Story\n",
              "1                           Jumanji\n",
              "2                  Grumpier Old Men\n",
              "3                 Waiting to Exhale\n",
              "4       Father of the Bride Part II\n",
              "                   ...             \n",
              "3878               Meet the Parents\n",
              "3879            Requiem for a Dream\n",
              "3880                      Tigerland\n",
              "3881               Two Family House\n",
              "3882                 Contender, The\n",
              "Name: Title, Length: 3883, dtype: object"
            ]
          },
          "metadata": {
            "tags": []
          },
          "execution_count": 20
        }
      ]
    },
    {
      "cell_type": "code",
      "metadata": {
        "collapsed": true,
        "id": "uCr17PMMss7Q",
        "colab_type": "code",
        "colab": {},
        "outputId": "4dbea17c-bcb2-4188-fbfc-8207857e8415"
      },
      "source": [
        "movies.Title.str[:-6].str.strip()"
      ],
      "execution_count": null,
      "outputs": [
        {
          "output_type": "execute_result",
          "data": {
            "text/plain": [
              "0                         Toy Story\n",
              "1                           Jumanji\n",
              "2                  Grumpier Old Men\n",
              "3                 Waiting to Exhale\n",
              "4       Father of the Bride Part II\n",
              "                   ...             \n",
              "3878               Meet the Parents\n",
              "3879            Requiem for a Dream\n",
              "3880                      Tigerland\n",
              "3881               Two Family House\n",
              "3882                 Contender, The\n",
              "Name: Title, Length: 3883, dtype: object"
            ]
          },
          "metadata": {
            "tags": []
          },
          "execution_count": 23
        }
      ]
    },
    {
      "cell_type": "markdown",
      "metadata": {
        "id": "ZbufvYc6ss7T",
        "colab_type": "text"
      },
      "source": [
        "## Regex"
      ]
    },
    {
      "cell_type": "code",
      "metadata": {
        "id": "k8gcdVoEss7T",
        "colab_type": "code",
        "colab": {},
        "outputId": "68a827e6-be10-435c-e154-2eb53b57dc8a"
      },
      "source": [
        "movies.Title.values"
      ],
      "execution_count": null,
      "outputs": [
        {
          "output_type": "execute_result",
          "data": {
            "text/plain": [
              "array(['Toy Story (1995)', 'Jumanji (1995)', 'Grumpier Old Men (1995)',\n",
              "       ..., 'Tigerland (2000)', 'Two Family House (2000)',\n",
              "       'Contender, The (2000)'], dtype=object)"
            ]
          },
          "metadata": {
            "tags": []
          },
          "execution_count": 24
        }
      ]
    },
    {
      "cell_type": "code",
      "metadata": {
        "collapsed": true,
        "id": "9bTh2oExss7V",
        "colab_type": "code",
        "colab": {},
        "outputId": "63104867-6e8d-4cc9-a4a1-778c85eb4661"
      },
      "source": [
        "movies.Title.str.extract(\" \\((\\d{4})\\)$\").astype(int)"
      ],
      "execution_count": null,
      "outputs": [
        {
          "output_type": "error",
          "ename": "ValueError",
          "evalue": "cannot convert float NaN to integer",
          "traceback": [
            "\u001b[0;31m---------------------------------------------------------------------------\u001b[0m",
            "\u001b[0;31mValueError\u001b[0m                                Traceback (most recent call last)",
            "\u001b[0;32m<ipython-input-27-64d61f9b63c6>\u001b[0m in \u001b[0;36m<module>\u001b[0;34m\u001b[0m\n\u001b[0;32m----> 1\u001b[0;31m \u001b[0mmovies\u001b[0m\u001b[0;34m.\u001b[0m\u001b[0mTitle\u001b[0m\u001b[0;34m.\u001b[0m\u001b[0mstr\u001b[0m\u001b[0;34m.\u001b[0m\u001b[0mextract\u001b[0m\u001b[0;34m(\u001b[0m\u001b[0;34m\" \\((\\d{4})\\)$\"\u001b[0m\u001b[0;34m)\u001b[0m\u001b[0;34m.\u001b[0m\u001b[0mastype\u001b[0m\u001b[0;34m(\u001b[0m\u001b[0mint\u001b[0m\u001b[0;34m)\u001b[0m\u001b[0;34m\u001b[0m\u001b[0;34m\u001b[0m\u001b[0m\n\u001b[0m",
            "\u001b[0;32m~/anaconda3/lib/python3.7/site-packages/pandas/core/generic.py\u001b[0m in \u001b[0;36mastype\u001b[0;34m(self, dtype, copy, errors, **kwargs)\u001b[0m\n\u001b[1;32m   5880\u001b[0m             \u001b[0;31m# else, only a single dtype is given\u001b[0m\u001b[0;34m\u001b[0m\u001b[0;34m\u001b[0m\u001b[0;34m\u001b[0m\u001b[0m\n\u001b[1;32m   5881\u001b[0m             new_data = self._data.astype(\n\u001b[0;32m-> 5882\u001b[0;31m                 \u001b[0mdtype\u001b[0m\u001b[0;34m=\u001b[0m\u001b[0mdtype\u001b[0m\u001b[0;34m,\u001b[0m \u001b[0mcopy\u001b[0m\u001b[0;34m=\u001b[0m\u001b[0mcopy\u001b[0m\u001b[0;34m,\u001b[0m \u001b[0merrors\u001b[0m\u001b[0;34m=\u001b[0m\u001b[0merrors\u001b[0m\u001b[0;34m,\u001b[0m \u001b[0;34m**\u001b[0m\u001b[0mkwargs\u001b[0m\u001b[0;34m\u001b[0m\u001b[0;34m\u001b[0m\u001b[0m\n\u001b[0m\u001b[1;32m   5883\u001b[0m             )\n\u001b[1;32m   5884\u001b[0m             \u001b[0;32mreturn\u001b[0m \u001b[0mself\u001b[0m\u001b[0;34m.\u001b[0m\u001b[0m_constructor\u001b[0m\u001b[0;34m(\u001b[0m\u001b[0mnew_data\u001b[0m\u001b[0;34m)\u001b[0m\u001b[0;34m.\u001b[0m\u001b[0m__finalize__\u001b[0m\u001b[0;34m(\u001b[0m\u001b[0mself\u001b[0m\u001b[0;34m)\u001b[0m\u001b[0;34m\u001b[0m\u001b[0;34m\u001b[0m\u001b[0m\n",
            "\u001b[0;32m~/anaconda3/lib/python3.7/site-packages/pandas/core/internals/managers.py\u001b[0m in \u001b[0;36mastype\u001b[0;34m(self, dtype, **kwargs)\u001b[0m\n\u001b[1;32m    579\u001b[0m \u001b[0;34m\u001b[0m\u001b[0m\n\u001b[1;32m    580\u001b[0m     \u001b[0;32mdef\u001b[0m \u001b[0mastype\u001b[0m\u001b[0;34m(\u001b[0m\u001b[0mself\u001b[0m\u001b[0;34m,\u001b[0m \u001b[0mdtype\u001b[0m\u001b[0;34m,\u001b[0m \u001b[0;34m**\u001b[0m\u001b[0mkwargs\u001b[0m\u001b[0;34m)\u001b[0m\u001b[0;34m:\u001b[0m\u001b[0;34m\u001b[0m\u001b[0;34m\u001b[0m\u001b[0m\n\u001b[0;32m--> 581\u001b[0;31m         \u001b[0;32mreturn\u001b[0m \u001b[0mself\u001b[0m\u001b[0;34m.\u001b[0m\u001b[0mapply\u001b[0m\u001b[0;34m(\u001b[0m\u001b[0;34m\"astype\"\u001b[0m\u001b[0;34m,\u001b[0m \u001b[0mdtype\u001b[0m\u001b[0;34m=\u001b[0m\u001b[0mdtype\u001b[0m\u001b[0;34m,\u001b[0m \u001b[0;34m**\u001b[0m\u001b[0mkwargs\u001b[0m\u001b[0;34m)\u001b[0m\u001b[0;34m\u001b[0m\u001b[0;34m\u001b[0m\u001b[0m\n\u001b[0m\u001b[1;32m    582\u001b[0m \u001b[0;34m\u001b[0m\u001b[0m\n\u001b[1;32m    583\u001b[0m     \u001b[0;32mdef\u001b[0m \u001b[0mconvert\u001b[0m\u001b[0;34m(\u001b[0m\u001b[0mself\u001b[0m\u001b[0;34m,\u001b[0m \u001b[0;34m**\u001b[0m\u001b[0mkwargs\u001b[0m\u001b[0;34m)\u001b[0m\u001b[0;34m:\u001b[0m\u001b[0;34m\u001b[0m\u001b[0;34m\u001b[0m\u001b[0m\n",
            "\u001b[0;32m~/anaconda3/lib/python3.7/site-packages/pandas/core/internals/managers.py\u001b[0m in \u001b[0;36mapply\u001b[0;34m(self, f, axes, filter, do_integrity_check, consolidate, **kwargs)\u001b[0m\n\u001b[1;32m    436\u001b[0m                     \u001b[0mkwargs\u001b[0m\u001b[0;34m[\u001b[0m\u001b[0mk\u001b[0m\u001b[0;34m]\u001b[0m \u001b[0;34m=\u001b[0m \u001b[0mobj\u001b[0m\u001b[0;34m.\u001b[0m\u001b[0mreindex\u001b[0m\u001b[0;34m(\u001b[0m\u001b[0mb_items\u001b[0m\u001b[0;34m,\u001b[0m \u001b[0maxis\u001b[0m\u001b[0;34m=\u001b[0m\u001b[0maxis\u001b[0m\u001b[0;34m,\u001b[0m \u001b[0mcopy\u001b[0m\u001b[0;34m=\u001b[0m\u001b[0malign_copy\u001b[0m\u001b[0;34m)\u001b[0m\u001b[0;34m\u001b[0m\u001b[0;34m\u001b[0m\u001b[0m\n\u001b[1;32m    437\u001b[0m \u001b[0;34m\u001b[0m\u001b[0m\n\u001b[0;32m--> 438\u001b[0;31m             \u001b[0mapplied\u001b[0m \u001b[0;34m=\u001b[0m \u001b[0mgetattr\u001b[0m\u001b[0;34m(\u001b[0m\u001b[0mb\u001b[0m\u001b[0;34m,\u001b[0m \u001b[0mf\u001b[0m\u001b[0;34m)\u001b[0m\u001b[0;34m(\u001b[0m\u001b[0;34m**\u001b[0m\u001b[0mkwargs\u001b[0m\u001b[0;34m)\u001b[0m\u001b[0;34m\u001b[0m\u001b[0;34m\u001b[0m\u001b[0m\n\u001b[0m\u001b[1;32m    439\u001b[0m             \u001b[0mresult_blocks\u001b[0m \u001b[0;34m=\u001b[0m \u001b[0m_extend_blocks\u001b[0m\u001b[0;34m(\u001b[0m\u001b[0mapplied\u001b[0m\u001b[0;34m,\u001b[0m \u001b[0mresult_blocks\u001b[0m\u001b[0;34m)\u001b[0m\u001b[0;34m\u001b[0m\u001b[0;34m\u001b[0m\u001b[0m\n\u001b[1;32m    440\u001b[0m \u001b[0;34m\u001b[0m\u001b[0m\n",
            "\u001b[0;32m~/anaconda3/lib/python3.7/site-packages/pandas/core/internals/blocks.py\u001b[0m in \u001b[0;36mastype\u001b[0;34m(self, dtype, copy, errors, values, **kwargs)\u001b[0m\n\u001b[1;32m    557\u001b[0m \u001b[0;34m\u001b[0m\u001b[0m\n\u001b[1;32m    558\u001b[0m     \u001b[0;32mdef\u001b[0m \u001b[0mastype\u001b[0m\u001b[0;34m(\u001b[0m\u001b[0mself\u001b[0m\u001b[0;34m,\u001b[0m \u001b[0mdtype\u001b[0m\u001b[0;34m,\u001b[0m \u001b[0mcopy\u001b[0m\u001b[0;34m=\u001b[0m\u001b[0;32mFalse\u001b[0m\u001b[0;34m,\u001b[0m \u001b[0merrors\u001b[0m\u001b[0;34m=\u001b[0m\u001b[0;34m\"raise\"\u001b[0m\u001b[0;34m,\u001b[0m \u001b[0mvalues\u001b[0m\u001b[0;34m=\u001b[0m\u001b[0;32mNone\u001b[0m\u001b[0;34m,\u001b[0m \u001b[0;34m**\u001b[0m\u001b[0mkwargs\u001b[0m\u001b[0;34m)\u001b[0m\u001b[0;34m:\u001b[0m\u001b[0;34m\u001b[0m\u001b[0;34m\u001b[0m\u001b[0m\n\u001b[0;32m--> 559\u001b[0;31m         \u001b[0;32mreturn\u001b[0m \u001b[0mself\u001b[0m\u001b[0;34m.\u001b[0m\u001b[0m_astype\u001b[0m\u001b[0;34m(\u001b[0m\u001b[0mdtype\u001b[0m\u001b[0;34m,\u001b[0m \u001b[0mcopy\u001b[0m\u001b[0;34m=\u001b[0m\u001b[0mcopy\u001b[0m\u001b[0;34m,\u001b[0m \u001b[0merrors\u001b[0m\u001b[0;34m=\u001b[0m\u001b[0merrors\u001b[0m\u001b[0;34m,\u001b[0m \u001b[0mvalues\u001b[0m\u001b[0;34m=\u001b[0m\u001b[0mvalues\u001b[0m\u001b[0;34m,\u001b[0m \u001b[0;34m**\u001b[0m\u001b[0mkwargs\u001b[0m\u001b[0;34m)\u001b[0m\u001b[0;34m\u001b[0m\u001b[0;34m\u001b[0m\u001b[0m\n\u001b[0m\u001b[1;32m    560\u001b[0m \u001b[0;34m\u001b[0m\u001b[0m\n\u001b[1;32m    561\u001b[0m     \u001b[0;32mdef\u001b[0m \u001b[0m_astype\u001b[0m\u001b[0;34m(\u001b[0m\u001b[0mself\u001b[0m\u001b[0;34m,\u001b[0m \u001b[0mdtype\u001b[0m\u001b[0;34m,\u001b[0m \u001b[0mcopy\u001b[0m\u001b[0;34m=\u001b[0m\u001b[0;32mFalse\u001b[0m\u001b[0;34m,\u001b[0m \u001b[0merrors\u001b[0m\u001b[0;34m=\u001b[0m\u001b[0;34m\"raise\"\u001b[0m\u001b[0;34m,\u001b[0m \u001b[0mvalues\u001b[0m\u001b[0;34m=\u001b[0m\u001b[0;32mNone\u001b[0m\u001b[0;34m,\u001b[0m \u001b[0;34m**\u001b[0m\u001b[0mkwargs\u001b[0m\u001b[0;34m)\u001b[0m\u001b[0;34m:\u001b[0m\u001b[0;34m\u001b[0m\u001b[0;34m\u001b[0m\u001b[0m\n",
            "\u001b[0;32m~/anaconda3/lib/python3.7/site-packages/pandas/core/internals/blocks.py\u001b[0m in \u001b[0;36m_astype\u001b[0;34m(self, dtype, copy, errors, values, **kwargs)\u001b[0m\n\u001b[1;32m    641\u001b[0m                     \u001b[0;31m# _astype_nansafe works fine with 1-d only\u001b[0m\u001b[0;34m\u001b[0m\u001b[0;34m\u001b[0m\u001b[0;34m\u001b[0m\u001b[0m\n\u001b[1;32m    642\u001b[0m                     \u001b[0mvals1d\u001b[0m \u001b[0;34m=\u001b[0m \u001b[0mvalues\u001b[0m\u001b[0;34m.\u001b[0m\u001b[0mravel\u001b[0m\u001b[0;34m(\u001b[0m\u001b[0;34m)\u001b[0m\u001b[0;34m\u001b[0m\u001b[0;34m\u001b[0m\u001b[0m\n\u001b[0;32m--> 643\u001b[0;31m                     \u001b[0mvalues\u001b[0m \u001b[0;34m=\u001b[0m \u001b[0mastype_nansafe\u001b[0m\u001b[0;34m(\u001b[0m\u001b[0mvals1d\u001b[0m\u001b[0;34m,\u001b[0m \u001b[0mdtype\u001b[0m\u001b[0;34m,\u001b[0m \u001b[0mcopy\u001b[0m\u001b[0;34m=\u001b[0m\u001b[0;32mTrue\u001b[0m\u001b[0;34m,\u001b[0m \u001b[0;34m**\u001b[0m\u001b[0mkwargs\u001b[0m\u001b[0;34m)\u001b[0m\u001b[0;34m\u001b[0m\u001b[0;34m\u001b[0m\u001b[0m\n\u001b[0m\u001b[1;32m    644\u001b[0m \u001b[0;34m\u001b[0m\u001b[0m\n\u001b[1;32m    645\u001b[0m                 \u001b[0;31m# TODO(extension)\u001b[0m\u001b[0;34m\u001b[0m\u001b[0;34m\u001b[0m\u001b[0;34m\u001b[0m\u001b[0m\n",
            "\u001b[0;32m~/anaconda3/lib/python3.7/site-packages/pandas/core/dtypes/cast.py\u001b[0m in \u001b[0;36mastype_nansafe\u001b[0;34m(arr, dtype, copy, skipna)\u001b[0m\n\u001b[1;32m    705\u001b[0m         \u001b[0;31m# work around NumPy brokenness, #1987\u001b[0m\u001b[0;34m\u001b[0m\u001b[0;34m\u001b[0m\u001b[0;34m\u001b[0m\u001b[0m\n\u001b[1;32m    706\u001b[0m         \u001b[0;32mif\u001b[0m \u001b[0mnp\u001b[0m\u001b[0;34m.\u001b[0m\u001b[0missubdtype\u001b[0m\u001b[0;34m(\u001b[0m\u001b[0mdtype\u001b[0m\u001b[0;34m.\u001b[0m\u001b[0mtype\u001b[0m\u001b[0;34m,\u001b[0m \u001b[0mnp\u001b[0m\u001b[0;34m.\u001b[0m\u001b[0minteger\u001b[0m\u001b[0;34m)\u001b[0m\u001b[0;34m:\u001b[0m\u001b[0;34m\u001b[0m\u001b[0;34m\u001b[0m\u001b[0m\n\u001b[0;32m--> 707\u001b[0;31m             \u001b[0;32mreturn\u001b[0m \u001b[0mlib\u001b[0m\u001b[0;34m.\u001b[0m\u001b[0mastype_intsafe\u001b[0m\u001b[0;34m(\u001b[0m\u001b[0marr\u001b[0m\u001b[0;34m.\u001b[0m\u001b[0mravel\u001b[0m\u001b[0;34m(\u001b[0m\u001b[0;34m)\u001b[0m\u001b[0;34m,\u001b[0m \u001b[0mdtype\u001b[0m\u001b[0;34m)\u001b[0m\u001b[0;34m.\u001b[0m\u001b[0mreshape\u001b[0m\u001b[0;34m(\u001b[0m\u001b[0marr\u001b[0m\u001b[0;34m.\u001b[0m\u001b[0mshape\u001b[0m\u001b[0;34m)\u001b[0m\u001b[0;34m\u001b[0m\u001b[0;34m\u001b[0m\u001b[0m\n\u001b[0m\u001b[1;32m    708\u001b[0m \u001b[0;34m\u001b[0m\u001b[0m\n\u001b[1;32m    709\u001b[0m         \u001b[0;31m# if we have a datetime/timedelta array of objects\u001b[0m\u001b[0;34m\u001b[0m\u001b[0;34m\u001b[0m\u001b[0;34m\u001b[0m\u001b[0m\n",
            "\u001b[0;32mpandas/_libs/lib.pyx\u001b[0m in \u001b[0;36mpandas._libs.lib.astype_intsafe\u001b[0;34m()\u001b[0m\n",
            "\u001b[0;31mValueError\u001b[0m: cannot convert float NaN to integer"
          ]
        }
      ]
    },
    {
      "cell_type": "code",
      "metadata": {
        "id": "QYAqqug8ss7X",
        "colab_type": "code",
        "colab": {},
        "outputId": "6d83ac1e-3ed1-4b5a-df61-20fb82d6487d"
      },
      "source": [
        "movies.Title[~movies.Title.str.contains(\" \\(\\d{4}\\)$\")]"
      ],
      "execution_count": null,
      "outputs": [
        {
          "output_type": "execute_result",
          "data": {
            "text/plain": [
              "988    Associate, The (L'Associe)(1982)\n",
              "Name: Title, dtype: object"
            ]
          },
          "metadata": {
            "tags": []
          },
          "execution_count": 31
        }
      ]
    },
    {
      "cell_type": "code",
      "metadata": {
        "collapsed": true,
        "id": "0sQorJZjss7Y",
        "colab_type": "code",
        "colab": {},
        "outputId": "d2bb35b8-0a72-4d4a-aa3d-f636e0cd626f"
      },
      "source": [
        "movies.Title.str.extract(\"\\((\\d{4})\\)$\").astype(int)"
      ],
      "execution_count": null,
      "outputs": [
        {
          "output_type": "execute_result",
          "data": {
            "text/html": [
              "<div>\n",
              "<style scoped>\n",
              "    .dataframe tbody tr th:only-of-type {\n",
              "        vertical-align: middle;\n",
              "    }\n",
              "\n",
              "    .dataframe tbody tr th {\n",
              "        vertical-align: top;\n",
              "    }\n",
              "\n",
              "    .dataframe thead th {\n",
              "        text-align: right;\n",
              "    }\n",
              "</style>\n",
              "<table border=\"1\" class=\"dataframe\">\n",
              "  <thead>\n",
              "    <tr style=\"text-align: right;\">\n",
              "      <th></th>\n",
              "      <th>0</th>\n",
              "    </tr>\n",
              "  </thead>\n",
              "  <tbody>\n",
              "    <tr>\n",
              "      <td>0</td>\n",
              "      <td>1995</td>\n",
              "    </tr>\n",
              "    <tr>\n",
              "      <td>1</td>\n",
              "      <td>1995</td>\n",
              "    </tr>\n",
              "    <tr>\n",
              "      <td>2</td>\n",
              "      <td>1995</td>\n",
              "    </tr>\n",
              "    <tr>\n",
              "      <td>3</td>\n",
              "      <td>1995</td>\n",
              "    </tr>\n",
              "    <tr>\n",
              "      <td>4</td>\n",
              "      <td>1995</td>\n",
              "    </tr>\n",
              "    <tr>\n",
              "      <td>...</td>\n",
              "      <td>...</td>\n",
              "    </tr>\n",
              "    <tr>\n",
              "      <td>3878</td>\n",
              "      <td>2000</td>\n",
              "    </tr>\n",
              "    <tr>\n",
              "      <td>3879</td>\n",
              "      <td>2000</td>\n",
              "    </tr>\n",
              "    <tr>\n",
              "      <td>3880</td>\n",
              "      <td>2000</td>\n",
              "    </tr>\n",
              "    <tr>\n",
              "      <td>3881</td>\n",
              "      <td>2000</td>\n",
              "    </tr>\n",
              "    <tr>\n",
              "      <td>3882</td>\n",
              "      <td>2000</td>\n",
              "    </tr>\n",
              "  </tbody>\n",
              "</table>\n",
              "<p>3883 rows × 1 columns</p>\n",
              "</div>"
            ],
            "text/plain": [
              "         0\n",
              "0     1995\n",
              "1     1995\n",
              "2     1995\n",
              "3     1995\n",
              "4     1995\n",
              "...    ...\n",
              "3878  2000\n",
              "3879  2000\n",
              "3880  2000\n",
              "3881  2000\n",
              "3882  2000\n",
              "\n",
              "[3883 rows x 1 columns]"
            ]
          },
          "metadata": {
            "tags": []
          },
          "execution_count": 32
        }
      ]
    },
    {
      "cell_type": "code",
      "metadata": {
        "id": "aQWP641Uss7a",
        "colab_type": "code",
        "colab": {},
        "outputId": "1e0e553d-3028-4e2a-dd72-8074c8517a17"
      },
      "source": [
        "movies.Title.str.replace(\" ?\\((\\d{4})\\)$\", \"\").values"
      ],
      "execution_count": null,
      "outputs": [
        {
          "output_type": "execute_result",
          "data": {
            "text/plain": [
              "array(['Toy Story', 'Jumanji', 'Grumpier Old Men', ..., 'Tigerland',\n",
              "       'Two Family House', 'Contender, The'], dtype=object)"
            ]
          },
          "metadata": {
            "tags": []
          },
          "execution_count": 34
        }
      ]
    },
    {
      "cell_type": "markdown",
      "metadata": {
        "id": "vUZOHebtss7c",
        "colab_type": "text"
      },
      "source": [
        "# Wycinamy rok już naprawdę"
      ]
    },
    {
      "cell_type": "code",
      "metadata": {
        "id": "ZWUsgxgGss7c",
        "colab_type": "code",
        "colab": {}
      },
      "source": [
        "movies[\"Year\"] = movies.Title.str.slice(-5, -1).astype(int)\n",
        "movies[\"Title\"] = movies.Title.str[:-6].str.strip()"
      ],
      "execution_count": null,
      "outputs": []
    },
    {
      "cell_type": "code",
      "metadata": {
        "id": "3yZ0Utvyss7d",
        "colab_type": "code",
        "colab": {},
        "outputId": "b6ce65c7-1fbe-4af3-97ac-947276897cae"
      },
      "source": [
        "movies.head()"
      ],
      "execution_count": null,
      "outputs": [
        {
          "output_type": "execute_result",
          "data": {
            "text/html": [
              "<div>\n",
              "<style scoped>\n",
              "    .dataframe tbody tr th:only-of-type {\n",
              "        vertical-align: middle;\n",
              "    }\n",
              "\n",
              "    .dataframe tbody tr th {\n",
              "        vertical-align: top;\n",
              "    }\n",
              "\n",
              "    .dataframe thead th {\n",
              "        text-align: right;\n",
              "    }\n",
              "</style>\n",
              "<table border=\"1\" class=\"dataframe\">\n",
              "  <thead>\n",
              "    <tr style=\"text-align: right;\">\n",
              "      <th></th>\n",
              "      <th>MovieID</th>\n",
              "      <th>Title</th>\n",
              "      <th>Genres</th>\n",
              "      <th>Year</th>\n",
              "    </tr>\n",
              "  </thead>\n",
              "  <tbody>\n",
              "    <tr>\n",
              "      <td>0</td>\n",
              "      <td>1</td>\n",
              "      <td>Toy Story</td>\n",
              "      <td>Animation|Children's|Comedy</td>\n",
              "      <td>1995</td>\n",
              "    </tr>\n",
              "    <tr>\n",
              "      <td>1</td>\n",
              "      <td>2</td>\n",
              "      <td>Jumanji</td>\n",
              "      <td>Adventure|Children's|Fantasy</td>\n",
              "      <td>1995</td>\n",
              "    </tr>\n",
              "    <tr>\n",
              "      <td>2</td>\n",
              "      <td>3</td>\n",
              "      <td>Grumpier Old Men</td>\n",
              "      <td>Comedy|Romance</td>\n",
              "      <td>1995</td>\n",
              "    </tr>\n",
              "    <tr>\n",
              "      <td>3</td>\n",
              "      <td>4</td>\n",
              "      <td>Waiting to Exhale</td>\n",
              "      <td>Comedy|Drama</td>\n",
              "      <td>1995</td>\n",
              "    </tr>\n",
              "    <tr>\n",
              "      <td>4</td>\n",
              "      <td>5</td>\n",
              "      <td>Father of the Bride Part II</td>\n",
              "      <td>Comedy</td>\n",
              "      <td>1995</td>\n",
              "    </tr>\n",
              "  </tbody>\n",
              "</table>\n",
              "</div>"
            ],
            "text/plain": [
              "   MovieID                        Title                        Genres  Year\n",
              "0        1                    Toy Story   Animation|Children's|Comedy  1995\n",
              "1        2                      Jumanji  Adventure|Children's|Fantasy  1995\n",
              "2        3             Grumpier Old Men                Comedy|Romance  1995\n",
              "3        4            Waiting to Exhale                  Comedy|Drama  1995\n",
              "4        5  Father of the Bride Part II                        Comedy  1995"
            ]
          },
          "metadata": {
            "tags": []
          },
          "execution_count": 36
        }
      ]
    },
    {
      "cell_type": "markdown",
      "metadata": {
        "id": "GcB8A8wjss7g",
        "colab_type": "text"
      },
      "source": [
        "# 3. Ile jest wszystkich filmów?"
      ]
    },
    {
      "cell_type": "code",
      "metadata": {
        "id": "fBH7w9E-ss7g",
        "colab_type": "code",
        "colab": {},
        "outputId": "0c1d52c5-7453-4c3d-b24a-ce234657a57e"
      },
      "source": [
        "movies.shape[0]"
      ],
      "execution_count": null,
      "outputs": [
        {
          "output_type": "execute_result",
          "data": {
            "text/plain": [
              "3883"
            ]
          },
          "metadata": {
            "tags": []
          },
          "execution_count": 39
        }
      ]
    },
    {
      "cell_type": "code",
      "metadata": {
        "id": "LTYkGd7nss7j",
        "colab_type": "code",
        "colab": {},
        "outputId": "0d1fcecd-6b12-41f7-da01-edffb1973ce2"
      },
      "source": [
        "len(movies)"
      ],
      "execution_count": null,
      "outputs": [
        {
          "output_type": "execute_result",
          "data": {
            "text/plain": [
              "3883"
            ]
          },
          "metadata": {
            "tags": []
          },
          "execution_count": 38
        }
      ]
    },
    {
      "cell_type": "markdown",
      "metadata": {
        "id": "-SdExhGOss7l",
        "colab_type": "text"
      },
      "source": [
        "# 4. Wykryj i wypisz wszystkie remaki (ten sam tytuł, inny rok produkcji)"
      ]
    },
    {
      "cell_type": "markdown",
      "metadata": {
        "id": "BKCgd5GPss7l",
        "colab_type": "text"
      },
      "source": [
        "* groupby\n",
        "* duplicated\n",
        "* value_counts()"
      ]
    },
    {
      "cell_type": "markdown",
      "metadata": {
        "id": "S06WzKjass7l",
        "colab_type": "text"
      },
      "source": [
        "## value_counts()"
      ]
    },
    {
      "cell_type": "code",
      "metadata": {
        "collapsed": true,
        "id": "gU0IziYSss7m",
        "colab_type": "code",
        "colab": {},
        "outputId": "d276c071-4e57-4685-e554-1d4235e78ac9"
      },
      "source": [
        "movies.Title.value_counts().reset_index().query(\"Title > 1\")\\\n",
        "    .rename({\"index\":\"Title\", \"Title\":\"Count\"}, axis=1)"
      ],
      "execution_count": null,
      "outputs": [
        {
          "output_type": "execute_result",
          "data": {
            "text/html": [
              "<div>\n",
              "<style scoped>\n",
              "    .dataframe tbody tr th:only-of-type {\n",
              "        vertical-align: middle;\n",
              "    }\n",
              "\n",
              "    .dataframe tbody tr th {\n",
              "        vertical-align: top;\n",
              "    }\n",
              "\n",
              "    .dataframe thead th {\n",
              "        text-align: right;\n",
              "    }\n",
              "</style>\n",
              "<table border=\"1\" class=\"dataframe\">\n",
              "  <thead>\n",
              "    <tr style=\"text-align: right;\">\n",
              "      <th></th>\n",
              "      <th>Title</th>\n",
              "      <th>Count</th>\n",
              "    </tr>\n",
              "  </thead>\n",
              "  <tbody>\n",
              "    <tr>\n",
              "      <td>0</td>\n",
              "      <td>Hamlet</td>\n",
              "      <td>5</td>\n",
              "    </tr>\n",
              "    <tr>\n",
              "      <td>1</td>\n",
              "      <td>Mummy, The</td>\n",
              "      <td>3</td>\n",
              "    </tr>\n",
              "    <tr>\n",
              "      <td>2</td>\n",
              "      <td>Haunting, The</td>\n",
              "      <td>2</td>\n",
              "    </tr>\n",
              "    <tr>\n",
              "      <td>3</td>\n",
              "      <td>Othello</td>\n",
              "      <td>2</td>\n",
              "    </tr>\n",
              "    <tr>\n",
              "      <td>4</td>\n",
              "      <td>King and I, The</td>\n",
              "      <td>2</td>\n",
              "    </tr>\n",
              "    <tr>\n",
              "      <td>5</td>\n",
              "      <td>101 Dalmatians</td>\n",
              "      <td>2</td>\n",
              "    </tr>\n",
              "    <tr>\n",
              "      <td>6</td>\n",
              "      <td>Dracula</td>\n",
              "      <td>2</td>\n",
              "    </tr>\n",
              "    <tr>\n",
              "      <td>7</td>\n",
              "      <td>Get Carter</td>\n",
              "      <td>2</td>\n",
              "    </tr>\n",
              "    <tr>\n",
              "      <td>8</td>\n",
              "      <td>Scarlet Letter, The</td>\n",
              "      <td>2</td>\n",
              "    </tr>\n",
              "    <tr>\n",
              "      <td>9</td>\n",
              "      <td>Parent Trap, The</td>\n",
              "      <td>2</td>\n",
              "    </tr>\n",
              "    <tr>\n",
              "      <td>10</td>\n",
              "      <td>Nutty Professor, The</td>\n",
              "      <td>2</td>\n",
              "    </tr>\n",
              "    <tr>\n",
              "      <td>11</td>\n",
              "      <td>Sabrina</td>\n",
              "      <td>2</td>\n",
              "    </tr>\n",
              "    <tr>\n",
              "      <td>12</td>\n",
              "      <td>Mighty Joe Young</td>\n",
              "      <td>2</td>\n",
              "    </tr>\n",
              "    <tr>\n",
              "      <td>13</td>\n",
              "      <td>My Man Godfrey</td>\n",
              "      <td>2</td>\n",
              "    </tr>\n",
              "    <tr>\n",
              "      <td>14</td>\n",
              "      <td>Cape Fear</td>\n",
              "      <td>2</td>\n",
              "    </tr>\n",
              "    <tr>\n",
              "      <td>15</td>\n",
              "      <td>Mis�rables, Les</td>\n",
              "      <td>2</td>\n",
              "    </tr>\n",
              "    <tr>\n",
              "      <td>16</td>\n",
              "      <td>Loser</td>\n",
              "      <td>2</td>\n",
              "    </tr>\n",
              "    <tr>\n",
              "      <td>17</td>\n",
              "      <td>Fly, The</td>\n",
              "      <td>2</td>\n",
              "    </tr>\n",
              "    <tr>\n",
              "      <td>18</td>\n",
              "      <td>End of the Affair, The</td>\n",
              "      <td>2</td>\n",
              "    </tr>\n",
              "    <tr>\n",
              "      <td>19</td>\n",
              "      <td>Titanic</td>\n",
              "      <td>2</td>\n",
              "    </tr>\n",
              "    <tr>\n",
              "      <td>20</td>\n",
              "      <td>True Crime</td>\n",
              "      <td>2</td>\n",
              "    </tr>\n",
              "    <tr>\n",
              "      <td>21</td>\n",
              "      <td>Man Who Knew Too Much, The</td>\n",
              "      <td>2</td>\n",
              "    </tr>\n",
              "    <tr>\n",
              "      <td>22</td>\n",
              "      <td>Lolita</td>\n",
              "      <td>2</td>\n",
              "    </tr>\n",
              "    <tr>\n",
              "      <td>23</td>\n",
              "      <td>Jungle Book, The</td>\n",
              "      <td>2</td>\n",
              "    </tr>\n",
              "    <tr>\n",
              "      <td>24</td>\n",
              "      <td>Ballad of Narayama, The (Narayama Bushiko)</td>\n",
              "      <td>2</td>\n",
              "    </tr>\n",
              "    <tr>\n",
              "      <td>25</td>\n",
              "      <td>Thomas Crown Affair, The</td>\n",
              "      <td>2</td>\n",
              "    </tr>\n",
              "    <tr>\n",
              "      <td>26</td>\n",
              "      <td>Kid, The</td>\n",
              "      <td>2</td>\n",
              "    </tr>\n",
              "    <tr>\n",
              "      <td>27</td>\n",
              "      <td>Village of the Damned</td>\n",
              "      <td>2</td>\n",
              "    </tr>\n",
              "    <tr>\n",
              "      <td>28</td>\n",
              "      <td>Miracle on 34th Street</td>\n",
              "      <td>2</td>\n",
              "    </tr>\n",
              "    <tr>\n",
              "      <td>29</td>\n",
              "      <td>That Darn Cat!</td>\n",
              "      <td>2</td>\n",
              "    </tr>\n",
              "    <tr>\n",
              "      <td>30</td>\n",
              "      <td>Psycho</td>\n",
              "      <td>2</td>\n",
              "    </tr>\n",
              "    <tr>\n",
              "      <td>31</td>\n",
              "      <td>Wonderland</td>\n",
              "      <td>2</td>\n",
              "    </tr>\n",
              "    <tr>\n",
              "      <td>32</td>\n",
              "      <td>Godzilla (Gojira)</td>\n",
              "      <td>2</td>\n",
              "    </tr>\n",
              "    <tr>\n",
              "      <td>33</td>\n",
              "      <td>King Kong</td>\n",
              "      <td>2</td>\n",
              "    </tr>\n",
              "    <tr>\n",
              "      <td>34</td>\n",
              "      <td>Doctor Dolittle</td>\n",
              "      <td>2</td>\n",
              "    </tr>\n",
              "    <tr>\n",
              "      <td>35</td>\n",
              "      <td>General, The</td>\n",
              "      <td>2</td>\n",
              "    </tr>\n",
              "    <tr>\n",
              "      <td>36</td>\n",
              "      <td>Kronos</td>\n",
              "      <td>2</td>\n",
              "    </tr>\n",
              "    <tr>\n",
              "      <td>37</td>\n",
              "      <td>Shaft</td>\n",
              "      <td>2</td>\n",
              "    </tr>\n",
              "  </tbody>\n",
              "</table>\n",
              "</div>"
            ],
            "text/plain": [
              "                                         Title  Count\n",
              "0                                       Hamlet      5\n",
              "1                                   Mummy, The      3\n",
              "2                                Haunting, The      2\n",
              "3                                      Othello      2\n",
              "4                              King and I, The      2\n",
              "5                               101 Dalmatians      2\n",
              "6                                      Dracula      2\n",
              "7                                   Get Carter      2\n",
              "8                          Scarlet Letter, The      2\n",
              "9                             Parent Trap, The      2\n",
              "10                        Nutty Professor, The      2\n",
              "11                                     Sabrina      2\n",
              "12                            Mighty Joe Young      2\n",
              "13                              My Man Godfrey      2\n",
              "14                                   Cape Fear      2\n",
              "15                             Mis�rables, Les      2\n",
              "16                                       Loser      2\n",
              "17                                    Fly, The      2\n",
              "18                      End of the Affair, The      2\n",
              "19                                     Titanic      2\n",
              "20                                  True Crime      2\n",
              "21                  Man Who Knew Too Much, The      2\n",
              "22                                      Lolita      2\n",
              "23                            Jungle Book, The      2\n",
              "24  Ballad of Narayama, The (Narayama Bushiko)      2\n",
              "25                    Thomas Crown Affair, The      2\n",
              "26                                    Kid, The      2\n",
              "27                       Village of the Damned      2\n",
              "28                      Miracle on 34th Street      2\n",
              "29                              That Darn Cat!      2\n",
              "30                                      Psycho      2\n",
              "31                                  Wonderland      2\n",
              "32                           Godzilla (Gojira)      2\n",
              "33                                   King Kong      2\n",
              "34                             Doctor Dolittle      2\n",
              "35                                General, The      2\n",
              "36                                      Kronos      2\n",
              "37                                       Shaft      2"
            ]
          },
          "metadata": {
            "tags": []
          },
          "execution_count": 45
        }
      ]
    },
    {
      "cell_type": "code",
      "metadata": {
        "collapsed": true,
        "id": "VPpdWpYoss7q",
        "colab_type": "code",
        "colab": {},
        "outputId": "99eba01c-5841-4ed8-9c7c-277504a881a5"
      },
      "source": [
        "counts = movies.Title.value_counts().reset_index()\n",
        "counts = counts[counts.Title > 1]\n",
        "counts.rename({\"index\":\"Title\", \"Title\":\"Count\"}, axis=1)"
      ],
      "execution_count": null,
      "outputs": [
        {
          "output_type": "execute_result",
          "data": {
            "text/html": [
              "<div>\n",
              "<style scoped>\n",
              "    .dataframe tbody tr th:only-of-type {\n",
              "        vertical-align: middle;\n",
              "    }\n",
              "\n",
              "    .dataframe tbody tr th {\n",
              "        vertical-align: top;\n",
              "    }\n",
              "\n",
              "    .dataframe thead th {\n",
              "        text-align: right;\n",
              "    }\n",
              "</style>\n",
              "<table border=\"1\" class=\"dataframe\">\n",
              "  <thead>\n",
              "    <tr style=\"text-align: right;\">\n",
              "      <th></th>\n",
              "      <th>Title</th>\n",
              "      <th>Count</th>\n",
              "    </tr>\n",
              "  </thead>\n",
              "  <tbody>\n",
              "    <tr>\n",
              "      <td>0</td>\n",
              "      <td>Hamlet</td>\n",
              "      <td>5</td>\n",
              "    </tr>\n",
              "    <tr>\n",
              "      <td>1</td>\n",
              "      <td>Mummy, The</td>\n",
              "      <td>3</td>\n",
              "    </tr>\n",
              "    <tr>\n",
              "      <td>2</td>\n",
              "      <td>Haunting, The</td>\n",
              "      <td>2</td>\n",
              "    </tr>\n",
              "    <tr>\n",
              "      <td>3</td>\n",
              "      <td>Othello</td>\n",
              "      <td>2</td>\n",
              "    </tr>\n",
              "    <tr>\n",
              "      <td>4</td>\n",
              "      <td>King and I, The</td>\n",
              "      <td>2</td>\n",
              "    </tr>\n",
              "    <tr>\n",
              "      <td>5</td>\n",
              "      <td>101 Dalmatians</td>\n",
              "      <td>2</td>\n",
              "    </tr>\n",
              "    <tr>\n",
              "      <td>6</td>\n",
              "      <td>Dracula</td>\n",
              "      <td>2</td>\n",
              "    </tr>\n",
              "    <tr>\n",
              "      <td>7</td>\n",
              "      <td>Get Carter</td>\n",
              "      <td>2</td>\n",
              "    </tr>\n",
              "    <tr>\n",
              "      <td>8</td>\n",
              "      <td>Scarlet Letter, The</td>\n",
              "      <td>2</td>\n",
              "    </tr>\n",
              "    <tr>\n",
              "      <td>9</td>\n",
              "      <td>Parent Trap, The</td>\n",
              "      <td>2</td>\n",
              "    </tr>\n",
              "    <tr>\n",
              "      <td>10</td>\n",
              "      <td>Nutty Professor, The</td>\n",
              "      <td>2</td>\n",
              "    </tr>\n",
              "    <tr>\n",
              "      <td>11</td>\n",
              "      <td>Sabrina</td>\n",
              "      <td>2</td>\n",
              "    </tr>\n",
              "    <tr>\n",
              "      <td>12</td>\n",
              "      <td>Mighty Joe Young</td>\n",
              "      <td>2</td>\n",
              "    </tr>\n",
              "    <tr>\n",
              "      <td>13</td>\n",
              "      <td>My Man Godfrey</td>\n",
              "      <td>2</td>\n",
              "    </tr>\n",
              "    <tr>\n",
              "      <td>14</td>\n",
              "      <td>Cape Fear</td>\n",
              "      <td>2</td>\n",
              "    </tr>\n",
              "    <tr>\n",
              "      <td>15</td>\n",
              "      <td>Mis�rables, Les</td>\n",
              "      <td>2</td>\n",
              "    </tr>\n",
              "    <tr>\n",
              "      <td>16</td>\n",
              "      <td>Loser</td>\n",
              "      <td>2</td>\n",
              "    </tr>\n",
              "    <tr>\n",
              "      <td>17</td>\n",
              "      <td>Fly, The</td>\n",
              "      <td>2</td>\n",
              "    </tr>\n",
              "    <tr>\n",
              "      <td>18</td>\n",
              "      <td>End of the Affair, The</td>\n",
              "      <td>2</td>\n",
              "    </tr>\n",
              "    <tr>\n",
              "      <td>19</td>\n",
              "      <td>Titanic</td>\n",
              "      <td>2</td>\n",
              "    </tr>\n",
              "    <tr>\n",
              "      <td>20</td>\n",
              "      <td>True Crime</td>\n",
              "      <td>2</td>\n",
              "    </tr>\n",
              "    <tr>\n",
              "      <td>21</td>\n",
              "      <td>Man Who Knew Too Much, The</td>\n",
              "      <td>2</td>\n",
              "    </tr>\n",
              "    <tr>\n",
              "      <td>22</td>\n",
              "      <td>Lolita</td>\n",
              "      <td>2</td>\n",
              "    </tr>\n",
              "    <tr>\n",
              "      <td>23</td>\n",
              "      <td>Jungle Book, The</td>\n",
              "      <td>2</td>\n",
              "    </tr>\n",
              "    <tr>\n",
              "      <td>24</td>\n",
              "      <td>Ballad of Narayama, The (Narayama Bushiko)</td>\n",
              "      <td>2</td>\n",
              "    </tr>\n",
              "    <tr>\n",
              "      <td>25</td>\n",
              "      <td>Thomas Crown Affair, The</td>\n",
              "      <td>2</td>\n",
              "    </tr>\n",
              "    <tr>\n",
              "      <td>26</td>\n",
              "      <td>Kid, The</td>\n",
              "      <td>2</td>\n",
              "    </tr>\n",
              "    <tr>\n",
              "      <td>27</td>\n",
              "      <td>Village of the Damned</td>\n",
              "      <td>2</td>\n",
              "    </tr>\n",
              "    <tr>\n",
              "      <td>28</td>\n",
              "      <td>Miracle on 34th Street</td>\n",
              "      <td>2</td>\n",
              "    </tr>\n",
              "    <tr>\n",
              "      <td>29</td>\n",
              "      <td>That Darn Cat!</td>\n",
              "      <td>2</td>\n",
              "    </tr>\n",
              "    <tr>\n",
              "      <td>30</td>\n",
              "      <td>Psycho</td>\n",
              "      <td>2</td>\n",
              "    </tr>\n",
              "    <tr>\n",
              "      <td>31</td>\n",
              "      <td>Wonderland</td>\n",
              "      <td>2</td>\n",
              "    </tr>\n",
              "    <tr>\n",
              "      <td>32</td>\n",
              "      <td>Godzilla (Gojira)</td>\n",
              "      <td>2</td>\n",
              "    </tr>\n",
              "    <tr>\n",
              "      <td>33</td>\n",
              "      <td>King Kong</td>\n",
              "      <td>2</td>\n",
              "    </tr>\n",
              "    <tr>\n",
              "      <td>34</td>\n",
              "      <td>Doctor Dolittle</td>\n",
              "      <td>2</td>\n",
              "    </tr>\n",
              "    <tr>\n",
              "      <td>35</td>\n",
              "      <td>General, The</td>\n",
              "      <td>2</td>\n",
              "    </tr>\n",
              "    <tr>\n",
              "      <td>36</td>\n",
              "      <td>Kronos</td>\n",
              "      <td>2</td>\n",
              "    </tr>\n",
              "    <tr>\n",
              "      <td>37</td>\n",
              "      <td>Shaft</td>\n",
              "      <td>2</td>\n",
              "    </tr>\n",
              "  </tbody>\n",
              "</table>\n",
              "</div>"
            ],
            "text/plain": [
              "                                         Title  Count\n",
              "0                                       Hamlet      5\n",
              "1                                   Mummy, The      3\n",
              "2                                Haunting, The      2\n",
              "3                                      Othello      2\n",
              "4                              King and I, The      2\n",
              "5                               101 Dalmatians      2\n",
              "6                                      Dracula      2\n",
              "7                                   Get Carter      2\n",
              "8                          Scarlet Letter, The      2\n",
              "9                             Parent Trap, The      2\n",
              "10                        Nutty Professor, The      2\n",
              "11                                     Sabrina      2\n",
              "12                            Mighty Joe Young      2\n",
              "13                              My Man Godfrey      2\n",
              "14                                   Cape Fear      2\n",
              "15                             Mis�rables, Les      2\n",
              "16                                       Loser      2\n",
              "17                                    Fly, The      2\n",
              "18                      End of the Affair, The      2\n",
              "19                                     Titanic      2\n",
              "20                                  True Crime      2\n",
              "21                  Man Who Knew Too Much, The      2\n",
              "22                                      Lolita      2\n",
              "23                            Jungle Book, The      2\n",
              "24  Ballad of Narayama, The (Narayama Bushiko)      2\n",
              "25                    Thomas Crown Affair, The      2\n",
              "26                                    Kid, The      2\n",
              "27                       Village of the Damned      2\n",
              "28                      Miracle on 34th Street      2\n",
              "29                              That Darn Cat!      2\n",
              "30                                      Psycho      2\n",
              "31                                  Wonderland      2\n",
              "32                           Godzilla (Gojira)      2\n",
              "33                                   King Kong      2\n",
              "34                             Doctor Dolittle      2\n",
              "35                                General, The      2\n",
              "36                                      Kronos      2\n",
              "37                                       Shaft      2"
            ]
          },
          "metadata": {
            "tags": []
          },
          "execution_count": 47
        }
      ]
    },
    {
      "cell_type": "markdown",
      "metadata": {
        "id": "g5ozKxnyss7r",
        "colab_type": "text"
      },
      "source": [
        "## groupby"
      ]
    },
    {
      "cell_type": "code",
      "metadata": {
        "id": "7oXJO4p_ss7s",
        "colab_type": "code",
        "colab": {},
        "outputId": "d5be4b3f-1434-434c-c8a2-c7f8bc07c16f"
      },
      "source": [
        "movies.groupby(\"Title\").size().reset_index().rename({0:\"Count\"}, axis=1).query(\"Count>1\").shape"
      ],
      "execution_count": null,
      "outputs": [
        {
          "output_type": "execute_result",
          "data": {
            "text/plain": [
              "(38, 2)"
            ]
          },
          "metadata": {
            "tags": []
          },
          "execution_count": 76
        }
      ]
    },
    {
      "cell_type": "markdown",
      "metadata": {
        "id": "SxPXhWoVss7t",
        "colab_type": "text"
      },
      "source": [
        "## duplicated"
      ]
    },
    {
      "cell_type": "code",
      "metadata": {
        "collapsed": true,
        "id": "VkRWDTt4ss7t",
        "colab_type": "code",
        "colab": {},
        "outputId": "d7296654-154d-4c92-c0ce-c107f700f63b"
      },
      "source": [
        "movies.Title[movies.Title.duplicated()].reset_index().drop(\"index\", axis=1)"
      ],
      "execution_count": null,
      "outputs": [
        {
          "output_type": "execute_result",
          "data": {
            "text/html": [
              "<div>\n",
              "<style scoped>\n",
              "    .dataframe tbody tr th:only-of-type {\n",
              "        vertical-align: middle;\n",
              "    }\n",
              "\n",
              "    .dataframe tbody tr th {\n",
              "        vertical-align: top;\n",
              "    }\n",
              "\n",
              "    .dataframe thead th {\n",
              "        text-align: right;\n",
              "    }\n",
              "</style>\n",
              "<table border=\"1\" class=\"dataframe\">\n",
              "  <thead>\n",
              "    <tr style=\"text-align: right;\">\n",
              "      <th></th>\n",
              "      <th>Title</th>\n",
              "    </tr>\n",
              "  </thead>\n",
              "  <tbody>\n",
              "    <tr>\n",
              "      <td>0</td>\n",
              "      <td>Sabrina</td>\n",
              "    </tr>\n",
              "    <tr>\n",
              "      <td>1</td>\n",
              "      <td>Scarlet Letter, The</td>\n",
              "    </tr>\n",
              "    <tr>\n",
              "      <td>2</td>\n",
              "      <td>Cape Fear</td>\n",
              "    </tr>\n",
              "    <tr>\n",
              "      <td>3</td>\n",
              "      <td>That Darn Cat!</td>\n",
              "    </tr>\n",
              "    <tr>\n",
              "      <td>4</td>\n",
              "      <td>Mis�rables, Les</td>\n",
              "    </tr>\n",
              "    <tr>\n",
              "      <td>5</td>\n",
              "      <td>Hamlet</td>\n",
              "    </tr>\n",
              "    <tr>\n",
              "      <td>6</td>\n",
              "      <td>Parent Trap, The</td>\n",
              "    </tr>\n",
              "    <tr>\n",
              "      <td>7</td>\n",
              "      <td>Jungle Book, The</td>\n",
              "    </tr>\n",
              "    <tr>\n",
              "      <td>8</td>\n",
              "      <td>101 Dalmatians</td>\n",
              "    </tr>\n",
              "    <tr>\n",
              "      <td>9</td>\n",
              "      <td>Doctor Dolittle</td>\n",
              "    </tr>\n",
              "    <tr>\n",
              "      <td>10</td>\n",
              "      <td>Nutty Professor, The</td>\n",
              "    </tr>\n",
              "    <tr>\n",
              "      <td>11</td>\n",
              "      <td>Man Who Knew Too Much, The</td>\n",
              "    </tr>\n",
              "    <tr>\n",
              "      <td>12</td>\n",
              "      <td>Godzilla (Gojira)</td>\n",
              "    </tr>\n",
              "    <tr>\n",
              "      <td>13</td>\n",
              "      <td>King Kong</td>\n",
              "    </tr>\n",
              "    <tr>\n",
              "      <td>14</td>\n",
              "      <td>Psycho</td>\n",
              "    </tr>\n",
              "    <tr>\n",
              "      <td>15</td>\n",
              "      <td>Miracle on 34th Street</td>\n",
              "    </tr>\n",
              "    <tr>\n",
              "      <td>16</td>\n",
              "      <td>Mighty Joe Young</td>\n",
              "    </tr>\n",
              "    <tr>\n",
              "      <td>17</td>\n",
              "      <td>Fly, The</td>\n",
              "    </tr>\n",
              "    <tr>\n",
              "      <td>18</td>\n",
              "      <td>Ballad of Narayama, The (Narayama Bushiko)</td>\n",
              "    </tr>\n",
              "    <tr>\n",
              "      <td>19</td>\n",
              "      <td>Village of the Damned</td>\n",
              "    </tr>\n",
              "    <tr>\n",
              "      <td>20</td>\n",
              "      <td>True Crime</td>\n",
              "    </tr>\n",
              "    <tr>\n",
              "      <td>21</td>\n",
              "      <td>King and I, The</td>\n",
              "    </tr>\n",
              "    <tr>\n",
              "      <td>22</td>\n",
              "      <td>Mummy, The</td>\n",
              "    </tr>\n",
              "    <tr>\n",
              "      <td>23</td>\n",
              "      <td>Mummy, The</td>\n",
              "    </tr>\n",
              "    <tr>\n",
              "      <td>24</td>\n",
              "      <td>Dracula</td>\n",
              "    </tr>\n",
              "    <tr>\n",
              "      <td>25</td>\n",
              "      <td>Haunting, The</td>\n",
              "    </tr>\n",
              "    <tr>\n",
              "      <td>26</td>\n",
              "      <td>Lolita</td>\n",
              "    </tr>\n",
              "    <tr>\n",
              "      <td>27</td>\n",
              "      <td>Thomas Crown Affair, The</td>\n",
              "    </tr>\n",
              "    <tr>\n",
              "      <td>28</td>\n",
              "      <td>Hamlet</td>\n",
              "    </tr>\n",
              "    <tr>\n",
              "      <td>29</td>\n",
              "      <td>Othello</td>\n",
              "    </tr>\n",
              "    <tr>\n",
              "      <td>30</td>\n",
              "      <td>General, The</td>\n",
              "    </tr>\n",
              "    <tr>\n",
              "      <td>31</td>\n",
              "      <td>My Man Godfrey</td>\n",
              "    </tr>\n",
              "    <tr>\n",
              "      <td>32</td>\n",
              "      <td>End of the Affair, The</td>\n",
              "    </tr>\n",
              "    <tr>\n",
              "      <td>33</td>\n",
              "      <td>Titanic</td>\n",
              "    </tr>\n",
              "    <tr>\n",
              "      <td>34</td>\n",
              "      <td>Hamlet</td>\n",
              "    </tr>\n",
              "    <tr>\n",
              "      <td>35</td>\n",
              "      <td>Loser</td>\n",
              "    </tr>\n",
              "    <tr>\n",
              "      <td>36</td>\n",
              "      <td>Hamlet</td>\n",
              "    </tr>\n",
              "    <tr>\n",
              "      <td>37</td>\n",
              "      <td>Shaft</td>\n",
              "    </tr>\n",
              "    <tr>\n",
              "      <td>38</td>\n",
              "      <td>Kid, The</td>\n",
              "    </tr>\n",
              "    <tr>\n",
              "      <td>39</td>\n",
              "      <td>Wonderland</td>\n",
              "    </tr>\n",
              "    <tr>\n",
              "      <td>40</td>\n",
              "      <td>Kronos</td>\n",
              "    </tr>\n",
              "    <tr>\n",
              "      <td>41</td>\n",
              "      <td>Get Carter</td>\n",
              "    </tr>\n",
              "  </tbody>\n",
              "</table>\n",
              "</div>"
            ],
            "text/plain": [
              "                                         Title\n",
              "0                                      Sabrina\n",
              "1                          Scarlet Letter, The\n",
              "2                                    Cape Fear\n",
              "3                               That Darn Cat!\n",
              "4                              Mis�rables, Les\n",
              "5                                       Hamlet\n",
              "6                             Parent Trap, The\n",
              "7                             Jungle Book, The\n",
              "8                               101 Dalmatians\n",
              "9                              Doctor Dolittle\n",
              "10                        Nutty Professor, The\n",
              "11                  Man Who Knew Too Much, The\n",
              "12                           Godzilla (Gojira)\n",
              "13                                   King Kong\n",
              "14                                      Psycho\n",
              "15                      Miracle on 34th Street\n",
              "16                            Mighty Joe Young\n",
              "17                                    Fly, The\n",
              "18  Ballad of Narayama, The (Narayama Bushiko)\n",
              "19                       Village of the Damned\n",
              "20                                  True Crime\n",
              "21                             King and I, The\n",
              "22                                  Mummy, The\n",
              "23                                  Mummy, The\n",
              "24                                     Dracula\n",
              "25                               Haunting, The\n",
              "26                                      Lolita\n",
              "27                    Thomas Crown Affair, The\n",
              "28                                      Hamlet\n",
              "29                                     Othello\n",
              "30                                General, The\n",
              "31                              My Man Godfrey\n",
              "32                      End of the Affair, The\n",
              "33                                     Titanic\n",
              "34                                      Hamlet\n",
              "35                                       Loser\n",
              "36                                      Hamlet\n",
              "37                                       Shaft\n",
              "38                                    Kid, The\n",
              "39                                  Wonderland\n",
              "40                                      Kronos\n",
              "41                                  Get Carter"
            ]
          },
          "metadata": {
            "tags": []
          },
          "execution_count": 53
        }
      ]
    },
    {
      "cell_type": "markdown",
      "metadata": {
        "id": "j5trnyENss7w",
        "colab_type": "text"
      },
      "source": [
        "# 5. Kontynuacja poprzedniego, o remakach: jaki film ma największą odległość od najstarszej wersji do najnowszej?"
      ]
    },
    {
      "cell_type": "code",
      "metadata": {
        "collapsed": true,
        "id": "nSFyyyXYss7w",
        "colab_type": "code",
        "colab": {},
        "outputId": "33698cd9-16a2-4053-c8c4-2374610ee030"
      },
      "source": [
        "movies.groupby(\"Title\")[\"Year\"].agg([\"min\", \"max\"])[\"min\"] # najlepiej po prostu uniknąć problem"
      ],
      "execution_count": null,
      "outputs": [
        {
          "output_type": "execute_result",
          "data": {
            "text/plain": [
              "Title\n",
              "$1,000,000 Duck                        1971\n",
              "'Night Mother                          1986\n",
              "'Til There Was You                     1997\n",
              "'burbs, The                            1989\n",
              "...And Justice for All                 1979\n",
              "                                       ... \n",
              "Zero Effect                            1998\n",
              "Zero Kelvin (Kj�rlighetens kj�tere)    1995\n",
              "Zeus and Roxanne                       1997\n",
              "Zone 39                                1997\n",
              "eXistenZ                               1999\n",
              "Name: min, Length: 3841, dtype: int64"
            ]
          },
          "metadata": {
            "tags": []
          },
          "execution_count": 55
        }
      ]
    },
    {
      "cell_type": "code",
      "metadata": {
        "collapsed": true,
        "id": "ozhZ9W8Oss7y",
        "colab_type": "code",
        "colab": {},
        "outputId": "4fb1624b-7205-432e-9b0f-40a2190b96b9"
      },
      "source": [
        "remaki = movies.groupby(\"Title\").agg({\"Year\": [\"min\", \"max\"]})\n",
        "remaki[(\"Year\", \"min\")]\n",
        "remaki[(\"Year\", \"max\")]"
      ],
      "execution_count": null,
      "outputs": [
        {
          "output_type": "execute_result",
          "data": {
            "text/plain": [
              "Title\n",
              "$1,000,000 Duck                        1971\n",
              "'Night Mother                          1986\n",
              "'Til There Was You                     1997\n",
              "'burbs, The                            1989\n",
              "...And Justice for All                 1979\n",
              "                                       ... \n",
              "Zero Effect                            1998\n",
              "Zero Kelvin (Kj�rlighetens kj�tere)    1995\n",
              "Zeus and Roxanne                       1997\n",
              "Zone 39                                1997\n",
              "eXistenZ                               1999\n",
              "Name: (Year, max), Length: 3841, dtype: int64"
            ]
          },
          "metadata": {
            "tags": []
          },
          "execution_count": 59
        }
      ]
    },
    {
      "cell_type": "code",
      "metadata": {
        "id": "CQK_7s6Nss70",
        "colab_type": "code",
        "colab": {}
      },
      "source": [
        "remaki[\"Range\"] = remaki[(\"Year\", \"max\")] - remaki[(\"Year\", \"min\")]"
      ],
      "execution_count": null,
      "outputs": []
    },
    {
      "cell_type": "code",
      "metadata": {
        "collapsed": true,
        "id": "cE8QNeeWss72",
        "colab_type": "code",
        "colab": {},
        "outputId": "ecbe96c9-b5ea-43b5-ac5b-94fca90d721d"
      },
      "source": [
        "remaki.sort_values(by=\"Range\", ascending=False)"
      ],
      "execution_count": null,
      "outputs": [
        {
          "output_type": "execute_result",
          "data": {
            "text/html": [
              "<div>\n",
              "<style scoped>\n",
              "    .dataframe tbody tr th:only-of-type {\n",
              "        vertical-align: middle;\n",
              "    }\n",
              "\n",
              "    .dataframe tbody tr th {\n",
              "        vertical-align: top;\n",
              "    }\n",
              "\n",
              "    .dataframe thead tr th {\n",
              "        text-align: left;\n",
              "    }\n",
              "\n",
              "    .dataframe thead tr:last-of-type th {\n",
              "        text-align: right;\n",
              "    }\n",
              "</style>\n",
              "<table border=\"1\" class=\"dataframe\">\n",
              "  <thead>\n",
              "    <tr>\n",
              "      <th></th>\n",
              "      <th colspan=\"2\" halign=\"left\">Year</th>\n",
              "      <th>Range</th>\n",
              "    </tr>\n",
              "    <tr>\n",
              "      <th></th>\n",
              "      <th>min</th>\n",
              "      <th>max</th>\n",
              "      <th></th>\n",
              "    </tr>\n",
              "    <tr>\n",
              "      <th>Title</th>\n",
              "      <th></th>\n",
              "      <th></th>\n",
              "      <th></th>\n",
              "    </tr>\n",
              "  </thead>\n",
              "  <tbody>\n",
              "    <tr>\n",
              "      <td>Kid, The</td>\n",
              "      <td>1921</td>\n",
              "      <td>2000</td>\n",
              "      <td>79</td>\n",
              "    </tr>\n",
              "    <tr>\n",
              "      <td>General, The</td>\n",
              "      <td>1927</td>\n",
              "      <td>1998</td>\n",
              "      <td>71</td>\n",
              "    </tr>\n",
              "    <tr>\n",
              "      <td>Scarlet Letter, The</td>\n",
              "      <td>1926</td>\n",
              "      <td>1995</td>\n",
              "      <td>69</td>\n",
              "    </tr>\n",
              "    <tr>\n",
              "      <td>Mummy, The</td>\n",
              "      <td>1932</td>\n",
              "      <td>1999</td>\n",
              "      <td>67</td>\n",
              "    </tr>\n",
              "    <tr>\n",
              "      <td>Hamlet</td>\n",
              "      <td>1948</td>\n",
              "      <td>2000</td>\n",
              "      <td>52</td>\n",
              "    </tr>\n",
              "    <tr>\n",
              "      <td>...</td>\n",
              "      <td>...</td>\n",
              "      <td>...</td>\n",
              "      <td>...</td>\n",
              "    </tr>\n",
              "    <tr>\n",
              "      <td>Freejack</td>\n",
              "      <td>1992</td>\n",
              "      <td>1992</td>\n",
              "      <td>0</td>\n",
              "    </tr>\n",
              "    <tr>\n",
              "      <td>Freeway</td>\n",
              "      <td>1996</td>\n",
              "      <td>1996</td>\n",
              "      <td>0</td>\n",
              "    </tr>\n",
              "    <tr>\n",
              "      <td>French Connection, The</td>\n",
              "      <td>1971</td>\n",
              "      <td>1971</td>\n",
              "      <td>0</td>\n",
              "    </tr>\n",
              "    <tr>\n",
              "      <td>French Kiss</td>\n",
              "      <td>1995</td>\n",
              "      <td>1995</td>\n",
              "      <td>0</td>\n",
              "    </tr>\n",
              "    <tr>\n",
              "      <td>eXistenZ</td>\n",
              "      <td>1999</td>\n",
              "      <td>1999</td>\n",
              "      <td>0</td>\n",
              "    </tr>\n",
              "  </tbody>\n",
              "</table>\n",
              "<p>3841 rows × 3 columns</p>\n",
              "</div>"
            ],
            "text/plain": [
              "                        Year       Range\n",
              "                         min   max      \n",
              "Title                                   \n",
              "Kid, The                1921  2000    79\n",
              "General, The            1927  1998    71\n",
              "Scarlet Letter, The     1926  1995    69\n",
              "Mummy, The              1932  1999    67\n",
              "Hamlet                  1948  2000    52\n",
              "...                      ...   ...   ...\n",
              "Freejack                1992  1992     0\n",
              "Freeway                 1996  1996     0\n",
              "French Connection, The  1971  1971     0\n",
              "French Kiss             1995  1995     0\n",
              "eXistenZ                1999  1999     0\n",
              "\n",
              "[3841 rows x 3 columns]"
            ]
          },
          "metadata": {
            "tags": []
          },
          "execution_count": 65
        }
      ]
    },
    {
      "cell_type": "markdown",
      "metadata": {
        "id": "MddEzPDzss73",
        "colab_type": "text"
      },
      "source": [
        "# 5a. Wypisać remaki, interesuje nas tytuł i rok, mają być koło siebie, posortowane od najmłodszego do najstarszego remaka"
      ]
    },
    {
      "cell_type": "markdown",
      "metadata": {
        "id": "w3Qdq9K4ss73",
        "colab_type": "text"
      },
      "source": [
        "```\n",
        "Hamlet 2003\n",
        "Hamlet 1995\n",
        "Hamlet 1965\n",
        "Sabrina 2001\n",
        "Sabrina 1999\n",
        "```"
      ]
    },
    {
      "cell_type": "code",
      "metadata": {
        "id": "GlyqCeVpss74",
        "colab_type": "code",
        "colab": {}
      },
      "source": [
        "sort_values\n",
        "duplicated"
      ],
      "execution_count": null,
      "outputs": []
    },
    {
      "cell_type": "code",
      "metadata": {
        "collapsed": true,
        "id": "sS1SlsbJss77",
        "colab_type": "code",
        "colab": {},
        "outputId": "b0cc1636-fd5b-433e-a943-4e06a6489b81"
      },
      "source": [
        "movies[[\"Title\", \"Year\"]][movies.Title.duplicated(keep=False)]\\\n",
        "    .sort_values([\"Title\", \"Year\"], ascending=[True, False])"
      ],
      "execution_count": null,
      "outputs": [
        {
          "output_type": "execute_result",
          "data": {
            "text/html": [
              "<div>\n",
              "<style scoped>\n",
              "    .dataframe tbody tr th:only-of-type {\n",
              "        vertical-align: middle;\n",
              "    }\n",
              "\n",
              "    .dataframe tbody tr th {\n",
              "        vertical-align: top;\n",
              "    }\n",
              "\n",
              "    .dataframe thead th {\n",
              "        text-align: right;\n",
              "    }\n",
              "</style>\n",
              "<table border=\"1\" class=\"dataframe\">\n",
              "  <thead>\n",
              "    <tr style=\"text-align: right;\">\n",
              "      <th></th>\n",
              "      <th>Title</th>\n",
              "      <th>Year</th>\n",
              "    </tr>\n",
              "  </thead>\n",
              "  <tbody>\n",
              "    <tr>\n",
              "      <td>1346</td>\n",
              "      <td>101 Dalmatians</td>\n",
              "      <td>1996</td>\n",
              "    </tr>\n",
              "    <tr>\n",
              "      <td>2016</td>\n",
              "      <td>101 Dalmatians</td>\n",
              "      <td>1961</td>\n",
              "    </tr>\n",
              "    <tr>\n",
              "      <td>2443</td>\n",
              "      <td>Ballad of Narayama, The (Narayama Bushiko)</td>\n",
              "      <td>1982</td>\n",
              "    </tr>\n",
              "    <tr>\n",
              "      <td>843</td>\n",
              "      <td>Ballad of Narayama, The (Narayama Bushiko)</td>\n",
              "      <td>1958</td>\n",
              "    </tr>\n",
              "    <tr>\n",
              "      <td>1322</td>\n",
              "      <td>Cape Fear</td>\n",
              "      <td>1991</td>\n",
              "    </tr>\n",
              "    <tr>\n",
              "      <td>...</td>\n",
              "      <td>...</td>\n",
              "      <td>...</td>\n",
              "    </tr>\n",
              "    <tr>\n",
              "      <td>686</td>\n",
              "      <td>True Crime</td>\n",
              "      <td>1995</td>\n",
              "    </tr>\n",
              "    <tr>\n",
              "      <td>328</td>\n",
              "      <td>Village of the Damned</td>\n",
              "      <td>1995</td>\n",
              "    </tr>\n",
              "    <tr>\n",
              "      <td>2484</td>\n",
              "      <td>Village of the Damned</td>\n",
              "      <td>1960</td>\n",
              "    </tr>\n",
              "    <tr>\n",
              "      <td>3753</td>\n",
              "      <td>Wonderland</td>\n",
              "      <td>1999</td>\n",
              "    </tr>\n",
              "    <tr>\n",
              "      <td>1611</td>\n",
              "      <td>Wonderland</td>\n",
              "      <td>1997</td>\n",
              "    </tr>\n",
              "  </tbody>\n",
              "</table>\n",
              "<p>80 rows × 2 columns</p>\n",
              "</div>"
            ],
            "text/plain": [
              "                                           Title  Year\n",
              "1346                              101 Dalmatians  1996\n",
              "2016                              101 Dalmatians  1961\n",
              "2443  Ballad of Narayama, The (Narayama Bushiko)  1982\n",
              "843   Ballad of Narayama, The (Narayama Bushiko)  1958\n",
              "1322                                   Cape Fear  1991\n",
              "...                                          ...   ...\n",
              "686                                   True Crime  1995\n",
              "328                        Village of the Damned  1995\n",
              "2484                       Village of the Damned  1960\n",
              "3753                                  Wonderland  1999\n",
              "1611                                  Wonderland  1997\n",
              "\n",
              "[80 rows x 2 columns]"
            ]
          },
          "metadata": {
            "tags": []
          },
          "execution_count": 68
        }
      ]
    },
    {
      "cell_type": "markdown",
      "metadata": {
        "id": "kHkybaNAss78",
        "colab_type": "text"
      },
      "source": [
        "# 5b. Wybieramy cały rekord dotyczący filmu będącego remakiem, ale za każdym razem tylko najmłodszy"
      ]
    },
    {
      "cell_type": "markdown",
      "metadata": {
        "id": "ThcjyE8Hss78",
        "colab_type": "text"
      },
      "source": [
        "```\n",
        "Hamlet 2003 Drama|Historyczny\n",
        "Sabrina 2001 Fantasy|Teen\n",
        "```"
      ]
    },
    {
      "cell_type": "code",
      "metadata": {
        "id": "HxfAYpghss79",
        "colab_type": "code",
        "colab": {},
        "outputId": "55546f44-ce1f-45c9-b5bf-e8b3e7c36fda"
      },
      "source": [
        "movies[movies.Title.duplicated(keep=False)]\\\n",
        "    .sort_values([\"Title\", \"Year\"], ascending=[True, False]).drop_duplicates(subset=\"Title\", keep=\"first\").shape"
      ],
      "execution_count": null,
      "outputs": [
        {
          "output_type": "execute_result",
          "data": {
            "text/plain": [
              "(38, 4)"
            ]
          },
          "metadata": {
            "tags": []
          },
          "execution_count": 74
        }
      ]
    },
    {
      "cell_type": "code",
      "metadata": {
        "id": "-bj1WvHKss7-",
        "colab_type": "code",
        "colab": {}
      },
      "source": [
        "movies[movies.Title.sort_values([\"Title\", \"Year\"], ascending=[True, False])"
      ],
      "execution_count": null,
      "outputs": []
    },
    {
      "cell_type": "code",
      "metadata": {
        "id": "NBcIMWd8ss8A",
        "colab_type": "code",
        "colab": {},
        "outputId": "a66b6a44-f33a-4a14-af7e-c2f2a983553a"
      },
      "source": [
        "movies.sort_values([\"Title\", \"Year\"], ascending=[True, False])\\\n",
        "    .reset_index(drop=True)[movies.Title.duplicated(keep=\"first\")].shape"
      ],
      "execution_count": null,
      "outputs": [
        {
          "output_type": "execute_result",
          "data": {
            "text/plain": [
              "(42, 4)"
            ]
          },
          "metadata": {
            "tags": []
          },
          "execution_count": 78
        }
      ]
    },
    {
      "cell_type": "markdown",
      "metadata": {
        "id": "aT-_aNsBss8C",
        "colab_type": "text"
      },
      "source": [
        "# 6. Ile filmów powstało w poszczególnych latach"
      ]
    },
    {
      "cell_type": "markdown",
      "metadata": {
        "id": "5E1dQEA6ss8C",
        "colab_type": "text"
      },
      "source": [
        "* groupby\n",
        "* value_counts()"
      ]
    },
    {
      "cell_type": "code",
      "metadata": {
        "collapsed": true,
        "id": "grNzTcXfss8D",
        "colab_type": "code",
        "colab": {},
        "outputId": "eb6e1eac-816d-471a-e02d-d1063f4668d2"
      },
      "source": [
        "movies.Year.value_counts().reset_index()"
      ],
      "execution_count": null,
      "outputs": [
        {
          "output_type": "execute_result",
          "data": {
            "text/html": [
              "<div>\n",
              "<style scoped>\n",
              "    .dataframe tbody tr th:only-of-type {\n",
              "        vertical-align: middle;\n",
              "    }\n",
              "\n",
              "    .dataframe tbody tr th {\n",
              "        vertical-align: top;\n",
              "    }\n",
              "\n",
              "    .dataframe thead th {\n",
              "        text-align: right;\n",
              "    }\n",
              "</style>\n",
              "<table border=\"1\" class=\"dataframe\">\n",
              "  <thead>\n",
              "    <tr style=\"text-align: right;\">\n",
              "      <th></th>\n",
              "      <th>index</th>\n",
              "      <th>Year</th>\n",
              "    </tr>\n",
              "  </thead>\n",
              "  <tbody>\n",
              "    <tr>\n",
              "      <td>0</td>\n",
              "      <td>1996</td>\n",
              "      <td>345</td>\n",
              "    </tr>\n",
              "    <tr>\n",
              "      <td>1</td>\n",
              "      <td>1995</td>\n",
              "      <td>342</td>\n",
              "    </tr>\n",
              "    <tr>\n",
              "      <td>2</td>\n",
              "      <td>1998</td>\n",
              "      <td>337</td>\n",
              "    </tr>\n",
              "    <tr>\n",
              "      <td>3</td>\n",
              "      <td>1997</td>\n",
              "      <td>315</td>\n",
              "    </tr>\n",
              "    <tr>\n",
              "      <td>4</td>\n",
              "      <td>1999</td>\n",
              "      <td>283</td>\n",
              "    </tr>\n",
              "    <tr>\n",
              "      <td>...</td>\n",
              "      <td>...</td>\n",
              "      <td>...</td>\n",
              "    </tr>\n",
              "    <tr>\n",
              "      <td>76</td>\n",
              "      <td>1923</td>\n",
              "      <td>3</td>\n",
              "    </tr>\n",
              "    <tr>\n",
              "      <td>77</td>\n",
              "      <td>1929</td>\n",
              "      <td>3</td>\n",
              "    </tr>\n",
              "    <tr>\n",
              "      <td>78</td>\n",
              "      <td>1922</td>\n",
              "      <td>2</td>\n",
              "    </tr>\n",
              "    <tr>\n",
              "      <td>79</td>\n",
              "      <td>1920</td>\n",
              "      <td>2</td>\n",
              "    </tr>\n",
              "    <tr>\n",
              "      <td>80</td>\n",
              "      <td>1921</td>\n",
              "      <td>1</td>\n",
              "    </tr>\n",
              "  </tbody>\n",
              "</table>\n",
              "<p>81 rows × 2 columns</p>\n",
              "</div>"
            ],
            "text/plain": [
              "    index  Year\n",
              "0    1996   345\n",
              "1    1995   342\n",
              "2    1998   337\n",
              "3    1997   315\n",
              "4    1999   283\n",
              "..    ...   ...\n",
              "76   1923     3\n",
              "77   1929     3\n",
              "78   1922     2\n",
              "79   1920     2\n",
              "80   1921     1\n",
              "\n",
              "[81 rows x 2 columns]"
            ]
          },
          "metadata": {
            "tags": []
          },
          "execution_count": 80
        }
      ]
    },
    {
      "cell_type": "code",
      "metadata": {
        "collapsed": true,
        "id": "_GjlR6wNss8F",
        "colab_type": "code",
        "colab": {},
        "outputId": "887d98d8-10b9-462e-985a-f82cb88f85c0"
      },
      "source": [
        "movies.groupby(\"Year\").size().reset_index()"
      ],
      "execution_count": null,
      "outputs": [
        {
          "output_type": "execute_result",
          "data": {
            "text/html": [
              "<div>\n",
              "<style scoped>\n",
              "    .dataframe tbody tr th:only-of-type {\n",
              "        vertical-align: middle;\n",
              "    }\n",
              "\n",
              "    .dataframe tbody tr th {\n",
              "        vertical-align: top;\n",
              "    }\n",
              "\n",
              "    .dataframe thead th {\n",
              "        text-align: right;\n",
              "    }\n",
              "</style>\n",
              "<table border=\"1\" class=\"dataframe\">\n",
              "  <thead>\n",
              "    <tr style=\"text-align: right;\">\n",
              "      <th></th>\n",
              "      <th>Year</th>\n",
              "      <th>0</th>\n",
              "    </tr>\n",
              "  </thead>\n",
              "  <tbody>\n",
              "    <tr>\n",
              "      <td>0</td>\n",
              "      <td>1919</td>\n",
              "      <td>3</td>\n",
              "    </tr>\n",
              "    <tr>\n",
              "      <td>1</td>\n",
              "      <td>1920</td>\n",
              "      <td>2</td>\n",
              "    </tr>\n",
              "    <tr>\n",
              "      <td>2</td>\n",
              "      <td>1921</td>\n",
              "      <td>1</td>\n",
              "    </tr>\n",
              "    <tr>\n",
              "      <td>3</td>\n",
              "      <td>1922</td>\n",
              "      <td>2</td>\n",
              "    </tr>\n",
              "    <tr>\n",
              "      <td>4</td>\n",
              "      <td>1923</td>\n",
              "      <td>3</td>\n",
              "    </tr>\n",
              "    <tr>\n",
              "      <td>...</td>\n",
              "      <td>...</td>\n",
              "      <td>...</td>\n",
              "    </tr>\n",
              "    <tr>\n",
              "      <td>76</td>\n",
              "      <td>1996</td>\n",
              "      <td>345</td>\n",
              "    </tr>\n",
              "    <tr>\n",
              "      <td>77</td>\n",
              "      <td>1997</td>\n",
              "      <td>315</td>\n",
              "    </tr>\n",
              "    <tr>\n",
              "      <td>78</td>\n",
              "      <td>1998</td>\n",
              "      <td>337</td>\n",
              "    </tr>\n",
              "    <tr>\n",
              "      <td>79</td>\n",
              "      <td>1999</td>\n",
              "      <td>283</td>\n",
              "    </tr>\n",
              "    <tr>\n",
              "      <td>80</td>\n",
              "      <td>2000</td>\n",
              "      <td>156</td>\n",
              "    </tr>\n",
              "  </tbody>\n",
              "</table>\n",
              "<p>81 rows × 2 columns</p>\n",
              "</div>"
            ],
            "text/plain": [
              "    Year    0\n",
              "0   1919    3\n",
              "1   1920    2\n",
              "2   1921    1\n",
              "3   1922    2\n",
              "4   1923    3\n",
              "..   ...  ...\n",
              "76  1996  345\n",
              "77  1997  315\n",
              "78  1998  337\n",
              "79  1999  283\n",
              "80  2000  156\n",
              "\n",
              "[81 rows x 2 columns]"
            ]
          },
          "metadata": {
            "tags": []
          },
          "execution_count": 82
        }
      ]
    },
    {
      "cell_type": "markdown",
      "metadata": {
        "id": "JUGUfo-Uss8G",
        "colab_type": "text"
      },
      "source": [
        "# 7. Jak wygląda rozkład płci oraz grup wiekowych wśród użytkowników (zarówno jednowymiarowo, jak i dwuwymiarowo). Jednym wywołaniem!"
      ]
    },
    {
      "cell_type": "code",
      "metadata": {
        "id": "Mjd73k3Yss8H",
        "colab_type": "code",
        "colab": {}
      },
      "source": [
        "crosstab\n",
        "\n",
        "margins"
      ],
      "execution_count": null,
      "outputs": []
    },
    {
      "cell_type": "code",
      "metadata": {
        "collapsed": true,
        "id": "5fL0nQdFss8J",
        "colab_type": "code",
        "colab": {},
        "outputId": "972972a6-515a-4cb5-f39a-6265cae0d457"
      },
      "source": [
        "pd.crosstab(users.Gender, users.Age, margins=True, margins_name=\"Wszystko\")"
      ],
      "execution_count": null,
      "outputs": [
        {
          "output_type": "execute_result",
          "data": {
            "text/html": [
              "<div>\n",
              "<style scoped>\n",
              "    .dataframe tbody tr th:only-of-type {\n",
              "        vertical-align: middle;\n",
              "    }\n",
              "\n",
              "    .dataframe tbody tr th {\n",
              "        vertical-align: top;\n",
              "    }\n",
              "\n",
              "    .dataframe thead th {\n",
              "        text-align: right;\n",
              "    }\n",
              "</style>\n",
              "<table border=\"1\" class=\"dataframe\">\n",
              "  <thead>\n",
              "    <tr style=\"text-align: right;\">\n",
              "      <th>Age</th>\n",
              "      <th>1</th>\n",
              "      <th>18</th>\n",
              "      <th>25</th>\n",
              "      <th>35</th>\n",
              "      <th>45</th>\n",
              "      <th>50</th>\n",
              "      <th>56</th>\n",
              "      <th>Wszystko</th>\n",
              "    </tr>\n",
              "    <tr>\n",
              "      <th>Gender</th>\n",
              "      <th></th>\n",
              "      <th></th>\n",
              "      <th></th>\n",
              "      <th></th>\n",
              "      <th></th>\n",
              "      <th></th>\n",
              "      <th></th>\n",
              "      <th></th>\n",
              "    </tr>\n",
              "  </thead>\n",
              "  <tbody>\n",
              "    <tr>\n",
              "      <td>F</td>\n",
              "      <td>78</td>\n",
              "      <td>298</td>\n",
              "      <td>558</td>\n",
              "      <td>338</td>\n",
              "      <td>189</td>\n",
              "      <td>146</td>\n",
              "      <td>102</td>\n",
              "      <td>1709</td>\n",
              "    </tr>\n",
              "    <tr>\n",
              "      <td>M</td>\n",
              "      <td>144</td>\n",
              "      <td>805</td>\n",
              "      <td>1538</td>\n",
              "      <td>855</td>\n",
              "      <td>361</td>\n",
              "      <td>350</td>\n",
              "      <td>278</td>\n",
              "      <td>4331</td>\n",
              "    </tr>\n",
              "    <tr>\n",
              "      <td>Wszystko</td>\n",
              "      <td>222</td>\n",
              "      <td>1103</td>\n",
              "      <td>2096</td>\n",
              "      <td>1193</td>\n",
              "      <td>550</td>\n",
              "      <td>496</td>\n",
              "      <td>380</td>\n",
              "      <td>6040</td>\n",
              "    </tr>\n",
              "  </tbody>\n",
              "</table>\n",
              "</div>"
            ],
            "text/plain": [
              "Age         1    18    25    35   45   50   56  Wszystko\n",
              "Gender                                                  \n",
              "F          78   298   558   338  189  146  102      1709\n",
              "M         144   805  1538   855  361  350  278      4331\n",
              "Wszystko  222  1103  2096  1193  550  496  380      6040"
            ]
          },
          "metadata": {
            "tags": []
          },
          "execution_count": 86
        }
      ]
    },
    {
      "cell_type": "code",
      "metadata": {
        "collapsed": true,
        "id": "00RUtxDdss8L",
        "colab_type": "code",
        "colab": {},
        "outputId": "ba81e204-b463-4cd1-9eab-19cf4b4592d3"
      },
      "source": [
        "pd.crosstab(users.Gender, users.Age, margins=True, margins_name=\"Wszystko\", normalize=\"all\")"
      ],
      "execution_count": null,
      "outputs": [
        {
          "output_type": "execute_result",
          "data": {
            "text/html": [
              "<div>\n",
              "<style scoped>\n",
              "    .dataframe tbody tr th:only-of-type {\n",
              "        vertical-align: middle;\n",
              "    }\n",
              "\n",
              "    .dataframe tbody tr th {\n",
              "        vertical-align: top;\n",
              "    }\n",
              "\n",
              "    .dataframe thead th {\n",
              "        text-align: right;\n",
              "    }\n",
              "</style>\n",
              "<table border=\"1\" class=\"dataframe\">\n",
              "  <thead>\n",
              "    <tr style=\"text-align: right;\">\n",
              "      <th>Age</th>\n",
              "      <th>1</th>\n",
              "      <th>18</th>\n",
              "      <th>25</th>\n",
              "      <th>35</th>\n",
              "      <th>45</th>\n",
              "      <th>50</th>\n",
              "      <th>56</th>\n",
              "      <th>Wszystko</th>\n",
              "    </tr>\n",
              "    <tr>\n",
              "      <th>Gender</th>\n",
              "      <th></th>\n",
              "      <th></th>\n",
              "      <th></th>\n",
              "      <th></th>\n",
              "      <th></th>\n",
              "      <th></th>\n",
              "      <th></th>\n",
              "      <th></th>\n",
              "    </tr>\n",
              "  </thead>\n",
              "  <tbody>\n",
              "    <tr>\n",
              "      <td>F</td>\n",
              "      <td>0.012914</td>\n",
              "      <td>0.049338</td>\n",
              "      <td>0.092384</td>\n",
              "      <td>0.055960</td>\n",
              "      <td>0.031291</td>\n",
              "      <td>0.024172</td>\n",
              "      <td>0.016887</td>\n",
              "      <td>0.282947</td>\n",
              "    </tr>\n",
              "    <tr>\n",
              "      <td>M</td>\n",
              "      <td>0.023841</td>\n",
              "      <td>0.133278</td>\n",
              "      <td>0.254636</td>\n",
              "      <td>0.141556</td>\n",
              "      <td>0.059768</td>\n",
              "      <td>0.057947</td>\n",
              "      <td>0.046026</td>\n",
              "      <td>0.717053</td>\n",
              "    </tr>\n",
              "    <tr>\n",
              "      <td>Wszystko</td>\n",
              "      <td>0.036755</td>\n",
              "      <td>0.182616</td>\n",
              "      <td>0.347020</td>\n",
              "      <td>0.197517</td>\n",
              "      <td>0.091060</td>\n",
              "      <td>0.082119</td>\n",
              "      <td>0.062914</td>\n",
              "      <td>1.000000</td>\n",
              "    </tr>\n",
              "  </tbody>\n",
              "</table>\n",
              "</div>"
            ],
            "text/plain": [
              "Age              1        18        25        35        45        50  \\\n",
              "Gender                                                                 \n",
              "F         0.012914  0.049338  0.092384  0.055960  0.031291  0.024172   \n",
              "M         0.023841  0.133278  0.254636  0.141556  0.059768  0.057947   \n",
              "Wszystko  0.036755  0.182616  0.347020  0.197517  0.091060  0.082119   \n",
              "\n",
              "Age             56  Wszystko  \n",
              "Gender                        \n",
              "F         0.016887  0.282947  \n",
              "M         0.046026  0.717053  \n",
              "Wszystko  0.062914  1.000000  "
            ]
          },
          "metadata": {
            "tags": []
          },
          "execution_count": 93
        }
      ]
    },
    {
      "cell_type": "code",
      "metadata": {
        "collapsed": true,
        "id": "6VrflWURss8M",
        "colab_type": "code",
        "colab": {},
        "outputId": "9e03ff43-3c4a-4b74-ea04-46ffd3a41c9e"
      },
      "source": [
        "pd.crosstab(users.Gender, users.Age, margins=True, margins_name=\"Wszystko\", normalize=\"index\")"
      ],
      "execution_count": null,
      "outputs": [
        {
          "output_type": "execute_result",
          "data": {
            "text/html": [
              "<div>\n",
              "<style scoped>\n",
              "    .dataframe tbody tr th:only-of-type {\n",
              "        vertical-align: middle;\n",
              "    }\n",
              "\n",
              "    .dataframe tbody tr th {\n",
              "        vertical-align: top;\n",
              "    }\n",
              "\n",
              "    .dataframe thead th {\n",
              "        text-align: right;\n",
              "    }\n",
              "</style>\n",
              "<table border=\"1\" class=\"dataframe\">\n",
              "  <thead>\n",
              "    <tr style=\"text-align: right;\">\n",
              "      <th>Age</th>\n",
              "      <th>1</th>\n",
              "      <th>18</th>\n",
              "      <th>25</th>\n",
              "      <th>35</th>\n",
              "      <th>45</th>\n",
              "      <th>50</th>\n",
              "      <th>56</th>\n",
              "    </tr>\n",
              "    <tr>\n",
              "      <th>Gender</th>\n",
              "      <th></th>\n",
              "      <th></th>\n",
              "      <th></th>\n",
              "      <th></th>\n",
              "      <th></th>\n",
              "      <th></th>\n",
              "      <th></th>\n",
              "    </tr>\n",
              "  </thead>\n",
              "  <tbody>\n",
              "    <tr>\n",
              "      <td>F</td>\n",
              "      <td>0.045641</td>\n",
              "      <td>0.174371</td>\n",
              "      <td>0.326507</td>\n",
              "      <td>0.197776</td>\n",
              "      <td>0.110591</td>\n",
              "      <td>0.085430</td>\n",
              "      <td>0.059684</td>\n",
              "    </tr>\n",
              "    <tr>\n",
              "      <td>M</td>\n",
              "      <td>0.033249</td>\n",
              "      <td>0.185869</td>\n",
              "      <td>0.355114</td>\n",
              "      <td>0.197414</td>\n",
              "      <td>0.083353</td>\n",
              "      <td>0.080813</td>\n",
              "      <td>0.064188</td>\n",
              "    </tr>\n",
              "    <tr>\n",
              "      <td>Wszystko</td>\n",
              "      <td>0.036755</td>\n",
              "      <td>0.182616</td>\n",
              "      <td>0.347020</td>\n",
              "      <td>0.197517</td>\n",
              "      <td>0.091060</td>\n",
              "      <td>0.082119</td>\n",
              "      <td>0.062914</td>\n",
              "    </tr>\n",
              "  </tbody>\n",
              "</table>\n",
              "</div>"
            ],
            "text/plain": [
              "Age             1         18        25        35        45        50        56\n",
              "Gender                                                                        \n",
              "F         0.045641  0.174371  0.326507  0.197776  0.110591  0.085430  0.059684\n",
              "M         0.033249  0.185869  0.355114  0.197414  0.083353  0.080813  0.064188\n",
              "Wszystko  0.036755  0.182616  0.347020  0.197517  0.091060  0.082119  0.062914"
            ]
          },
          "metadata": {
            "tags": []
          },
          "execution_count": 94
        }
      ]
    },
    {
      "cell_type": "code",
      "metadata": {
        "collapsed": true,
        "id": "0Rdz-meCss8O",
        "colab_type": "code",
        "colab": {},
        "outputId": "86234f9e-627f-4fae-cefd-82c16702d74e"
      },
      "source": [
        "pd.crosstab(users.Gender, users.Age, margins=True, margins_name=\"Wszystko\", normalize=\"columns\")"
      ],
      "execution_count": null,
      "outputs": [
        {
          "output_type": "execute_result",
          "data": {
            "text/html": [
              "<div>\n",
              "<style scoped>\n",
              "    .dataframe tbody tr th:only-of-type {\n",
              "        vertical-align: middle;\n",
              "    }\n",
              "\n",
              "    .dataframe tbody tr th {\n",
              "        vertical-align: top;\n",
              "    }\n",
              "\n",
              "    .dataframe thead th {\n",
              "        text-align: right;\n",
              "    }\n",
              "</style>\n",
              "<table border=\"1\" class=\"dataframe\">\n",
              "  <thead>\n",
              "    <tr style=\"text-align: right;\">\n",
              "      <th>Age</th>\n",
              "      <th>1</th>\n",
              "      <th>18</th>\n",
              "      <th>25</th>\n",
              "      <th>35</th>\n",
              "      <th>45</th>\n",
              "      <th>50</th>\n",
              "      <th>56</th>\n",
              "      <th>Wszystko</th>\n",
              "    </tr>\n",
              "    <tr>\n",
              "      <th>Gender</th>\n",
              "      <th></th>\n",
              "      <th></th>\n",
              "      <th></th>\n",
              "      <th></th>\n",
              "      <th></th>\n",
              "      <th></th>\n",
              "      <th></th>\n",
              "      <th></th>\n",
              "    </tr>\n",
              "  </thead>\n",
              "  <tbody>\n",
              "    <tr>\n",
              "      <td>F</td>\n",
              "      <td>0.351351</td>\n",
              "      <td>0.270172</td>\n",
              "      <td>0.266221</td>\n",
              "      <td>0.283319</td>\n",
              "      <td>0.343636</td>\n",
              "      <td>0.294355</td>\n",
              "      <td>0.268421</td>\n",
              "      <td>0.282947</td>\n",
              "    </tr>\n",
              "    <tr>\n",
              "      <td>M</td>\n",
              "      <td>0.648649</td>\n",
              "      <td>0.729828</td>\n",
              "      <td>0.733779</td>\n",
              "      <td>0.716681</td>\n",
              "      <td>0.656364</td>\n",
              "      <td>0.705645</td>\n",
              "      <td>0.731579</td>\n",
              "      <td>0.717053</td>\n",
              "    </tr>\n",
              "  </tbody>\n",
              "</table>\n",
              "</div>"
            ],
            "text/plain": [
              "Age            1        18        25        35        45        50        56  \\\n",
              "Gender                                                                         \n",
              "F       0.351351  0.270172  0.266221  0.283319  0.343636  0.294355  0.268421   \n",
              "M       0.648649  0.729828  0.733779  0.716681  0.656364  0.705645  0.731579   \n",
              "\n",
              "Age     Wszystko  \n",
              "Gender            \n",
              "F       0.282947  \n",
              "M       0.717053  "
            ]
          },
          "metadata": {
            "tags": []
          },
          "execution_count": 95
        }
      ]
    },
    {
      "cell_type": "markdown",
      "metadata": {
        "id": "Al6SY13Gss8Q",
        "colab_type": "text"
      },
      "source": [
        "# 8. Jaki gatunek filmowy jest najczęstszy"
      ]
    },
    {
      "cell_type": "markdown",
      "metadata": {
        "id": "A7H8wIqdss8R",
        "colab_type": "text"
      },
      "source": [
        "Dla wpisu `Animation|Children's|Comedy` podbijamy:\n",
        "* Animation +1\n",
        "* Children's +1\n",
        "* Comedy +1"
      ]
    },
    {
      "cell_type": "code",
      "metadata": {
        "id": "2hVmgabXss8R",
        "colab_type": "code",
        "colab": {},
        "outputId": "023c746b-b433-4c50-d453-f56fb6c01b8d"
      },
      "source": [
        "movies.head()"
      ],
      "execution_count": null,
      "outputs": [
        {
          "output_type": "execute_result",
          "data": {
            "text/html": [
              "<div>\n",
              "<style scoped>\n",
              "    .dataframe tbody tr th:only-of-type {\n",
              "        vertical-align: middle;\n",
              "    }\n",
              "\n",
              "    .dataframe tbody tr th {\n",
              "        vertical-align: top;\n",
              "    }\n",
              "\n",
              "    .dataframe thead th {\n",
              "        text-align: right;\n",
              "    }\n",
              "</style>\n",
              "<table border=\"1\" class=\"dataframe\">\n",
              "  <thead>\n",
              "    <tr style=\"text-align: right;\">\n",
              "      <th></th>\n",
              "      <th>MovieID</th>\n",
              "      <th>Title</th>\n",
              "      <th>Genres</th>\n",
              "      <th>Year</th>\n",
              "    </tr>\n",
              "  </thead>\n",
              "  <tbody>\n",
              "    <tr>\n",
              "      <td>0</td>\n",
              "      <td>1</td>\n",
              "      <td>Toy Story</td>\n",
              "      <td>Animation|Children's|Comedy</td>\n",
              "      <td>1995</td>\n",
              "    </tr>\n",
              "    <tr>\n",
              "      <td>1</td>\n",
              "      <td>2</td>\n",
              "      <td>Jumanji</td>\n",
              "      <td>Adventure|Children's|Fantasy</td>\n",
              "      <td>1995</td>\n",
              "    </tr>\n",
              "    <tr>\n",
              "      <td>2</td>\n",
              "      <td>3</td>\n",
              "      <td>Grumpier Old Men</td>\n",
              "      <td>Comedy|Romance</td>\n",
              "      <td>1995</td>\n",
              "    </tr>\n",
              "    <tr>\n",
              "      <td>3</td>\n",
              "      <td>4</td>\n",
              "      <td>Waiting to Exhale</td>\n",
              "      <td>Comedy|Drama</td>\n",
              "      <td>1995</td>\n",
              "    </tr>\n",
              "    <tr>\n",
              "      <td>4</td>\n",
              "      <td>5</td>\n",
              "      <td>Father of the Bride Part II</td>\n",
              "      <td>Comedy</td>\n",
              "      <td>1995</td>\n",
              "    </tr>\n",
              "  </tbody>\n",
              "</table>\n",
              "</div>"
            ],
            "text/plain": [
              "   MovieID                        Title                        Genres  Year\n",
              "0        1                    Toy Story   Animation|Children's|Comedy  1995\n",
              "1        2                      Jumanji  Adventure|Children's|Fantasy  1995\n",
              "2        3             Grumpier Old Men                Comedy|Romance  1995\n",
              "3        4            Waiting to Exhale                  Comedy|Drama  1995\n",
              "4        5  Father of the Bride Part II                        Comedy  1995"
            ]
          },
          "metadata": {
            "tags": []
          },
          "execution_count": 96
        }
      ]
    },
    {
      "cell_type": "code",
      "metadata": {
        "id": "GsMvyTnbss8T",
        "colab_type": "code",
        "colab": {}
      },
      "source": [
        "split()\n",
        "\n",
        "# może przejść z formy szerokiej do długiej?"
      ],
      "execution_count": null,
      "outputs": []
    },
    {
      "cell_type": "code",
      "metadata": {
        "collapsed": true,
        "id": "z_bXbnwOss8U",
        "colab_type": "code",
        "colab": {},
        "outputId": "5d3d8d3a-781d-4d08-eb2a-b3e0cb0dc9f0"
      },
      "source": [
        "movies.Genres.str.split(\"|\")"
      ],
      "execution_count": null,
      "outputs": [
        {
          "output_type": "execute_result",
          "data": {
            "text/plain": [
              "0        [Animation, Children's, Comedy]\n",
              "1       [Adventure, Children's, Fantasy]\n",
              "2                      [Comedy, Romance]\n",
              "3                        [Comedy, Drama]\n",
              "4                               [Comedy]\n",
              "                      ...               \n",
              "3878                            [Comedy]\n",
              "3879                             [Drama]\n",
              "3880                             [Drama]\n",
              "3881                             [Drama]\n",
              "3882                   [Drama, Thriller]\n",
              "Name: Genres, Length: 3883, dtype: object"
            ]
          },
          "metadata": {
            "tags": []
          },
          "execution_count": 97
        }
      ]
    },
    {
      "cell_type": "markdown",
      "metadata": {
        "id": "v3u9D_dDss8Y",
        "colab_type": "text"
      },
      "source": [
        "# Podejście 1"
      ]
    },
    {
      "cell_type": "code",
      "metadata": {
        "id": "WdKfn0QVss8Y",
        "colab_type": "code",
        "colab": {},
        "outputId": "d00590cd-df0e-4771-cde2-bcbff35889c1"
      },
      "source": [
        "movies.Genres.str.split(\"|\", expand=True).stack().value_counts()"
      ],
      "execution_count": null,
      "outputs": [
        {
          "output_type": "execute_result",
          "data": {
            "text/plain": [
              "Drama          1603\n",
              "Comedy         1200\n",
              "Action          503\n",
              "Thriller        492\n",
              "Romance         471\n",
              "Horror          343\n",
              "Adventure       283\n",
              "Sci-Fi          276\n",
              "Children's      251\n",
              "Crime           211\n",
              "War             143\n",
              "Documentary     127\n",
              "Musical         114\n",
              "Mystery         106\n",
              "Animation       105\n",
              "Western          68\n",
              "Fantasy          68\n",
              "Film-Noir        44\n",
              "dtype: int64"
            ]
          },
          "metadata": {
            "tags": []
          },
          "execution_count": 100
        }
      ]
    },
    {
      "cell_type": "markdown",
      "metadata": {
        "id": "JkfJ2Kknss8b",
        "colab_type": "text"
      },
      "source": [
        "# Podejście 1b (awaryjne)"
      ]
    },
    {
      "cell_type": "code",
      "metadata": {
        "id": "AlhUdvmLss8b",
        "colab_type": "code",
        "colab": {},
        "outputId": "d1d8cb4d-bd20-4910-d9d6-91ca503c3a27"
      },
      "source": [
        "pd.Series(movies.Genres.str.split(\"|\", expand=True).values.flatten()).value_counts()"
      ],
      "execution_count": null,
      "outputs": [
        {
          "output_type": "execute_result",
          "data": {
            "text/plain": [
              "Drama          1603\n",
              "Comedy         1200\n",
              "Action          503\n",
              "Thriller        492\n",
              "Romance         471\n",
              "Horror          343\n",
              "Adventure       283\n",
              "Sci-Fi          276\n",
              "Children's      251\n",
              "Crime           211\n",
              "War             143\n",
              "Documentary     127\n",
              "Musical         114\n",
              "Mystery         106\n",
              "Animation       105\n",
              "Western          68\n",
              "Fantasy          68\n",
              "Film-Noir        44\n",
              "dtype: int64"
            ]
          },
          "metadata": {
            "tags": []
          },
          "execution_count": 109
        }
      ]
    },
    {
      "cell_type": "markdown",
      "metadata": {
        "id": "DOfL_jvXss8c",
        "colab_type": "text"
      },
      "source": [
        "## Podejście 2"
      ]
    },
    {
      "cell_type": "markdown",
      "metadata": {
        "id": "0gojamE-ss8d",
        "colab_type": "text"
      },
      "source": [
        "```\n",
        "Blondyn\n",
        "Brunet\n",
        "Blondyn\n",
        "Szatyn\n",
        "```\n",
        "\n",
        "n to liczba możliwych poziomów, tu 3\n",
        "\n",
        "n kolumn:\n",
        "```\n",
        "Szatyn Blondyn Brunet\n",
        "0      1       0\n",
        "0      0       1\n",
        "0      1       0\n",
        "1      0       0\n",
        "```\n",
        "\n",
        "sprytniej (n-1 kolumn):\n",
        "```\n",
        "Blondyn  Brunet\n",
        "      1       0\n",
        "      0       1\n",
        "      1       0\n",
        "      0       0\n",
        "```"
      ]
    },
    {
      "cell_type": "markdown",
      "metadata": {
        "id": "bI6XFkONss8d",
        "colab_type": "text"
      },
      "source": [
        "https://pandas.pydata.org/pandas-docs/stable/reference/api/pandas.Series.str.get_dummies.html"
      ]
    },
    {
      "cell_type": "code",
      "metadata": {
        "id": "e3aR2gsSss8d",
        "colab_type": "code",
        "colab": {}
      },
      "source": [
        ""
      ],
      "execution_count": null,
      "outputs": []
    },
    {
      "cell_type": "code",
      "metadata": {
        "collapsed": true,
        "id": "Zu7UhtUMss8e",
        "colab_type": "code",
        "colab": {},
        "outputId": "4a6c3612-b570-4006-d299-31aca7ea1776"
      },
      "source": [
        "movies.Genres.str.get_dummies() # sep=\"|\" jest domyślnie, można ustawić inny"
      ],
      "execution_count": null,
      "outputs": [
        {
          "output_type": "execute_result",
          "data": {
            "text/html": [
              "<div>\n",
              "<style scoped>\n",
              "    .dataframe tbody tr th:only-of-type {\n",
              "        vertical-align: middle;\n",
              "    }\n",
              "\n",
              "    .dataframe tbody tr th {\n",
              "        vertical-align: top;\n",
              "    }\n",
              "\n",
              "    .dataframe thead th {\n",
              "        text-align: right;\n",
              "    }\n",
              "</style>\n",
              "<table border=\"1\" class=\"dataframe\">\n",
              "  <thead>\n",
              "    <tr style=\"text-align: right;\">\n",
              "      <th></th>\n",
              "      <th>Action</th>\n",
              "      <th>Adventure</th>\n",
              "      <th>Animation</th>\n",
              "      <th>Children's</th>\n",
              "      <th>Comedy</th>\n",
              "      <th>Crime</th>\n",
              "      <th>Documentary</th>\n",
              "      <th>Drama</th>\n",
              "      <th>Fantasy</th>\n",
              "      <th>Film-Noir</th>\n",
              "      <th>Horror</th>\n",
              "      <th>Musical</th>\n",
              "      <th>Mystery</th>\n",
              "      <th>Romance</th>\n",
              "      <th>Sci-Fi</th>\n",
              "      <th>Thriller</th>\n",
              "      <th>War</th>\n",
              "      <th>Western</th>\n",
              "    </tr>\n",
              "  </thead>\n",
              "  <tbody>\n",
              "    <tr>\n",
              "      <td>0</td>\n",
              "      <td>0</td>\n",
              "      <td>0</td>\n",
              "      <td>1</td>\n",
              "      <td>1</td>\n",
              "      <td>1</td>\n",
              "      <td>0</td>\n",
              "      <td>0</td>\n",
              "      <td>0</td>\n",
              "      <td>0</td>\n",
              "      <td>0</td>\n",
              "      <td>0</td>\n",
              "      <td>0</td>\n",
              "      <td>0</td>\n",
              "      <td>0</td>\n",
              "      <td>0</td>\n",
              "      <td>0</td>\n",
              "      <td>0</td>\n",
              "      <td>0</td>\n",
              "    </tr>\n",
              "    <tr>\n",
              "      <td>1</td>\n",
              "      <td>0</td>\n",
              "      <td>1</td>\n",
              "      <td>0</td>\n",
              "      <td>1</td>\n",
              "      <td>0</td>\n",
              "      <td>0</td>\n",
              "      <td>0</td>\n",
              "      <td>0</td>\n",
              "      <td>1</td>\n",
              "      <td>0</td>\n",
              "      <td>0</td>\n",
              "      <td>0</td>\n",
              "      <td>0</td>\n",
              "      <td>0</td>\n",
              "      <td>0</td>\n",
              "      <td>0</td>\n",
              "      <td>0</td>\n",
              "      <td>0</td>\n",
              "    </tr>\n",
              "    <tr>\n",
              "      <td>2</td>\n",
              "      <td>0</td>\n",
              "      <td>0</td>\n",
              "      <td>0</td>\n",
              "      <td>0</td>\n",
              "      <td>1</td>\n",
              "      <td>0</td>\n",
              "      <td>0</td>\n",
              "      <td>0</td>\n",
              "      <td>0</td>\n",
              "      <td>0</td>\n",
              "      <td>0</td>\n",
              "      <td>0</td>\n",
              "      <td>0</td>\n",
              "      <td>1</td>\n",
              "      <td>0</td>\n",
              "      <td>0</td>\n",
              "      <td>0</td>\n",
              "      <td>0</td>\n",
              "    </tr>\n",
              "    <tr>\n",
              "      <td>3</td>\n",
              "      <td>0</td>\n",
              "      <td>0</td>\n",
              "      <td>0</td>\n",
              "      <td>0</td>\n",
              "      <td>1</td>\n",
              "      <td>0</td>\n",
              "      <td>0</td>\n",
              "      <td>1</td>\n",
              "      <td>0</td>\n",
              "      <td>0</td>\n",
              "      <td>0</td>\n",
              "      <td>0</td>\n",
              "      <td>0</td>\n",
              "      <td>0</td>\n",
              "      <td>0</td>\n",
              "      <td>0</td>\n",
              "      <td>0</td>\n",
              "      <td>0</td>\n",
              "    </tr>\n",
              "    <tr>\n",
              "      <td>4</td>\n",
              "      <td>0</td>\n",
              "      <td>0</td>\n",
              "      <td>0</td>\n",
              "      <td>0</td>\n",
              "      <td>1</td>\n",
              "      <td>0</td>\n",
              "      <td>0</td>\n",
              "      <td>0</td>\n",
              "      <td>0</td>\n",
              "      <td>0</td>\n",
              "      <td>0</td>\n",
              "      <td>0</td>\n",
              "      <td>0</td>\n",
              "      <td>0</td>\n",
              "      <td>0</td>\n",
              "      <td>0</td>\n",
              "      <td>0</td>\n",
              "      <td>0</td>\n",
              "    </tr>\n",
              "    <tr>\n",
              "      <td>...</td>\n",
              "      <td>...</td>\n",
              "      <td>...</td>\n",
              "      <td>...</td>\n",
              "      <td>...</td>\n",
              "      <td>...</td>\n",
              "      <td>...</td>\n",
              "      <td>...</td>\n",
              "      <td>...</td>\n",
              "      <td>...</td>\n",
              "      <td>...</td>\n",
              "      <td>...</td>\n",
              "      <td>...</td>\n",
              "      <td>...</td>\n",
              "      <td>...</td>\n",
              "      <td>...</td>\n",
              "      <td>...</td>\n",
              "      <td>...</td>\n",
              "      <td>...</td>\n",
              "    </tr>\n",
              "    <tr>\n",
              "      <td>3878</td>\n",
              "      <td>0</td>\n",
              "      <td>0</td>\n",
              "      <td>0</td>\n",
              "      <td>0</td>\n",
              "      <td>1</td>\n",
              "      <td>0</td>\n",
              "      <td>0</td>\n",
              "      <td>0</td>\n",
              "      <td>0</td>\n",
              "      <td>0</td>\n",
              "      <td>0</td>\n",
              "      <td>0</td>\n",
              "      <td>0</td>\n",
              "      <td>0</td>\n",
              "      <td>0</td>\n",
              "      <td>0</td>\n",
              "      <td>0</td>\n",
              "      <td>0</td>\n",
              "    </tr>\n",
              "    <tr>\n",
              "      <td>3879</td>\n",
              "      <td>0</td>\n",
              "      <td>0</td>\n",
              "      <td>0</td>\n",
              "      <td>0</td>\n",
              "      <td>0</td>\n",
              "      <td>0</td>\n",
              "      <td>0</td>\n",
              "      <td>1</td>\n",
              "      <td>0</td>\n",
              "      <td>0</td>\n",
              "      <td>0</td>\n",
              "      <td>0</td>\n",
              "      <td>0</td>\n",
              "      <td>0</td>\n",
              "      <td>0</td>\n",
              "      <td>0</td>\n",
              "      <td>0</td>\n",
              "      <td>0</td>\n",
              "    </tr>\n",
              "    <tr>\n",
              "      <td>3880</td>\n",
              "      <td>0</td>\n",
              "      <td>0</td>\n",
              "      <td>0</td>\n",
              "      <td>0</td>\n",
              "      <td>0</td>\n",
              "      <td>0</td>\n",
              "      <td>0</td>\n",
              "      <td>1</td>\n",
              "      <td>0</td>\n",
              "      <td>0</td>\n",
              "      <td>0</td>\n",
              "      <td>0</td>\n",
              "      <td>0</td>\n",
              "      <td>0</td>\n",
              "      <td>0</td>\n",
              "      <td>0</td>\n",
              "      <td>0</td>\n",
              "      <td>0</td>\n",
              "    </tr>\n",
              "    <tr>\n",
              "      <td>3881</td>\n",
              "      <td>0</td>\n",
              "      <td>0</td>\n",
              "      <td>0</td>\n",
              "      <td>0</td>\n",
              "      <td>0</td>\n",
              "      <td>0</td>\n",
              "      <td>0</td>\n",
              "      <td>1</td>\n",
              "      <td>0</td>\n",
              "      <td>0</td>\n",
              "      <td>0</td>\n",
              "      <td>0</td>\n",
              "      <td>0</td>\n",
              "      <td>0</td>\n",
              "      <td>0</td>\n",
              "      <td>0</td>\n",
              "      <td>0</td>\n",
              "      <td>0</td>\n",
              "    </tr>\n",
              "    <tr>\n",
              "      <td>3882</td>\n",
              "      <td>0</td>\n",
              "      <td>0</td>\n",
              "      <td>0</td>\n",
              "      <td>0</td>\n",
              "      <td>0</td>\n",
              "      <td>0</td>\n",
              "      <td>0</td>\n",
              "      <td>1</td>\n",
              "      <td>0</td>\n",
              "      <td>0</td>\n",
              "      <td>0</td>\n",
              "      <td>0</td>\n",
              "      <td>0</td>\n",
              "      <td>0</td>\n",
              "      <td>0</td>\n",
              "      <td>1</td>\n",
              "      <td>0</td>\n",
              "      <td>0</td>\n",
              "    </tr>\n",
              "  </tbody>\n",
              "</table>\n",
              "<p>3883 rows × 18 columns</p>\n",
              "</div>"
            ],
            "text/plain": [
              "      Action  Adventure  Animation  Children's  Comedy  Crime  Documentary  \\\n",
              "0          0          0          1           1       1      0            0   \n",
              "1          0          1          0           1       0      0            0   \n",
              "2          0          0          0           0       1      0            0   \n",
              "3          0          0          0           0       1      0            0   \n",
              "4          0          0          0           0       1      0            0   \n",
              "...      ...        ...        ...         ...     ...    ...          ...   \n",
              "3878       0          0          0           0       1      0            0   \n",
              "3879       0          0          0           0       0      0            0   \n",
              "3880       0          0          0           0       0      0            0   \n",
              "3881       0          0          0           0       0      0            0   \n",
              "3882       0          0          0           0       0      0            0   \n",
              "\n",
              "      Drama  Fantasy  Film-Noir  Horror  Musical  Mystery  Romance  Sci-Fi  \\\n",
              "0         0        0          0       0        0        0        0       0   \n",
              "1         0        1          0       0        0        0        0       0   \n",
              "2         0        0          0       0        0        0        1       0   \n",
              "3         1        0          0       0        0        0        0       0   \n",
              "4         0        0          0       0        0        0        0       0   \n",
              "...     ...      ...        ...     ...      ...      ...      ...     ...   \n",
              "3878      0        0          0       0        0        0        0       0   \n",
              "3879      1        0          0       0        0        0        0       0   \n",
              "3880      1        0          0       0        0        0        0       0   \n",
              "3881      1        0          0       0        0        0        0       0   \n",
              "3882      1        0          0       0        0        0        0       0   \n",
              "\n",
              "      Thriller  War  Western  \n",
              "0            0    0        0  \n",
              "1            0    0        0  \n",
              "2            0    0        0  \n",
              "3            0    0        0  \n",
              "4            0    0        0  \n",
              "...        ...  ...      ...  \n",
              "3878         0    0        0  \n",
              "3879         0    0        0  \n",
              "3880         0    0        0  \n",
              "3881         0    0        0  \n",
              "3882         1    0        0  \n",
              "\n",
              "[3883 rows x 18 columns]"
            ]
          },
          "metadata": {
            "tags": []
          },
          "execution_count": 111
        }
      ]
    },
    {
      "cell_type": "code",
      "metadata": {
        "collapsed": true,
        "id": "QieONy4Vss8g",
        "colab_type": "code",
        "colab": {},
        "outputId": "c9762fcd-a6bb-4731-d6e3-cacb41e65a70"
      },
      "source": [
        "movies.Genres.str.get_dummies().sum().sort_values(ascending=False).reset_index()"
      ],
      "execution_count": null,
      "outputs": [
        {
          "output_type": "execute_result",
          "data": {
            "text/html": [
              "<div>\n",
              "<style scoped>\n",
              "    .dataframe tbody tr th:only-of-type {\n",
              "        vertical-align: middle;\n",
              "    }\n",
              "\n",
              "    .dataframe tbody tr th {\n",
              "        vertical-align: top;\n",
              "    }\n",
              "\n",
              "    .dataframe thead th {\n",
              "        text-align: right;\n",
              "    }\n",
              "</style>\n",
              "<table border=\"1\" class=\"dataframe\">\n",
              "  <thead>\n",
              "    <tr style=\"text-align: right;\">\n",
              "      <th></th>\n",
              "      <th>index</th>\n",
              "      <th>0</th>\n",
              "    </tr>\n",
              "  </thead>\n",
              "  <tbody>\n",
              "    <tr>\n",
              "      <td>0</td>\n",
              "      <td>Drama</td>\n",
              "      <td>1603</td>\n",
              "    </tr>\n",
              "    <tr>\n",
              "      <td>1</td>\n",
              "      <td>Comedy</td>\n",
              "      <td>1200</td>\n",
              "    </tr>\n",
              "    <tr>\n",
              "      <td>2</td>\n",
              "      <td>Action</td>\n",
              "      <td>503</td>\n",
              "    </tr>\n",
              "    <tr>\n",
              "      <td>3</td>\n",
              "      <td>Thriller</td>\n",
              "      <td>492</td>\n",
              "    </tr>\n",
              "    <tr>\n",
              "      <td>4</td>\n",
              "      <td>Romance</td>\n",
              "      <td>471</td>\n",
              "    </tr>\n",
              "    <tr>\n",
              "      <td>5</td>\n",
              "      <td>Horror</td>\n",
              "      <td>343</td>\n",
              "    </tr>\n",
              "    <tr>\n",
              "      <td>6</td>\n",
              "      <td>Adventure</td>\n",
              "      <td>283</td>\n",
              "    </tr>\n",
              "    <tr>\n",
              "      <td>7</td>\n",
              "      <td>Sci-Fi</td>\n",
              "      <td>276</td>\n",
              "    </tr>\n",
              "    <tr>\n",
              "      <td>8</td>\n",
              "      <td>Children's</td>\n",
              "      <td>251</td>\n",
              "    </tr>\n",
              "    <tr>\n",
              "      <td>9</td>\n",
              "      <td>Crime</td>\n",
              "      <td>211</td>\n",
              "    </tr>\n",
              "    <tr>\n",
              "      <td>10</td>\n",
              "      <td>War</td>\n",
              "      <td>143</td>\n",
              "    </tr>\n",
              "    <tr>\n",
              "      <td>11</td>\n",
              "      <td>Documentary</td>\n",
              "      <td>127</td>\n",
              "    </tr>\n",
              "    <tr>\n",
              "      <td>12</td>\n",
              "      <td>Musical</td>\n",
              "      <td>114</td>\n",
              "    </tr>\n",
              "    <tr>\n",
              "      <td>13</td>\n",
              "      <td>Mystery</td>\n",
              "      <td>106</td>\n",
              "    </tr>\n",
              "    <tr>\n",
              "      <td>14</td>\n",
              "      <td>Animation</td>\n",
              "      <td>105</td>\n",
              "    </tr>\n",
              "    <tr>\n",
              "      <td>15</td>\n",
              "      <td>Western</td>\n",
              "      <td>68</td>\n",
              "    </tr>\n",
              "    <tr>\n",
              "      <td>16</td>\n",
              "      <td>Fantasy</td>\n",
              "      <td>68</td>\n",
              "    </tr>\n",
              "    <tr>\n",
              "      <td>17</td>\n",
              "      <td>Film-Noir</td>\n",
              "      <td>44</td>\n",
              "    </tr>\n",
              "  </tbody>\n",
              "</table>\n",
              "</div>"
            ],
            "text/plain": [
              "          index     0\n",
              "0         Drama  1603\n",
              "1        Comedy  1200\n",
              "2        Action   503\n",
              "3      Thriller   492\n",
              "4       Romance   471\n",
              "5        Horror   343\n",
              "6     Adventure   283\n",
              "7        Sci-Fi   276\n",
              "8    Children's   251\n",
              "9         Crime   211\n",
              "10          War   143\n",
              "11  Documentary   127\n",
              "12      Musical   114\n",
              "13      Mystery   106\n",
              "14    Animation   105\n",
              "15      Western    68\n",
              "16      Fantasy    68\n",
              "17    Film-Noir    44"
            ]
          },
          "metadata": {
            "tags": []
          },
          "execution_count": 114
        }
      ]
    },
    {
      "cell_type": "markdown",
      "metadata": {
        "id": "fXgfFlkuss8h",
        "colab_type": "text"
      },
      "source": [
        "# 9. Jaki jest najlepszy film wszechczasów, (najlepszy, czyli ma najwyższą średnią ocenę) - to zadanie możesz rozwiązać wykonując złączenie (join) zbioru movies i ratings"
      ]
    },
    {
      "cell_type": "code",
      "metadata": {
        "collapsed": true,
        "id": "lq3Qkk5rss8h",
        "colab_type": "code",
        "colab": {},
        "outputId": "8fadf305-929c-4129-98e4-a8987e17b3e3"
      },
      "source": [
        "movies.head()"
      ],
      "execution_count": null,
      "outputs": [
        {
          "output_type": "execute_result",
          "data": {
            "text/html": [
              "<div>\n",
              "<style scoped>\n",
              "    .dataframe tbody tr th:only-of-type {\n",
              "        vertical-align: middle;\n",
              "    }\n",
              "\n",
              "    .dataframe tbody tr th {\n",
              "        vertical-align: top;\n",
              "    }\n",
              "\n",
              "    .dataframe thead th {\n",
              "        text-align: right;\n",
              "    }\n",
              "</style>\n",
              "<table border=\"1\" class=\"dataframe\">\n",
              "  <thead>\n",
              "    <tr style=\"text-align: right;\">\n",
              "      <th></th>\n",
              "      <th>MovieID</th>\n",
              "      <th>Title</th>\n",
              "      <th>Genres</th>\n",
              "      <th>Year</th>\n",
              "    </tr>\n",
              "  </thead>\n",
              "  <tbody>\n",
              "    <tr>\n",
              "      <td>0</td>\n",
              "      <td>1</td>\n",
              "      <td>Toy Story</td>\n",
              "      <td>Animation|Children's|Comedy</td>\n",
              "      <td>1995</td>\n",
              "    </tr>\n",
              "    <tr>\n",
              "      <td>1</td>\n",
              "      <td>2</td>\n",
              "      <td>Jumanji</td>\n",
              "      <td>Adventure|Children's|Fantasy</td>\n",
              "      <td>1995</td>\n",
              "    </tr>\n",
              "    <tr>\n",
              "      <td>2</td>\n",
              "      <td>3</td>\n",
              "      <td>Grumpier Old Men</td>\n",
              "      <td>Comedy|Romance</td>\n",
              "      <td>1995</td>\n",
              "    </tr>\n",
              "    <tr>\n",
              "      <td>3</td>\n",
              "      <td>4</td>\n",
              "      <td>Waiting to Exhale</td>\n",
              "      <td>Comedy|Drama</td>\n",
              "      <td>1995</td>\n",
              "    </tr>\n",
              "    <tr>\n",
              "      <td>4</td>\n",
              "      <td>5</td>\n",
              "      <td>Father of the Bride Part II</td>\n",
              "      <td>Comedy</td>\n",
              "      <td>1995</td>\n",
              "    </tr>\n",
              "  </tbody>\n",
              "</table>\n",
              "</div>"
            ],
            "text/plain": [
              "   MovieID                        Title                        Genres  Year\n",
              "0        1                    Toy Story   Animation|Children's|Comedy  1995\n",
              "1        2                      Jumanji  Adventure|Children's|Fantasy  1995\n",
              "2        3             Grumpier Old Men                Comedy|Romance  1995\n",
              "3        4            Waiting to Exhale                  Comedy|Drama  1995\n",
              "4        5  Father of the Bride Part II                        Comedy  1995"
            ]
          },
          "metadata": {
            "tags": []
          },
          "execution_count": 115
        }
      ]
    },
    {
      "cell_type": "code",
      "metadata": {
        "collapsed": true,
        "id": "xsbY_Vr9ss8j",
        "colab_type": "code",
        "colab": {},
        "outputId": "cef741a2-dd34-4b76-c431-7a49c699ab8f"
      },
      "source": [
        "ratings.head()"
      ],
      "execution_count": null,
      "outputs": [
        {
          "output_type": "execute_result",
          "data": {
            "text/html": [
              "<div>\n",
              "<style scoped>\n",
              "    .dataframe tbody tr th:only-of-type {\n",
              "        vertical-align: middle;\n",
              "    }\n",
              "\n",
              "    .dataframe tbody tr th {\n",
              "        vertical-align: top;\n",
              "    }\n",
              "\n",
              "    .dataframe thead th {\n",
              "        text-align: right;\n",
              "    }\n",
              "</style>\n",
              "<table border=\"1\" class=\"dataframe\">\n",
              "  <thead>\n",
              "    <tr style=\"text-align: right;\">\n",
              "      <th></th>\n",
              "      <th>UserID</th>\n",
              "      <th>MovieID</th>\n",
              "      <th>Rating</th>\n",
              "      <th>Timestamp</th>\n",
              "    </tr>\n",
              "  </thead>\n",
              "  <tbody>\n",
              "    <tr>\n",
              "      <td>0</td>\n",
              "      <td>1</td>\n",
              "      <td>1193</td>\n",
              "      <td>5</td>\n",
              "      <td>978300760</td>\n",
              "    </tr>\n",
              "    <tr>\n",
              "      <td>1</td>\n",
              "      <td>1</td>\n",
              "      <td>661</td>\n",
              "      <td>3</td>\n",
              "      <td>978302109</td>\n",
              "    </tr>\n",
              "    <tr>\n",
              "      <td>2</td>\n",
              "      <td>1</td>\n",
              "      <td>914</td>\n",
              "      <td>3</td>\n",
              "      <td>978301968</td>\n",
              "    </tr>\n",
              "    <tr>\n",
              "      <td>3</td>\n",
              "      <td>1</td>\n",
              "      <td>3408</td>\n",
              "      <td>4</td>\n",
              "      <td>978300275</td>\n",
              "    </tr>\n",
              "    <tr>\n",
              "      <td>4</td>\n",
              "      <td>1</td>\n",
              "      <td>2355</td>\n",
              "      <td>5</td>\n",
              "      <td>978824291</td>\n",
              "    </tr>\n",
              "  </tbody>\n",
              "</table>\n",
              "</div>"
            ],
            "text/plain": [
              "   UserID  MovieID  Rating  Timestamp\n",
              "0       1     1193       5  978300760\n",
              "1       1      661       3  978302109\n",
              "2       1      914       3  978301968\n",
              "3       1     3408       4  978300275\n",
              "4       1     2355       5  978824291"
            ]
          },
          "metadata": {
            "tags": []
          },
          "execution_count": 116
        }
      ]
    },
    {
      "cell_type": "code",
      "metadata": {
        "id": "CvhnZylxss8k",
        "colab_type": "code",
        "colab": {}
      },
      "source": [
        "oceny = ratings.groupby(\"MovieID\")[\"Rating\"].mean().reset_index()\n",
        "filmy_oceny = pd.merge(oceny, movies)"
      ],
      "execution_count": null,
      "outputs": []
    },
    {
      "cell_type": "code",
      "metadata": {
        "collapsed": true,
        "id": "N7-E_pxqss8m",
        "colab_type": "code",
        "colab": {},
        "outputId": "f916eb3e-ed04-4d69-fcbe-90cbec80ecb0"
      },
      "source": [
        "filmy_oceny.sort_values(by=\"Rating\", ascending=False).head(20)"
      ],
      "execution_count": null,
      "outputs": [
        {
          "output_type": "execute_result",
          "data": {
            "text/html": [
              "<div>\n",
              "<style scoped>\n",
              "    .dataframe tbody tr th:only-of-type {\n",
              "        vertical-align: middle;\n",
              "    }\n",
              "\n",
              "    .dataframe tbody tr th {\n",
              "        vertical-align: top;\n",
              "    }\n",
              "\n",
              "    .dataframe thead th {\n",
              "        text-align: right;\n",
              "    }\n",
              "</style>\n",
              "<table border=\"1\" class=\"dataframe\">\n",
              "  <thead>\n",
              "    <tr style=\"text-align: right;\">\n",
              "      <th></th>\n",
              "      <th>MovieID</th>\n",
              "      <th>Rating</th>\n",
              "      <th>Title</th>\n",
              "      <th>Genres</th>\n",
              "      <th>Year</th>\n",
              "    </tr>\n",
              "  </thead>\n",
              "  <tbody>\n",
              "    <tr>\n",
              "      <td>926</td>\n",
              "      <td>989</td>\n",
              "      <td>5.000000</td>\n",
              "      <td>Schlafes Bruder (Brother of Sleep)</td>\n",
              "      <td>Drama</td>\n",
              "      <td>1995</td>\n",
              "    </tr>\n",
              "    <tr>\n",
              "      <td>3635</td>\n",
              "      <td>3881</td>\n",
              "      <td>5.000000</td>\n",
              "      <td>Bittersweet Motel</td>\n",
              "      <td>Documentary</td>\n",
              "      <td>2000</td>\n",
              "    </tr>\n",
              "    <tr>\n",
              "      <td>1652</td>\n",
              "      <td>1830</td>\n",
              "      <td>5.000000</td>\n",
              "      <td>Follow the Bitch</td>\n",
              "      <td>Comedy</td>\n",
              "      <td>1998</td>\n",
              "    </tr>\n",
              "    <tr>\n",
              "      <td>3152</td>\n",
              "      <td>3382</td>\n",
              "      <td>5.000000</td>\n",
              "      <td>Song of Freedom</td>\n",
              "      <td>Drama</td>\n",
              "      <td>1936</td>\n",
              "    </tr>\n",
              "    <tr>\n",
              "      <td>744</td>\n",
              "      <td>787</td>\n",
              "      <td>5.000000</td>\n",
              "      <td>Gate of Heavenly Peace, The</td>\n",
              "      <td>Documentary</td>\n",
              "      <td>1995</td>\n",
              "    </tr>\n",
              "    <tr>\n",
              "      <td>3054</td>\n",
              "      <td>3280</td>\n",
              "      <td>5.000000</td>\n",
              "      <td>Baby, The</td>\n",
              "      <td>Horror</td>\n",
              "      <td>1973</td>\n",
              "    </tr>\n",
              "    <tr>\n",
              "      <td>3367</td>\n",
              "      <td>3607</td>\n",
              "      <td>5.000000</td>\n",
              "      <td>One Little Indian</td>\n",
              "      <td>Comedy|Drama|Western</td>\n",
              "      <td>1973</td>\n",
              "    </tr>\n",
              "    <tr>\n",
              "      <td>3010</td>\n",
              "      <td>3233</td>\n",
              "      <td>5.000000</td>\n",
              "      <td>Smashing Time</td>\n",
              "      <td>Comedy</td>\n",
              "      <td>1967</td>\n",
              "    </tr>\n",
              "    <tr>\n",
              "      <td>2955</td>\n",
              "      <td>3172</td>\n",
              "      <td>5.000000</td>\n",
              "      <td>Ulysses (Ulisse)</td>\n",
              "      <td>Adventure</td>\n",
              "      <td>1954</td>\n",
              "    </tr>\n",
              "    <tr>\n",
              "      <td>3414</td>\n",
              "      <td>3656</td>\n",
              "      <td>5.000000</td>\n",
              "      <td>Lured</td>\n",
              "      <td>Crime</td>\n",
              "      <td>1947</td>\n",
              "    </tr>\n",
              "    <tr>\n",
              "      <td>3021</td>\n",
              "      <td>3245</td>\n",
              "      <td>4.800000</td>\n",
              "      <td>I Am Cuba (Soy Cuba/Ya Kuba)</td>\n",
              "      <td>Drama</td>\n",
              "      <td>1964</td>\n",
              "    </tr>\n",
              "    <tr>\n",
              "      <td>51</td>\n",
              "      <td>53</td>\n",
              "      <td>4.750000</td>\n",
              "      <td>Lamerica</td>\n",
              "      <td>Drama</td>\n",
              "      <td>1994</td>\n",
              "    </tr>\n",
              "    <tr>\n",
              "      <td>2309</td>\n",
              "      <td>2503</td>\n",
              "      <td>4.666667</td>\n",
              "      <td>Apple, The (Sib)</td>\n",
              "      <td>Drama</td>\n",
              "      <td>1998</td>\n",
              "    </tr>\n",
              "    <tr>\n",
              "      <td>2698</td>\n",
              "      <td>2905</td>\n",
              "      <td>4.608696</td>\n",
              "      <td>Sanjuro</td>\n",
              "      <td>Action|Adventure</td>\n",
              "      <td>1962</td>\n",
              "    </tr>\n",
              "    <tr>\n",
              "      <td>1839</td>\n",
              "      <td>2019</td>\n",
              "      <td>4.560510</td>\n",
              "      <td>Seven Samurai (The Magnificent Seven) (Shichin...</td>\n",
              "      <td>Action|Drama</td>\n",
              "      <td>1954</td>\n",
              "    </tr>\n",
              "    <tr>\n",
              "      <td>309</td>\n",
              "      <td>318</td>\n",
              "      <td>4.554558</td>\n",
              "      <td>Shawshank Redemption, The</td>\n",
              "      <td>Drama</td>\n",
              "      <td>1994</td>\n",
              "    </tr>\n",
              "    <tr>\n",
              "      <td>802</td>\n",
              "      <td>858</td>\n",
              "      <td>4.524966</td>\n",
              "      <td>Godfather, The</td>\n",
              "      <td>Action|Crime|Drama</td>\n",
              "      <td>1972</td>\n",
              "    </tr>\n",
              "    <tr>\n",
              "      <td>708</td>\n",
              "      <td>745</td>\n",
              "      <td>4.520548</td>\n",
              "      <td>Close Shave, A</td>\n",
              "      <td>Animation|Comedy|Thriller</td>\n",
              "      <td>1995</td>\n",
              "    </tr>\n",
              "    <tr>\n",
              "      <td>49</td>\n",
              "      <td>50</td>\n",
              "      <td>4.517106</td>\n",
              "      <td>Usual Suspects, The</td>\n",
              "      <td>Crime|Thriller</td>\n",
              "      <td>1995</td>\n",
              "    </tr>\n",
              "    <tr>\n",
              "      <td>513</td>\n",
              "      <td>527</td>\n",
              "      <td>4.510417</td>\n",
              "      <td>Schindler's List</td>\n",
              "      <td>Drama|War</td>\n",
              "      <td>1993</td>\n",
              "    </tr>\n",
              "  </tbody>\n",
              "</table>\n",
              "</div>"
            ],
            "text/plain": [
              "      MovieID    Rating                                              Title  \\\n",
              "926       989  5.000000                 Schlafes Bruder (Brother of Sleep)   \n",
              "3635     3881  5.000000                                  Bittersweet Motel   \n",
              "1652     1830  5.000000                                   Follow the Bitch   \n",
              "3152     3382  5.000000                                    Song of Freedom   \n",
              "744       787  5.000000                        Gate of Heavenly Peace, The   \n",
              "3054     3280  5.000000                                          Baby, The   \n",
              "3367     3607  5.000000                                  One Little Indian   \n",
              "3010     3233  5.000000                                      Smashing Time   \n",
              "2955     3172  5.000000                                   Ulysses (Ulisse)   \n",
              "3414     3656  5.000000                                              Lured   \n",
              "3021     3245  4.800000                       I Am Cuba (Soy Cuba/Ya Kuba)   \n",
              "51         53  4.750000                                           Lamerica   \n",
              "2309     2503  4.666667                                   Apple, The (Sib)   \n",
              "2698     2905  4.608696                                            Sanjuro   \n",
              "1839     2019  4.560510  Seven Samurai (The Magnificent Seven) (Shichin...   \n",
              "309       318  4.554558                          Shawshank Redemption, The   \n",
              "802       858  4.524966                                     Godfather, The   \n",
              "708       745  4.520548                                     Close Shave, A   \n",
              "49         50  4.517106                                Usual Suspects, The   \n",
              "513       527  4.510417                                   Schindler's List   \n",
              "\n",
              "                         Genres  Year  \n",
              "926                       Drama  1995  \n",
              "3635                Documentary  2000  \n",
              "1652                     Comedy  1998  \n",
              "3152                      Drama  1936  \n",
              "744                 Documentary  1995  \n",
              "3054                     Horror  1973  \n",
              "3367       Comedy|Drama|Western  1973  \n",
              "3010                     Comedy  1967  \n",
              "2955                  Adventure  1954  \n",
              "3414                      Crime  1947  \n",
              "3021                      Drama  1964  \n",
              "51                        Drama  1994  \n",
              "2309                      Drama  1998  \n",
              "2698           Action|Adventure  1962  \n",
              "1839               Action|Drama  1954  \n",
              "309                       Drama  1994  \n",
              "802          Action|Crime|Drama  1972  \n",
              "708   Animation|Comedy|Thriller  1995  \n",
              "49               Crime|Thriller  1995  \n",
              "513                   Drama|War  1993  "
            ]
          },
          "metadata": {
            "tags": []
          },
          "execution_count": 122
        }
      ]
    },
    {
      "cell_type": "code",
      "metadata": {
        "collapsed": true,
        "id": "JugEWRibss8o",
        "colab_type": "code",
        "colab": {},
        "outputId": "afb8ae18-9e1c-4c4f-e4c1-d797c260d7b7"
      },
      "source": [
        "filmy_oceny2 = pd.merge(movies, oceny, how=\"left\") # filmy bez ocen\n",
        "filmy_oceny2[pd.isnull(filmy_oceny2.Rating)]"
      ],
      "execution_count": null,
      "outputs": [
        {
          "output_type": "execute_result",
          "data": {
            "text/html": [
              "<div>\n",
              "<style scoped>\n",
              "    .dataframe tbody tr th:only-of-type {\n",
              "        vertical-align: middle;\n",
              "    }\n",
              "\n",
              "    .dataframe tbody tr th {\n",
              "        vertical-align: top;\n",
              "    }\n",
              "\n",
              "    .dataframe thead th {\n",
              "        text-align: right;\n",
              "    }\n",
              "</style>\n",
              "<table border=\"1\" class=\"dataframe\">\n",
              "  <thead>\n",
              "    <tr style=\"text-align: right;\">\n",
              "      <th></th>\n",
              "      <th>MovieID</th>\n",
              "      <th>Title</th>\n",
              "      <th>Genres</th>\n",
              "      <th>Year</th>\n",
              "      <th>Rating</th>\n",
              "    </tr>\n",
              "  </thead>\n",
              "  <tbody>\n",
              "    <tr>\n",
              "      <td>50</td>\n",
              "      <td>51</td>\n",
              "      <td>Guardian Angel</td>\n",
              "      <td>Action|Drama|Thriller</td>\n",
              "      <td>1994</td>\n",
              "      <td>NaN</td>\n",
              "    </tr>\n",
              "    <tr>\n",
              "      <td>107</td>\n",
              "      <td>109</td>\n",
              "      <td>Headless Body in Topless Bar</td>\n",
              "      <td>Comedy</td>\n",
              "      <td>1995</td>\n",
              "      <td>NaN</td>\n",
              "    </tr>\n",
              "    <tr>\n",
              "      <td>113</td>\n",
              "      <td>115</td>\n",
              "      <td>Happiness Is in the Field</td>\n",
              "      <td>Comedy</td>\n",
              "      <td>1995</td>\n",
              "      <td>NaN</td>\n",
              "    </tr>\n",
              "    <tr>\n",
              "      <td>141</td>\n",
              "      <td>143</td>\n",
              "      <td>Gospa</td>\n",
              "      <td>Drama</td>\n",
              "      <td>1995</td>\n",
              "      <td>NaN</td>\n",
              "    </tr>\n",
              "    <tr>\n",
              "      <td>281</td>\n",
              "      <td>284</td>\n",
              "      <td>New York Cop</td>\n",
              "      <td>Action|Crime</td>\n",
              "      <td>1996</td>\n",
              "      <td>NaN</td>\n",
              "    </tr>\n",
              "    <tr>\n",
              "      <td>...</td>\n",
              "      <td>...</td>\n",
              "      <td>...</td>\n",
              "      <td>...</td>\n",
              "      <td>...</td>\n",
              "      <td>...</td>\n",
              "    </tr>\n",
              "    <tr>\n",
              "      <td>3581</td>\n",
              "      <td>3650</td>\n",
              "      <td>Anguish (Angustia)</td>\n",
              "      <td>Horror</td>\n",
              "      <td>1986</td>\n",
              "      <td>NaN</td>\n",
              "    </tr>\n",
              "    <tr>\n",
              "      <td>3681</td>\n",
              "      <td>3750</td>\n",
              "      <td>Boricua's Bond</td>\n",
              "      <td>Drama</td>\n",
              "      <td>2000</td>\n",
              "      <td>NaN</td>\n",
              "    </tr>\n",
              "    <tr>\n",
              "      <td>3759</td>\n",
              "      <td>3829</td>\n",
              "      <td>Mad About Mambo</td>\n",
              "      <td>Comedy|Romance</td>\n",
              "      <td>2000</td>\n",
              "      <td>NaN</td>\n",
              "    </tr>\n",
              "    <tr>\n",
              "      <td>3786</td>\n",
              "      <td>3856</td>\n",
              "      <td>Autumn Heart</td>\n",
              "      <td>Drama</td>\n",
              "      <td>1999</td>\n",
              "      <td>NaN</td>\n",
              "    </tr>\n",
              "    <tr>\n",
              "      <td>3837</td>\n",
              "      <td>3907</td>\n",
              "      <td>Prince of Central Park, The</td>\n",
              "      <td>Drama</td>\n",
              "      <td>1999</td>\n",
              "      <td>NaN</td>\n",
              "    </tr>\n",
              "  </tbody>\n",
              "</table>\n",
              "<p>177 rows × 5 columns</p>\n",
              "</div>"
            ],
            "text/plain": [
              "      MovieID                         Title                 Genres  Year  \\\n",
              "50         51                Guardian Angel  Action|Drama|Thriller  1994   \n",
              "107       109  Headless Body in Topless Bar                 Comedy  1995   \n",
              "113       115     Happiness Is in the Field                 Comedy  1995   \n",
              "141       143                         Gospa                  Drama  1995   \n",
              "281       284                  New York Cop           Action|Crime  1996   \n",
              "...       ...                           ...                    ...   ...   \n",
              "3581     3650            Anguish (Angustia)                 Horror  1986   \n",
              "3681     3750                Boricua's Bond                  Drama  2000   \n",
              "3759     3829               Mad About Mambo         Comedy|Romance  2000   \n",
              "3786     3856                  Autumn Heart                  Drama  1999   \n",
              "3837     3907   Prince of Central Park, The                  Drama  1999   \n",
              "\n",
              "      Rating  \n",
              "50       NaN  \n",
              "107      NaN  \n",
              "113      NaN  \n",
              "141      NaN  \n",
              "281      NaN  \n",
              "...      ...  \n",
              "3581     NaN  \n",
              "3681     NaN  \n",
              "3759     NaN  \n",
              "3786     NaN  \n",
              "3837     NaN  \n",
              "\n",
              "[177 rows x 5 columns]"
            ]
          },
          "metadata": {
            "tags": []
          },
          "execution_count": 124
        }
      ]
    },
    {
      "cell_type": "markdown",
      "metadata": {
        "id": "eGAvin8lss8p",
        "colab_type": "text"
      },
      "source": [
        "# 10. Wykonaj poprzedni punkt, odrzucając wcześniej filmy które nie uzyskały wystarczająco dużo głosów (np 100)"
      ]
    },
    {
      "cell_type": "code",
      "metadata": {
        "collapsed": true,
        "id": "YZkvPp5Ess8q",
        "colab_type": "code",
        "colab": {},
        "outputId": "86fe71f0-ad7d-4033-895e-faddcccd17a9"
      },
      "source": [
        "oceny = ratings.groupby(\"MovieID\")[\"Rating\"].agg([\"mean\", \"size\"]).reset_index().query(\"size >= 100\")\n",
        "filmy_oceny = pd.merge(oceny, movies).sort_values(by=\"mean\", ascending=False)\n",
        "filmy_oceny.head(20)"
      ],
      "execution_count": null,
      "outputs": [
        {
          "output_type": "execute_result",
          "data": {
            "text/html": [
              "<div>\n",
              "<style scoped>\n",
              "    .dataframe tbody tr th:only-of-type {\n",
              "        vertical-align: middle;\n",
              "    }\n",
              "\n",
              "    .dataframe tbody tr th {\n",
              "        vertical-align: top;\n",
              "    }\n",
              "\n",
              "    .dataframe thead th {\n",
              "        text-align: right;\n",
              "    }\n",
              "</style>\n",
              "<table border=\"1\" class=\"dataframe\">\n",
              "  <thead>\n",
              "    <tr style=\"text-align: right;\">\n",
              "      <th></th>\n",
              "      <th>MovieID</th>\n",
              "      <th>mean</th>\n",
              "      <th>size</th>\n",
              "      <th>Title</th>\n",
              "      <th>Genres</th>\n",
              "      <th>Year</th>\n",
              "    </tr>\n",
              "  </thead>\n",
              "  <tbody>\n",
              "    <tr>\n",
              "      <td>1021</td>\n",
              "      <td>2019</td>\n",
              "      <td>4.560510</td>\n",
              "      <td>628</td>\n",
              "      <td>Seven Samurai (The Magnificent Seven) (Shichin...</td>\n",
              "      <td>Action|Drama</td>\n",
              "      <td>1954</td>\n",
              "    </tr>\n",
              "    <tr>\n",
              "      <td>173</td>\n",
              "      <td>318</td>\n",
              "      <td>4.554558</td>\n",
              "      <td>2227</td>\n",
              "      <td>Shawshank Redemption, The</td>\n",
              "      <td>Drama</td>\n",
              "      <td>1994</td>\n",
              "    </tr>\n",
              "    <tr>\n",
              "      <td>416</td>\n",
              "      <td>858</td>\n",
              "      <td>4.524966</td>\n",
              "      <td>2223</td>\n",
              "      <td>Godfather, The</td>\n",
              "      <td>Action|Crime|Drama</td>\n",
              "      <td>1972</td>\n",
              "    </tr>\n",
              "    <tr>\n",
              "      <td>377</td>\n",
              "      <td>745</td>\n",
              "      <td>4.520548</td>\n",
              "      <td>657</td>\n",
              "      <td>Close Shave, A</td>\n",
              "      <td>Animation|Comedy|Thriller</td>\n",
              "      <td>1995</td>\n",
              "    </tr>\n",
              "    <tr>\n",
              "      <td>39</td>\n",
              "      <td>50</td>\n",
              "      <td>4.517106</td>\n",
              "      <td>1783</td>\n",
              "      <td>Usual Suspects, The</td>\n",
              "      <td>Crime|Thriller</td>\n",
              "      <td>1995</td>\n",
              "    </tr>\n",
              "    <tr>\n",
              "      <td>294</td>\n",
              "      <td>527</td>\n",
              "      <td>4.510417</td>\n",
              "      <td>2304</td>\n",
              "      <td>Schindler's List</td>\n",
              "      <td>Drama|War</td>\n",
              "      <td>1993</td>\n",
              "    </tr>\n",
              "    <tr>\n",
              "      <td>568</td>\n",
              "      <td>1148</td>\n",
              "      <td>4.507937</td>\n",
              "      <td>882</td>\n",
              "      <td>Wrong Trousers, The</td>\n",
              "      <td>Animation|Comedy</td>\n",
              "      <td>1993</td>\n",
              "    </tr>\n",
              "    <tr>\n",
              "      <td>447</td>\n",
              "      <td>922</td>\n",
              "      <td>4.491489</td>\n",
              "      <td>470</td>\n",
              "      <td>Sunset Blvd. (a.k.a. Sunset Boulevard)</td>\n",
              "      <td>Film-Noir</td>\n",
              "      <td>1950</td>\n",
              "    </tr>\n",
              "    <tr>\n",
              "      <td>591</td>\n",
              "      <td>1198</td>\n",
              "      <td>4.477725</td>\n",
              "      <td>2514</td>\n",
              "      <td>Raiders of the Lost Ark</td>\n",
              "      <td>Action|Adventure</td>\n",
              "      <td>1981</td>\n",
              "    </tr>\n",
              "    <tr>\n",
              "      <td>430</td>\n",
              "      <td>904</td>\n",
              "      <td>4.476190</td>\n",
              "      <td>1050</td>\n",
              "      <td>Rear Window</td>\n",
              "      <td>Mystery|Thriller</td>\n",
              "      <td>1954</td>\n",
              "    </tr>\n",
              "    <tr>\n",
              "      <td>576</td>\n",
              "      <td>1178</td>\n",
              "      <td>4.473913</td>\n",
              "      <td>230</td>\n",
              "      <td>Paths of Glory</td>\n",
              "      <td>Drama|War</td>\n",
              "      <td>1957</td>\n",
              "    </tr>\n",
              "    <tr>\n",
              "      <td>142</td>\n",
              "      <td>260</td>\n",
              "      <td>4.453694</td>\n",
              "      <td>2991</td>\n",
              "      <td>Star Wars: Episode IV - A New Hope</td>\n",
              "      <td>Action|Adventure|Fantasy|Sci-Fi</td>\n",
              "      <td>1977</td>\n",
              "    </tr>\n",
              "    <tr>\n",
              "      <td>604</td>\n",
              "      <td>1212</td>\n",
              "      <td>4.452083</td>\n",
              "      <td>480</td>\n",
              "      <td>Third Man, The</td>\n",
              "      <td>Mystery|Thriller</td>\n",
              "      <td>1949</td>\n",
              "    </tr>\n",
              "    <tr>\n",
              "      <td>379</td>\n",
              "      <td>750</td>\n",
              "      <td>4.449890</td>\n",
              "      <td>1367</td>\n",
              "      <td>Dr. Strangelove or: How I Learned to Stop Worr...</td>\n",
              "      <td>Sci-Fi|War</td>\n",
              "      <td>1963</td>\n",
              "    </tr>\n",
              "    <tr>\n",
              "      <td>367</td>\n",
              "      <td>720</td>\n",
              "      <td>4.426941</td>\n",
              "      <td>438</td>\n",
              "      <td>Wallace &amp; Gromit: The Best of Aardman Animation</td>\n",
              "      <td>Animation</td>\n",
              "      <td>1996</td>\n",
              "    </tr>\n",
              "    <tr>\n",
              "      <td>599</td>\n",
              "      <td>1207</td>\n",
              "      <td>4.425647</td>\n",
              "      <td>928</td>\n",
              "      <td>To Kill a Mockingbird</td>\n",
              "      <td>Drama</td>\n",
              "      <td>1962</td>\n",
              "    </tr>\n",
              "    <tr>\n",
              "      <td>1781</td>\n",
              "      <td>3435</td>\n",
              "      <td>4.415608</td>\n",
              "      <td>551</td>\n",
              "      <td>Double Indemnity</td>\n",
              "      <td>Crime|Film-Noir</td>\n",
              "      <td>1944</td>\n",
              "    </tr>\n",
              "    <tr>\n",
              "      <td>438</td>\n",
              "      <td>912</td>\n",
              "      <td>4.412822</td>\n",
              "      <td>1669</td>\n",
              "      <td>Casablanca</td>\n",
              "      <td>Drama|Romance|War</td>\n",
              "      <td>1942</td>\n",
              "    </tr>\n",
              "    <tr>\n",
              "      <td>1451</td>\n",
              "      <td>2762</td>\n",
              "      <td>4.406263</td>\n",
              "      <td>2459</td>\n",
              "      <td>Sixth Sense, The</td>\n",
              "      <td>Thriller</td>\n",
              "      <td>1999</td>\n",
              "    </tr>\n",
              "    <tr>\n",
              "      <td>1587</td>\n",
              "      <td>3030</td>\n",
              "      <td>4.404651</td>\n",
              "      <td>215</td>\n",
              "      <td>Yojimbo</td>\n",
              "      <td>Comedy|Drama|Western</td>\n",
              "      <td>1961</td>\n",
              "    </tr>\n",
              "  </tbody>\n",
              "</table>\n",
              "</div>"
            ],
            "text/plain": [
              "      MovieID      mean  size  \\\n",
              "1021     2019  4.560510   628   \n",
              "173       318  4.554558  2227   \n",
              "416       858  4.524966  2223   \n",
              "377       745  4.520548   657   \n",
              "39         50  4.517106  1783   \n",
              "294       527  4.510417  2304   \n",
              "568      1148  4.507937   882   \n",
              "447       922  4.491489   470   \n",
              "591      1198  4.477725  2514   \n",
              "430       904  4.476190  1050   \n",
              "576      1178  4.473913   230   \n",
              "142       260  4.453694  2991   \n",
              "604      1212  4.452083   480   \n",
              "379       750  4.449890  1367   \n",
              "367       720  4.426941   438   \n",
              "599      1207  4.425647   928   \n",
              "1781     3435  4.415608   551   \n",
              "438       912  4.412822  1669   \n",
              "1451     2762  4.406263  2459   \n",
              "1587     3030  4.404651   215   \n",
              "\n",
              "                                                  Title  \\\n",
              "1021  Seven Samurai (The Magnificent Seven) (Shichin...   \n",
              "173                           Shawshank Redemption, The   \n",
              "416                                      Godfather, The   \n",
              "377                                      Close Shave, A   \n",
              "39                                  Usual Suspects, The   \n",
              "294                                    Schindler's List   \n",
              "568                                 Wrong Trousers, The   \n",
              "447              Sunset Blvd. (a.k.a. Sunset Boulevard)   \n",
              "591                             Raiders of the Lost Ark   \n",
              "430                                         Rear Window   \n",
              "576                                      Paths of Glory   \n",
              "142                  Star Wars: Episode IV - A New Hope   \n",
              "604                                      Third Man, The   \n",
              "379   Dr. Strangelove or: How I Learned to Stop Worr...   \n",
              "367     Wallace & Gromit: The Best of Aardman Animation   \n",
              "599                               To Kill a Mockingbird   \n",
              "1781                                   Double Indemnity   \n",
              "438                                          Casablanca   \n",
              "1451                                   Sixth Sense, The   \n",
              "1587                                            Yojimbo   \n",
              "\n",
              "                               Genres  Year  \n",
              "1021                     Action|Drama  1954  \n",
              "173                             Drama  1994  \n",
              "416                Action|Crime|Drama  1972  \n",
              "377         Animation|Comedy|Thriller  1995  \n",
              "39                     Crime|Thriller  1995  \n",
              "294                         Drama|War  1993  \n",
              "568                  Animation|Comedy  1993  \n",
              "447                         Film-Noir  1950  \n",
              "591                  Action|Adventure  1981  \n",
              "430                  Mystery|Thriller  1954  \n",
              "576                         Drama|War  1957  \n",
              "142   Action|Adventure|Fantasy|Sci-Fi  1977  \n",
              "604                  Mystery|Thriller  1949  \n",
              "379                        Sci-Fi|War  1963  \n",
              "367                         Animation  1996  \n",
              "599                             Drama  1962  \n",
              "1781                  Crime|Film-Noir  1944  \n",
              "438                 Drama|Romance|War  1942  \n",
              "1451                         Thriller  1999  \n",
              "1587             Comedy|Drama|Western  1961  "
            ]
          },
          "metadata": {
            "tags": []
          },
          "execution_count": 131
        }
      ]
    },
    {
      "cell_type": "markdown",
      "metadata": {
        "id": "EkA3O_Qdss8r",
        "colab_type": "text"
      },
      "source": [
        "# 11. Jaki jest najlepszy film według kobiet i według mężczyzn (zachowując warunek w ten sposób, że musi być co najmniej 100 kobiet żeby liczył się w grupie kobiet, i co najmniej 100 mężczyzn, żeby się liczył w grupie mężczyzn)"
      ]
    },
    {
      "cell_type": "code",
      "metadata": {
        "collapsed": true,
        "id": "KupkhB6ass8r",
        "colab_type": "code",
        "colab": {},
        "outputId": "7fee375c-2b90-46d2-cedd-2df4090d147a"
      },
      "source": [
        "oceny = pd.merge(ratings, users)[[\"UserID\", \"MovieID\", \"Rating\", \"Gender\"]]\n",
        "oceny_srednie = oceny.groupby([\"MovieID\", \"Gender\"])[\"Rating\"].agg([\"mean\", \"size\"])\\\n",
        "    .reset_index().query(\"size>100\")\n",
        "oceny_srednie"
      ],
      "execution_count": null,
      "outputs": [
        {
          "output_type": "execute_result",
          "data": {
            "text/html": [
              "<div>\n",
              "<style scoped>\n",
              "    .dataframe tbody tr th:only-of-type {\n",
              "        vertical-align: middle;\n",
              "    }\n",
              "\n",
              "    .dataframe tbody tr th {\n",
              "        vertical-align: top;\n",
              "    }\n",
              "\n",
              "    .dataframe thead th {\n",
              "        text-align: right;\n",
              "    }\n",
              "</style>\n",
              "<table border=\"1\" class=\"dataframe\">\n",
              "  <thead>\n",
              "    <tr style=\"text-align: right;\">\n",
              "      <th></th>\n",
              "      <th>MovieID</th>\n",
              "      <th>Gender</th>\n",
              "      <th>mean</th>\n",
              "      <th>size</th>\n",
              "    </tr>\n",
              "  </thead>\n",
              "  <tbody>\n",
              "    <tr>\n",
              "      <td>0</td>\n",
              "      <td>1</td>\n",
              "      <td>F</td>\n",
              "      <td>4.187817</td>\n",
              "      <td>591</td>\n",
              "    </tr>\n",
              "    <tr>\n",
              "      <td>1</td>\n",
              "      <td>1</td>\n",
              "      <td>M</td>\n",
              "      <td>4.130552</td>\n",
              "      <td>1486</td>\n",
              "    </tr>\n",
              "    <tr>\n",
              "      <td>2</td>\n",
              "      <td>2</td>\n",
              "      <td>F</td>\n",
              "      <td>3.278409</td>\n",
              "      <td>176</td>\n",
              "    </tr>\n",
              "    <tr>\n",
              "      <td>3</td>\n",
              "      <td>2</td>\n",
              "      <td>M</td>\n",
              "      <td>3.175238</td>\n",
              "      <td>525</td>\n",
              "    </tr>\n",
              "    <tr>\n",
              "      <td>4</td>\n",
              "      <td>3</td>\n",
              "      <td>F</td>\n",
              "      <td>3.073529</td>\n",
              "      <td>136</td>\n",
              "    </tr>\n",
              "    <tr>\n",
              "      <td>...</td>\n",
              "      <td>...</td>\n",
              "      <td>...</td>\n",
              "      <td>...</td>\n",
              "      <td>...</td>\n",
              "    </tr>\n",
              "    <tr>\n",
              "      <td>7142</td>\n",
              "      <td>3948</td>\n",
              "      <td>F</td>\n",
              "      <td>3.619048</td>\n",
              "      <td>231</td>\n",
              "    </tr>\n",
              "    <tr>\n",
              "      <td>7143</td>\n",
              "      <td>3948</td>\n",
              "      <td>M</td>\n",
              "      <td>3.641838</td>\n",
              "      <td>631</td>\n",
              "    </tr>\n",
              "    <tr>\n",
              "      <td>7145</td>\n",
              "      <td>3949</td>\n",
              "      <td>M</td>\n",
              "      <td>4.174107</td>\n",
              "      <td>224</td>\n",
              "    </tr>\n",
              "    <tr>\n",
              "      <td>7150</td>\n",
              "      <td>3952</td>\n",
              "      <td>F</td>\n",
              "      <td>3.761905</td>\n",
              "      <td>105</td>\n",
              "    </tr>\n",
              "    <tr>\n",
              "      <td>7151</td>\n",
              "      <td>3952</td>\n",
              "      <td>M</td>\n",
              "      <td>3.787986</td>\n",
              "      <td>283</td>\n",
              "    </tr>\n",
              "  </tbody>\n",
              "</table>\n",
              "<p>2560 rows × 4 columns</p>\n",
              "</div>"
            ],
            "text/plain": [
              "      MovieID Gender      mean  size\n",
              "0           1      F  4.187817   591\n",
              "1           1      M  4.130552  1486\n",
              "2           2      F  3.278409   176\n",
              "3           2      M  3.175238   525\n",
              "4           3      F  3.073529   136\n",
              "...       ...    ...       ...   ...\n",
              "7142     3948      F  3.619048   231\n",
              "7143     3948      M  3.641838   631\n",
              "7145     3949      M  4.174107   224\n",
              "7150     3952      F  3.761905   105\n",
              "7151     3952      M  3.787986   283\n",
              "\n",
              "[2560 rows x 4 columns]"
            ]
          },
          "metadata": {
            "tags": []
          },
          "execution_count": 136
        }
      ]
    },
    {
      "cell_type": "markdown",
      "metadata": {
        "id": "EYFFWXdass8s",
        "colab_type": "text"
      },
      "source": [
        "Padło pytanie: a gdyby chcieć zrobić warunek, że dopuszczamy film jeśli jednocześnie ma 100 głosów wśród mężczyzn i kobiet. Zrobimy tak: pogrupujemy i wybierzemy minimum. To minimum powinno być większe niż 100."
      ]
    },
    {
      "cell_type": "code",
      "metadata": {
        "collapsed": true,
        "id": "Yuw9BDCYss8s",
        "colab_type": "code",
        "colab": {},
        "outputId": "52fb8e84-0b42-4496-a933-a44e6636f361"
      },
      "source": [
        "do_odrzucenia = oceny_srednie.groupby(\"MovieID\")[\"size\"].min()\n",
        "do_odrzucenia = do_odrzucenia[do_odrzucenia < 500] # powinno być 100, ale takich filmów nie ma, więc dla testu robimy 500\n",
        "do_odrzucenia"
      ],
      "execution_count": null,
      "outputs": [
        {
          "output_type": "execute_result",
          "data": {
            "text/plain": [
              "MovieID\n",
              "2       176\n",
              "3       136\n",
              "5       108\n",
              "6       129\n",
              "7       204\n",
              "       ... \n",
              "3932    188\n",
              "3937    125\n",
              "3948    231\n",
              "3949    224\n",
              "3952    105\n",
              "Name: size, Length: 1710, dtype: int64"
            ]
          },
          "metadata": {
            "tags": []
          },
          "execution_count": 144
        }
      ]
    },
    {
      "cell_type": "code",
      "metadata": {
        "collapsed": true,
        "id": "WHpIBbNoss8u",
        "colab_type": "code",
        "colab": {},
        "outputId": "6774d1bb-61ce-46c8-bbbf-a1ac70b29a8d"
      },
      "source": [
        "oceny_srednie[~oceny_srednie.MovieID.isin(do_odrzucenia.index)]"
      ],
      "execution_count": null,
      "outputs": [
        {
          "output_type": "execute_result",
          "data": {
            "text/html": [
              "<div>\n",
              "<style scoped>\n",
              "    .dataframe tbody tr th:only-of-type {\n",
              "        vertical-align: middle;\n",
              "    }\n",
              "\n",
              "    .dataframe tbody tr th {\n",
              "        vertical-align: top;\n",
              "    }\n",
              "\n",
              "    .dataframe thead th {\n",
              "        text-align: right;\n",
              "    }\n",
              "</style>\n",
              "<table border=\"1\" class=\"dataframe\">\n",
              "  <thead>\n",
              "    <tr style=\"text-align: right;\">\n",
              "      <th></th>\n",
              "      <th>MovieID</th>\n",
              "      <th>Gender</th>\n",
              "      <th>mean</th>\n",
              "      <th>size</th>\n",
              "    </tr>\n",
              "  </thead>\n",
              "  <tbody>\n",
              "    <tr>\n",
              "      <td>0</td>\n",
              "      <td>1</td>\n",
              "      <td>F</td>\n",
              "      <td>4.187817</td>\n",
              "      <td>591</td>\n",
              "    </tr>\n",
              "    <tr>\n",
              "      <td>1</td>\n",
              "      <td>1</td>\n",
              "      <td>M</td>\n",
              "      <td>4.130552</td>\n",
              "      <td>1486</td>\n",
              "    </tr>\n",
              "    <tr>\n",
              "      <td>65</td>\n",
              "      <td>34</td>\n",
              "      <td>F</td>\n",
              "      <td>3.953368</td>\n",
              "      <td>579</td>\n",
              "    </tr>\n",
              "    <tr>\n",
              "      <td>66</td>\n",
              "      <td>34</td>\n",
              "      <td>M</td>\n",
              "      <td>3.860922</td>\n",
              "      <td>1172</td>\n",
              "    </tr>\n",
              "    <tr>\n",
              "      <td>184</td>\n",
              "      <td>95</td>\n",
              "      <td>M</td>\n",
              "      <td>2.900000</td>\n",
              "      <td>540</td>\n",
              "    </tr>\n",
              "    <tr>\n",
              "      <td>...</td>\n",
              "      <td>...</td>\n",
              "      <td>...</td>\n",
              "      <td>...</td>\n",
              "      <td>...</td>\n",
              "    </tr>\n",
              "    <tr>\n",
              "      <td>5531</td>\n",
              "      <td>3070</td>\n",
              "      <td>M</td>\n",
              "      <td>3.402321</td>\n",
              "      <td>517</td>\n",
              "    </tr>\n",
              "    <tr>\n",
              "      <td>6559</td>\n",
              "      <td>3638</td>\n",
              "      <td>M</td>\n",
              "      <td>3.203833</td>\n",
              "      <td>574</td>\n",
              "    </tr>\n",
              "    <tr>\n",
              "      <td>6670</td>\n",
              "      <td>3697</td>\n",
              "      <td>M</td>\n",
              "      <td>2.888702</td>\n",
              "      <td>593</td>\n",
              "    </tr>\n",
              "    <tr>\n",
              "      <td>6672</td>\n",
              "      <td>3698</td>\n",
              "      <td>M</td>\n",
              "      <td>3.211094</td>\n",
              "      <td>649</td>\n",
              "    </tr>\n",
              "    <tr>\n",
              "      <td>6755</td>\n",
              "      <td>3740</td>\n",
              "      <td>M</td>\n",
              "      <td>3.485030</td>\n",
              "      <td>501</td>\n",
              "    </tr>\n",
              "  </tbody>\n",
              "</table>\n",
              "<p>81 rows × 4 columns</p>\n",
              "</div>"
            ],
            "text/plain": [
              "      MovieID Gender      mean  size\n",
              "0           1      F  4.187817   591\n",
              "1           1      M  4.130552  1486\n",
              "65         34      F  3.953368   579\n",
              "66         34      M  3.860922  1172\n",
              "184        95      M  2.900000   540\n",
              "...       ...    ...       ...   ...\n",
              "5531     3070      M  3.402321   517\n",
              "6559     3638      M  3.203833   574\n",
              "6670     3697      M  2.888702   593\n",
              "6672     3698      M  3.211094   649\n",
              "6755     3740      M  3.485030   501\n",
              "\n",
              "[81 rows x 4 columns]"
            ]
          },
          "metadata": {
            "tags": []
          },
          "execution_count": 145
        }
      ]
    },
    {
      "cell_type": "markdown",
      "metadata": {
        "id": "PlG-ynjWss8w",
        "colab_type": "text"
      },
      "source": [
        "Wracamy do zadania:"
      ]
    },
    {
      "cell_type": "code",
      "metadata": {
        "id": "RtXOW0eXss8w",
        "colab_type": "code",
        "colab": {},
        "outputId": "dfea2068-051c-47ce-9220-245edf6f65c3"
      },
      "source": [
        "pd.merge(movies, oceny_srednie).sort_values(by=\"mean\",ascending=False)\\\n",
        "    .drop_duplicates(subset=\"Gender\", keep=\"first\")"
      ],
      "execution_count": null,
      "outputs": [
        {
          "output_type": "execute_result",
          "data": {
            "text/html": [
              "<div>\n",
              "<style scoped>\n",
              "    .dataframe tbody tr th:only-of-type {\n",
              "        vertical-align: middle;\n",
              "    }\n",
              "\n",
              "    .dataframe tbody tr th {\n",
              "        vertical-align: top;\n",
              "    }\n",
              "\n",
              "    .dataframe thead th {\n",
              "        text-align: right;\n",
              "    }\n",
              "</style>\n",
              "<table border=\"1\" class=\"dataframe\">\n",
              "  <thead>\n",
              "    <tr style=\"text-align: right;\">\n",
              "      <th></th>\n",
              "      <th>MovieID</th>\n",
              "      <th>Title</th>\n",
              "      <th>Genres</th>\n",
              "      <th>Year</th>\n",
              "      <th>Gender</th>\n",
              "      <th>mean</th>\n",
              "      <th>size</th>\n",
              "    </tr>\n",
              "  </thead>\n",
              "  <tbody>\n",
              "    <tr>\n",
              "      <td>474</td>\n",
              "      <td>745</td>\n",
              "      <td>Close Shave, A</td>\n",
              "      <td>Animation|Comedy|Thriller</td>\n",
              "      <td>1995</td>\n",
              "      <td>F</td>\n",
              "      <td>4.644444</td>\n",
              "      <td>180</td>\n",
              "    </tr>\n",
              "    <tr>\n",
              "      <td>521</td>\n",
              "      <td>858</td>\n",
              "      <td>Godfather, The</td>\n",
              "      <td>Action|Crime|Drama</td>\n",
              "      <td>1972</td>\n",
              "      <td>M</td>\n",
              "      <td>4.583333</td>\n",
              "      <td>1740</td>\n",
              "    </tr>\n",
              "  </tbody>\n",
              "</table>\n",
              "</div>"
            ],
            "text/plain": [
              "     MovieID           Title                     Genres  Year Gender  \\\n",
              "474      745  Close Shave, A  Animation|Comedy|Thriller  1995      F   \n",
              "521      858  Godfather, The         Action|Crime|Drama  1972      M   \n",
              "\n",
              "         mean  size  \n",
              "474  4.644444   180  \n",
              "521  4.583333  1740  "
            ]
          },
          "metadata": {
            "tags": []
          },
          "execution_count": 148
        }
      ]
    },
    {
      "cell_type": "markdown",
      "metadata": {
        "id": "jdp-cGC0ss8x",
        "colab_type": "text"
      },
      "source": [
        "# 12. Jaki jest średni rok oglądanego filmu w poszczególnych grupach wiekowych"
      ]
    },
    {
      "cell_type": "code",
      "metadata": {
        "id": "_sP31e7Rss80",
        "colab_type": "code",
        "colab": {},
        "outputId": "a74aa9ec-9ac4-4f14-8706-ff155a8f669d"
      },
      "source": [
        "ratings_users_movies = pd.merge(pd.merge(users, ratings), movies)\n",
        "ratings_users_movies.groupby(\"Age\")[\"Year\"].mean()"
      ],
      "execution_count": null,
      "outputs": [
        {
          "output_type": "execute_result",
          "data": {
            "text/plain": [
              "Age\n",
              "1     1988.981699\n",
              "18    1989.701982\n",
              "25    1987.972972\n",
              "35    1984.965478\n",
              "45    1983.500520\n",
              "50    1982.483211\n",
              "56    1981.549097\n",
              "Name: Year, dtype: float64"
            ]
          },
          "metadata": {
            "tags": []
          },
          "execution_count": 150
        }
      ]
    },
    {
      "cell_type": "markdown",
      "metadata": {
        "id": "f_51xQhCss81",
        "colab_type": "text"
      },
      "source": [
        "# 13. Progress bar"
      ]
    },
    {
      "cell_type": "markdown",
      "metadata": {
        "id": "3CFNjLHjss81",
        "colab_type": "text"
      },
      "source": [
        "(w terminalu) pip install tqdm --upgrade\n",
        "\n",
        "(w jupyterze) !pip install tqdm --upgrade"
      ]
    },
    {
      "cell_type": "code",
      "metadata": {
        "id": "FtH3uwQBss81",
        "colab_type": "code",
        "colab": {}
      },
      "source": [
        "from tqdm.notebook import tqdm"
      ],
      "execution_count": null,
      "outputs": []
    },
    {
      "cell_type": "code",
      "metadata": {
        "id": "xeQqONsrss82",
        "colab_type": "code",
        "colab": {},
        "outputId": "8f8f943d-1bfb-494c-90f3-a2f74b91efa3"
      },
      "source": [
        "for i in tqdm(range(15)):\n",
        "    n = 4000\n",
        "    a = np.random.uniform(0,1,(n, n))\n",
        "    b = np.random.uniform(0,1,(n, n))\n",
        "    c = a @ b"
      ],
      "execution_count": null,
      "outputs": [
        {
          "output_type": "display_data",
          "data": {
            "application/vnd.jupyter.widget-view+json": {
              "model_id": "e85731e6773f474faff670e11310ec3b",
              "version_major": 2,
              "version_minor": 0
            },
            "text/plain": [
              "HBox(children=(IntProgress(value=0, max=15), HTML(value='')))"
            ]
          },
          "metadata": {
            "tags": []
          }
        },
        {
          "output_type": "stream",
          "text": [
            "\n"
          ],
          "name": "stdout"
        }
      ]
    },
    {
      "cell_type": "code",
      "metadata": {
        "id": "nuwZ-T-Ess83",
        "colab_type": "code",
        "colab": {}
      },
      "source": [
        "from tqdm import tqdm"
      ],
      "execution_count": null,
      "outputs": []
    },
    {
      "cell_type": "code",
      "metadata": {
        "id": "0ANXnALass86",
        "colab_type": "code",
        "colab": {},
        "outputId": "d2c171da-d302-4a2a-cf03-6a298a45a7b0"
      },
      "source": [
        "for i in tqdm(range(15)):\n",
        "    n = 4000\n",
        "    a = np.random.uniform(0,1,(n, n))\n",
        "    b = np.random.uniform(0,1,(n, n))\n",
        "    c = a @ b"
      ],
      "execution_count": null,
      "outputs": [
        {
          "output_type": "stream",
          "text": [
            "100%|██████████| 15/15 [01:00<00:00,  4.03s/it]\n"
          ],
          "name": "stderr"
        }
      ]
    }
  ]
}